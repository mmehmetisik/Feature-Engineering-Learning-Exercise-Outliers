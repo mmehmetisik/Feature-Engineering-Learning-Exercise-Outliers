{
 "cells": [
  {
   "cell_type": "markdown",
   "id": "313a1887",
   "metadata": {
    "papermill": {
     "duration": 0.016338,
     "end_time": "2023-07-06T21:33:39.455621",
     "exception": false,
     "start_time": "2023-07-06T21:33:39.439283",
     "status": "completed"
    },
    "tags": []
   },
   "source": [
    "# What Is Feature Engineering  (Outliers) ?\n",
    "\n",
    "- Feature engineering is the process of creating or selecting relevant features from raw data to improve the performance and accuracy of machine learning models. It involves transforming the data into a format that is suitable for the model to learn from. Outliers, on the other hand, refer to data points that deviate significantly from the majority of the data.\n",
    "\n",
    "- When dealing with outliers in feature engineering, the goal is to handle or mitigate their impact on the model's performance. Outliers can have a negative effect on the model's ability to generalize and make accurate predictions. Here are a few approaches to address outliers during feature engineering:\n",
    "\n",
    "1. **Detection:** The first step is to identify outliers in the dataset. This can be done using statistical techniques such as the z-score, which measures how many standard deviations a data point is away from the mean. Other methods include the interquartile range (IQR) and visualization techniques like box plots.\n",
    "\n",
    "2. **Removal:** In some cases, outliers can be removed from the dataset if they are determined to be erroneous or data entry errors. However, this should be done with caution, as removing valid outliers can result in loss of valuable information. Removing outliers should only be done after careful consideration and understanding of the data and the problem domain.\n",
    "\n",
    "3. **Transformation:** Instead of removing outliers, they can be transformed or treated to minimize their impact. For example, one common transformation technique is Winsorization, where outliers are replaced with a predetermined value that is within a certain range. Another approach is log transformation, which can help reduce the impact of extreme values.\n",
    "\n",
    "4. **Binning:** Binning involves dividing continuous features into bins or intervals and replacing the original values with bin labels or ordinal values. This can help mitigate the influence of outliers by grouping them with other values into a single bin.\n",
    "\n",
    "5. Engineering new features: Outliers can sometimes contain valuable information or represent unique patterns in the data. In such cases, creating new features that capture the essence of outliers can be beneficial. For example, creating binary features to indicate the presence or absence of outliers or using clustering algorithms to assign outlier data points to specific groups.\n",
    "\n",
    "- It's important to note that the approach to handling outliers during feature engineering may vary depending on the specific dataset, problem domain, and the goals of the analysis."
   ]
  },
  {
   "cell_type": "markdown",
   "id": "f55da561",
   "metadata": {
    "papermill": {
     "duration": 0.014645,
     "end_time": "2023-07-06T21:33:39.485238",
     "exception": false,
     "start_time": "2023-07-06T21:33:39.470593",
     "status": "completed"
    },
    "tags": []
   },
   "source": [
    "![](https://cdn.analyticsvidhya.com/wp-content/uploads/2020/11/outlier.png)"
   ]
  },
  {
   "cell_type": "markdown",
   "id": "e3f1dc18",
   "metadata": {
    "papermill": {
     "duration": 0.014597,
     "end_time": "2023-07-06T21:33:39.514696",
     "exception": false,
     "start_time": "2023-07-06T21:33:39.500099",
     "status": "completed"
    },
    "tags": []
   },
   "source": [
    "# IF YOUR DATA IS BAD, YOUR MACHINE LEARNING TOOLS WILL BE BAD\n"
   ]
  },
  {
   "cell_type": "markdown",
   "id": "37451016",
   "metadata": {
    "papermill": {
     "duration": 0.014384,
     "end_time": "2023-07-06T21:33:39.543855",
     "exception": false,
     "start_time": "2023-07-06T21:33:39.529471",
     "status": "completed"
    },
    "tags": []
   },
   "source": [
    "# In this exercise we will learn how to deal with outliers."
   ]
  },
  {
   "cell_type": "code",
   "execution_count": 1,
   "id": "d8dde7b1",
   "metadata": {
    "execution": {
     "iopub.execute_input": "2023-07-06T21:33:39.574927Z",
     "iopub.status.busy": "2023-07-06T21:33:39.574346Z",
     "iopub.status.idle": "2023-07-06T21:33:41.417079Z",
     "shell.execute_reply": "2023-07-06T21:33:41.416075Z"
    },
    "papermill": {
     "duration": 1.861069,
     "end_time": "2023-07-06T21:33:41.419541",
     "exception": false,
     "start_time": "2023-07-06T21:33:39.558472",
     "status": "completed"
    },
    "tags": []
   },
   "outputs": [],
   "source": [
    "# import Required Libraries\n",
    "\n",
    "import numpy as np\n",
    "import pandas as pd\n",
    "import seaborn as sns\n",
    "\n",
    "from matplotlib import pyplot as plt\n",
    "from datetime import date\n",
    "from sklearn.metrics import accuracy_score\n",
    "from sklearn.model_selection import train_test_split\n",
    "from sklearn.neighbors import LocalOutlierFactor # => Imported for multivariate outlier detection method.\n",
    "from sklearn.preprocessing import MinMaxScaler, LabelEncoder, StandardScaler, RobustScaler"
   ]
  },
  {
   "cell_type": "code",
   "execution_count": 2,
   "id": "528cdf38",
   "metadata": {
    "execution": {
     "iopub.execute_input": "2023-07-06T21:33:41.450023Z",
     "iopub.status.busy": "2023-07-06T21:33:41.449649Z",
     "iopub.status.idle": "2023-07-06T21:33:41.454832Z",
     "shell.execute_reply": "2023-07-06T21:33:41.453886Z"
    },
    "papermill": {
     "duration": 0.022373,
     "end_time": "2023-07-06T21:33:41.456741",
     "exception": false,
     "start_time": "2023-07-06T21:33:41.434368",
     "status": "completed"
    },
    "tags": []
   },
   "outputs": [],
   "source": [
    "# Adjusting Row Column Settings\n",
    "\n",
    "pd.set_option('display.max_columns', None)\n",
    "pd.set_option('display.max_rows', None)\n",
    "pd.set_option('display.float_format', lambda x: '%.3f' % x)\n",
    "pd.set_option('display.width', 500)"
   ]
  },
  {
   "cell_type": "markdown",
   "id": "75421c40",
   "metadata": {
    "papermill": {
     "duration": 0.013891,
     "end_time": "2023-07-06T21:33:41.485014",
     "exception": false,
     "start_time": "2023-07-06T21:33:41.471123",
     "status": "completed"
    },
    "tags": []
   },
   "source": [
    "# Titanic Dataset"
   ]
  },
  {
   "cell_type": "code",
   "execution_count": 3,
   "id": "84b322d7",
   "metadata": {
    "execution": {
     "iopub.execute_input": "2023-07-06T21:33:41.517444Z",
     "iopub.status.busy": "2023-07-06T21:33:41.517133Z",
     "iopub.status.idle": "2023-07-06T21:33:41.547103Z",
     "shell.execute_reply": "2023-07-06T21:33:41.545592Z"
    },
    "papermill": {
     "duration": 0.048988,
     "end_time": "2023-07-06T21:33:41.549508",
     "exception": false,
     "start_time": "2023-07-06T21:33:41.500520",
     "status": "completed"
    },
    "tags": []
   },
   "outputs": [],
   "source": [
    "# Loading the Data Set\n",
    "\n",
    "df_titanic = pd.read_csv('/kaggle/input/data-science-day1-titanic/DSB_Day1_Titanic_train.csv')"
   ]
  },
  {
   "cell_type": "code",
   "execution_count": 4,
   "id": "587ad5bd",
   "metadata": {
    "execution": {
     "iopub.execute_input": "2023-07-06T21:33:41.580627Z",
     "iopub.status.busy": "2023-07-06T21:33:41.580328Z",
     "iopub.status.idle": "2023-07-06T21:33:41.626931Z",
     "shell.execute_reply": "2023-07-06T21:33:41.625808Z"
    },
    "papermill": {
     "duration": 0.064935,
     "end_time": "2023-07-06T21:33:41.629184",
     "exception": false,
     "start_time": "2023-07-06T21:33:41.564249",
     "status": "completed"
    },
    "tags": []
   },
   "outputs": [
    {
     "name": "stdout",
     "output_type": "stream",
     "text": [
      "##################### Shape #####################\n",
      "(891, 12)\n",
      "##################### Types #####################\n",
      "PassengerId      int64\n",
      "Survived         int64\n",
      "Pclass           int64\n",
      "Name            object\n",
      "Sex             object\n",
      "Age            float64\n",
      "SibSp            int64\n",
      "Parch            int64\n",
      "Ticket          object\n",
      "Fare           float64\n",
      "Cabin           object\n",
      "Embarked        object\n",
      "dtype: object\n",
      "##################### Head #####################\n",
      "   PassengerId  Survived  Pclass                                               Name     Sex    Age  SibSp  Parch            Ticket   Fare Cabin Embarked\n",
      "0            1         0       3                            Braund, Mr. Owen Harris    male 22.000      1      0         A/5 21171  7.250   NaN        S\n",
      "1            2         1       1  Cumings, Mrs. John Bradley (Florence Briggs Th...  female 38.000      1      0          PC 17599 71.283   C85        C\n",
      "2            3         1       3                             Heikkinen, Miss. Laina  female 26.000      0      0  STON/O2. 3101282  7.925   NaN        S\n",
      "3            4         1       1       Futrelle, Mrs. Jacques Heath (Lily May Peel)  female 35.000      1      0            113803 53.100  C123        S\n",
      "4            5         0       3                           Allen, Mr. William Henry    male 35.000      0      0            373450  8.050   NaN        S\n",
      "##################### Tail #####################\n",
      "     PassengerId  Survived  Pclass                                      Name     Sex    Age  SibSp  Parch      Ticket   Fare Cabin Embarked\n",
      "886          887         0       2                     Montvila, Rev. Juozas    male 27.000      0      0      211536 13.000   NaN        S\n",
      "887          888         1       1              Graham, Miss. Margaret Edith  female 19.000      0      0      112053 30.000   B42        S\n",
      "888          889         0       3  Johnston, Miss. Catherine Helen \"Carrie\"  female    NaN      1      2  W./C. 6607 23.450   NaN        S\n",
      "889          890         1       1                     Behr, Mr. Karl Howell    male 26.000      0      0      111369 30.000  C148        C\n",
      "890          891         0       3                       Dooley, Mr. Patrick    male 32.000      0      0      370376  7.750   NaN        Q\n",
      "##################### NA #####################\n",
      "PassengerId      0\n",
      "Survived         0\n",
      "Pclass           0\n",
      "Name             0\n",
      "Sex              0\n",
      "Age            177\n",
      "SibSp            0\n",
      "Parch            0\n",
      "Ticket           0\n",
      "Fare             0\n",
      "Cabin          687\n",
      "Embarked         2\n",
      "dtype: int64\n",
      "##################### Quantiles #####################\n",
      "              count    mean     std   min    0%     5%     50%     95%     99%    100%     max\n",
      "PassengerId 891.000 446.000 257.354 1.000 1.000 45.500 446.000 846.500 882.100 891.000 891.000\n",
      "Survived    891.000   0.384   0.487 0.000 0.000  0.000   0.000   1.000   1.000   1.000   1.000\n",
      "Pclass      891.000   2.309   0.836 1.000 1.000  1.000   3.000   3.000   3.000   3.000   3.000\n",
      "Age         714.000  29.699  14.526 0.420 0.420  4.000  28.000  56.000  65.870  80.000  80.000\n",
      "SibSp       891.000   0.523   1.103 0.000 0.000  0.000   0.000   3.000   5.000   8.000   8.000\n",
      "Parch       891.000   0.382   0.806 0.000 0.000  0.000   0.000   2.000   4.000   6.000   6.000\n",
      "Fare        891.000  32.204  49.693 0.000 0.000  7.225  14.454 112.079 249.006 512.329 512.329\n"
     ]
    }
   ],
   "source": [
    "# Preliminary examination of the data set\n",
    "\n",
    "def check_df(dataframe, head=5):\n",
    "    print('##################### Shape #####################')\n",
    "    print(dataframe.shape)\n",
    "    print('##################### Types #####################')\n",
    "    print(dataframe.dtypes)\n",
    "    print('##################### Head #####################')\n",
    "    print(dataframe.head(head))\n",
    "    print('##################### Tail #####################')\n",
    "    print(dataframe.tail(head))\n",
    "    print('##################### NA #####################')\n",
    "    print(dataframe.isnull().sum())\n",
    "    print('##################### Quantiles #####################')\n",
    "    print(dataframe.describe([0, 0.05, 0.50, 0.95, 0.99, 1]).T)\n",
    "\n",
    "check_df(df_titanic)"
   ]
  },
  {
   "cell_type": "code",
   "execution_count": 5,
   "id": "16bc7f94",
   "metadata": {
    "execution": {
     "iopub.execute_input": "2023-07-06T21:33:41.660642Z",
     "iopub.status.busy": "2023-07-06T21:33:41.660299Z",
     "iopub.status.idle": "2023-07-06T21:33:41.669411Z",
     "shell.execute_reply": "2023-07-06T21:33:41.668529Z"
    },
    "papermill": {
     "duration": 0.026957,
     "end_time": "2023-07-06T21:33:41.671249",
     "exception": false,
     "start_time": "2023-07-06T21:33:41.644292",
     "status": "completed"
    },
    "tags": []
   },
   "outputs": [],
   "source": [
    "# Analysis of Categorical Variables.\n",
    "\n",
    "def grab_col_names(dataframe, cat_th=10, car_th=20):\n",
    "    \"\"\"\n",
    "\n",
    "    Returns the names of categorical, numeric and categorical but cardinal variables in the data set.\n",
    "    Note Categorical variables include categorical variables with numeric appearance.\n",
    "\n",
    "    Parameters\n",
    "    ------\n",
    "        dataframe: dataframe\n",
    "                Variable names of the dataframe to be taken\n",
    "        cat_th: int, optional\n",
    "                class threshold for numeric but categorical variables\n",
    "        car_th: int, optinal\n",
    "                class threshold for categorical but cardinal variables\n",
    "\n",
    "    Returns\n",
    "    ------\n",
    "        cat_cols: list\n",
    "                Categorical variable list\n",
    "        num_cols: list\n",
    "                Numeric variable list\n",
    "        cat_but_car: list\n",
    "                List of cardinal variables with categorical appearance\n",
    "\n",
    "    Examples\n",
    "    ------\n",
    "        import seaborn as sns\n",
    "        df = sns.load_dataset(\"iris\")\n",
    "        print(grab_col_names(df))\n",
    "\n",
    "\n",
    "    Notes\n",
    "    ------\n",
    "        cat_cols + num_cols + cat_but_car = total number of variables\n",
    "        num_but_cat is inside cat_cols.\n",
    "        The sum of the 3 return lists equals the total number of variables: cat_cols + num_cols + cat_but_car = number of variables\n",
    "\n",
    "    \"\"\"\n",
    "\n",
    "    # cat_cols, cat_but_car\n",
    "    cat_cols = [col for col in dataframe.columns if dataframe[col].dtypes == \"O\"] \n",
    "\n",
    "    num_but_cat = [col for col in dataframe.columns if dataframe[col].nunique() < cat_th and\n",
    "                   dataframe[col].dtypes != \"O\"]\n",
    "\n",
    "    cat_but_car = [col for col in dataframe.columns if dataframe[col].nunique() > car_th and\n",
    "                   dataframe[col].dtypes == \"O\"]\n",
    "\n",
    "    cat_cols = cat_cols + num_but_cat\n",
    "\n",
    "    cat_cols = [col for col in cat_cols if col not in cat_but_car] \n",
    "\n",
    "    num_cols = [col for col in dataframe.columns if dataframe[col].dtypes != \"O\"] \n",
    "\n",
    "    num_cols = [col for col in num_cols if col not in num_but_cat] \n",
    "    \n",
    "    print(f\"Observations: {dataframe.shape[0]}\") # data frame in içerisindeki gözlem sayısına eriştik.\n",
    "    print(f\"Variables: {dataframe.shape[1]}\") # data frame in içerisindeki değişken sayısına eriştik.\n",
    "    print(f'cat_cols: {len(cat_cols)}') # kaçtane kategorik değişken olduğunu tespit ettik.\n",
    "    print(f'num_cols: {len(num_cols)}') # kaç tane nümerik değişken olduğunu tespit ettik.\n",
    "    print(f'cat_but_car: {len(cat_but_car)}') # kaç tane kardinal değişken olduğunu tespit ettik.\n",
    "    print(f'num_but_cat: {len(num_but_cat)}') # kaç tane numerik gibi görünüp kategorik olan değişken olduğunu belirledi\n",
    "\n",
    "\n",
    "    return cat_cols, num_cols, cat_but_car "
   ]
  },
  {
   "cell_type": "code",
   "execution_count": 6,
   "id": "025b63a2",
   "metadata": {
    "execution": {
     "iopub.execute_input": "2023-07-06T21:33:41.701975Z",
     "iopub.status.busy": "2023-07-06T21:33:41.701623Z",
     "iopub.status.idle": "2023-07-06T21:33:41.714172Z",
     "shell.execute_reply": "2023-07-06T21:33:41.713190Z"
    },
    "papermill": {
     "duration": 0.029733,
     "end_time": "2023-07-06T21:33:41.715825",
     "exception": false,
     "start_time": "2023-07-06T21:33:41.686092",
     "status": "completed"
    },
    "tags": []
   },
   "outputs": [
    {
     "name": "stdout",
     "output_type": "stream",
     "text": [
      "Observations: 891\n",
      "Variables: 12\n",
      "cat_cols: 6\n",
      "num_cols: 3\n",
      "cat_but_car: 3\n",
      "num_but_cat: 4\n"
     ]
    }
   ],
   "source": [
    "# Assigning the lists returned from the grap_col_names function to variables.\n",
    "\n",
    "cat_cols, num_cols, cat_but_car = grab_col_names(df_titanic)"
   ]
  },
  {
   "cell_type": "code",
   "execution_count": 7,
   "id": "0eb1cfc0",
   "metadata": {
    "execution": {
     "iopub.execute_input": "2023-07-06T21:33:41.747060Z",
     "iopub.status.busy": "2023-07-06T21:33:41.746678Z",
     "iopub.status.idle": "2023-07-06T21:33:41.753546Z",
     "shell.execute_reply": "2023-07-06T21:33:41.752389Z"
    },
    "papermill": {
     "duration": 0.025162,
     "end_time": "2023-07-06T21:33:41.756047",
     "exception": false,
     "start_time": "2023-07-06T21:33:41.730885",
     "status": "completed"
    },
    "tags": []
   },
   "outputs": [
    {
     "data": {
      "text/plain": [
       "['Sex', 'Embarked', 'Survived', 'Pclass', 'SibSp', 'Parch']"
      ]
     },
     "execution_count": 7,
     "metadata": {},
     "output_type": "execute_result"
    }
   ],
   "source": [
    "# List of categorical variables\n",
    "\n",
    "cat_cols"
   ]
  },
  {
   "cell_type": "code",
   "execution_count": 8,
   "id": "f647f6f1",
   "metadata": {
    "execution": {
     "iopub.execute_input": "2023-07-06T21:33:41.788466Z",
     "iopub.status.busy": "2023-07-06T21:33:41.788150Z",
     "iopub.status.idle": "2023-07-06T21:33:41.793712Z",
     "shell.execute_reply": "2023-07-06T21:33:41.792242Z"
    },
    "papermill": {
     "duration": 0.024319,
     "end_time": "2023-07-06T21:33:41.795979",
     "exception": false,
     "start_time": "2023-07-06T21:33:41.771660",
     "status": "completed"
    },
    "tags": []
   },
   "outputs": [
    {
     "data": {
      "text/plain": [
       "['PassengerId', 'Age', 'Fare']"
      ]
     },
     "execution_count": 8,
     "metadata": {},
     "output_type": "execute_result"
    }
   ],
   "source": [
    "# List of numerical variables\n",
    "\n",
    "num_cols"
   ]
  },
  {
   "cell_type": "code",
   "execution_count": 9,
   "id": "ea536f15",
   "metadata": {
    "execution": {
     "iopub.execute_input": "2023-07-06T21:33:41.828322Z",
     "iopub.status.busy": "2023-07-06T21:33:41.827893Z",
     "iopub.status.idle": "2023-07-06T21:33:41.832993Z",
     "shell.execute_reply": "2023-07-06T21:33:41.831769Z"
    },
    "papermill": {
     "duration": 0.023894,
     "end_time": "2023-07-06T21:33:41.835000",
     "exception": false,
     "start_time": "2023-07-06T21:33:41.811106",
     "status": "completed"
    },
    "tags": []
   },
   "outputs": [],
   "source": [
    "# 'PassengerId' The variable 'PassengerId' looks like a numerical variable, but it does not make sense to us. It is not a numeric variable."
   ]
  },
  {
   "cell_type": "code",
   "execution_count": 10,
   "id": "72e8531e",
   "metadata": {
    "execution": {
     "iopub.execute_input": "2023-07-06T21:33:41.868079Z",
     "iopub.status.busy": "2023-07-06T21:33:41.867507Z",
     "iopub.status.idle": "2023-07-06T21:33:41.872435Z",
     "shell.execute_reply": "2023-07-06T21:33:41.871315Z"
    },
    "papermill": {
     "duration": 0.023614,
     "end_time": "2023-07-06T21:33:41.874380",
     "exception": false,
     "start_time": "2023-07-06T21:33:41.850766",
     "status": "completed"
    },
    "tags": []
   },
   "outputs": [],
   "source": [
    "num_cols = [\"Age\", \"Fare\"]"
   ]
  },
  {
   "cell_type": "code",
   "execution_count": 11,
   "id": "9a6e72ee",
   "metadata": {
    "execution": {
     "iopub.execute_input": "2023-07-06T21:33:41.905282Z",
     "iopub.status.busy": "2023-07-06T21:33:41.904975Z",
     "iopub.status.idle": "2023-07-06T21:33:41.910274Z",
     "shell.execute_reply": "2023-07-06T21:33:41.909590Z"
    },
    "papermill": {
     "duration": 0.022487,
     "end_time": "2023-07-06T21:33:41.911765",
     "exception": false,
     "start_time": "2023-07-06T21:33:41.889278",
     "status": "completed"
    },
    "tags": []
   },
   "outputs": [
    {
     "data": {
      "text/plain": [
       "['Age', 'Fare']"
      ]
     },
     "execution_count": 11,
     "metadata": {},
     "output_type": "execute_result"
    }
   ],
   "source": [
    "num_cols"
   ]
  },
  {
   "cell_type": "code",
   "execution_count": 12,
   "id": "75fd95dd",
   "metadata": {
    "execution": {
     "iopub.execute_input": "2023-07-06T21:33:41.943343Z",
     "iopub.status.busy": "2023-07-06T21:33:41.943025Z",
     "iopub.status.idle": "2023-07-06T21:33:41.949763Z",
     "shell.execute_reply": "2023-07-06T21:33:41.948494Z"
    },
    "papermill": {
     "duration": 0.024974,
     "end_time": "2023-07-06T21:33:41.951756",
     "exception": false,
     "start_time": "2023-07-06T21:33:41.926782",
     "status": "completed"
    },
    "tags": []
   },
   "outputs": [
    {
     "data": {
      "text/plain": [
       "['Name', 'Ticket', 'Cabin']"
      ]
     },
     "execution_count": 12,
     "metadata": {},
     "output_type": "execute_result"
    }
   ],
   "source": [
    "# List of variables that appear to be categorical but are cardinal\n",
    "\n",
    "cat_but_car"
   ]
  },
  {
   "cell_type": "code",
   "execution_count": 13,
   "id": "80f99846",
   "metadata": {
    "execution": {
     "iopub.execute_input": "2023-07-06T21:33:41.984773Z",
     "iopub.status.busy": "2023-07-06T21:33:41.984445Z",
     "iopub.status.idle": "2023-07-06T21:33:42.143628Z",
     "shell.execute_reply": "2023-07-06T21:33:42.142775Z"
    },
    "papermill": {
     "duration": 0.178043,
     "end_time": "2023-07-06T21:33:42.145548",
     "exception": false,
     "start_time": "2023-07-06T21:33:41.967505",
     "status": "completed"
    },
    "tags": []
   },
   "outputs": [
    {
     "data": {
      "image/png": "[encoded data removed]",
      "text/plain": [
       "<Figure size 640x480 with 1 Axes>"
      ]
     },
     "metadata": {},
     "output_type": "display_data"
    }
   ],
   "source": [
    "# Outliers with Graphical Technique\n",
    "\n",
    "sns.boxplot(x=df_titanic[\"Age\"])\n",
    "plt.show(block=True)"
   ]
  },
  {
   "cell_type": "markdown",
   "id": "f8d50565",
   "metadata": {
    "papermill": {
     "duration": 0.014898,
     "end_time": "2023-07-06T21:33:42.176491",
     "exception": false,
     "start_time": "2023-07-06T21:33:42.161593",
     "status": "completed"
    },
    "tags": []
   },
   "source": [
    "# Capture Outliers"
   ]
  },
  {
   "cell_type": "code",
   "execution_count": 14,
   "id": "3d7c9c67",
   "metadata": {
    "execution": {
     "iopub.execute_input": "2023-07-06T21:33:42.208312Z",
     "iopub.status.busy": "2023-07-06T21:33:42.207950Z",
     "iopub.status.idle": "2023-07-06T21:33:42.214335Z",
     "shell.execute_reply": "2023-07-06T21:33:42.213076Z"
    },
    "papermill": {
     "duration": 0.02455,
     "end_time": "2023-07-06T21:33:42.216095",
     "exception": false,
     "start_time": "2023-07-06T21:33:42.191545",
     "status": "completed"
    },
    "tags": []
   },
   "outputs": [],
   "source": [
    "# First quarter value\n",
    "\n",
    "q1 = df_titanic[\"Age\"].quantile(0.25)"
   ]
  },
  {
   "cell_type": "code",
   "execution_count": 15,
   "id": "3c6b8eaf",
   "metadata": {
    "execution": {
     "iopub.execute_input": "2023-07-06T21:33:42.248252Z",
     "iopub.status.busy": "2023-07-06T21:33:42.247862Z",
     "iopub.status.idle": "2023-07-06T21:33:42.253547Z",
     "shell.execute_reply": "2023-07-06T21:33:42.252683Z"
    },
    "papermill": {
     "duration": 0.02368,
     "end_time": "2023-07-06T21:33:42.255204",
     "exception": false,
     "start_time": "2023-07-06T21:33:42.231524",
     "status": "completed"
    },
    "tags": []
   },
   "outputs": [
    {
     "data": {
      "text/plain": [
       "20.125"
      ]
     },
     "execution_count": 15,
     "metadata": {},
     "output_type": "execute_result"
    }
   ],
   "source": [
    "q1"
   ]
  },
  {
   "cell_type": "code",
   "execution_count": 16,
   "id": "9fdbb498",
   "metadata": {
    "execution": {
     "iopub.execute_input": "2023-07-06T21:33:42.287406Z",
     "iopub.status.busy": "2023-07-06T21:33:42.286982Z",
     "iopub.status.idle": "2023-07-06T21:33:42.293436Z",
     "shell.execute_reply": "2023-07-06T21:33:42.292529Z"
    },
    "papermill": {
     "duration": 0.02471,
     "end_time": "2023-07-06T21:33:42.295193",
     "exception": false,
     "start_time": "2023-07-06T21:33:42.270483",
     "status": "completed"
    },
    "tags": []
   },
   "outputs": [],
   "source": [
    "# Second quarter value\n",
    "\n",
    "q3 = df_titanic[\"Age\"].quantile(0.75)"
   ]
  },
  {
   "cell_type": "code",
   "execution_count": 17,
   "id": "4fd970f9",
   "metadata": {
    "execution": {
     "iopub.execute_input": "2023-07-06T21:33:42.327214Z",
     "iopub.status.busy": "2023-07-06T21:33:42.326820Z",
     "iopub.status.idle": "2023-07-06T21:33:42.331848Z",
     "shell.execute_reply": "2023-07-06T21:33:42.331240Z"
    },
    "papermill": {
     "duration": 0.023269,
     "end_time": "2023-07-06T21:33:42.333792",
     "exception": false,
     "start_time": "2023-07-06T21:33:42.310523",
     "status": "completed"
    },
    "tags": []
   },
   "outputs": [
    {
     "data": {
      "text/plain": [
       "38.0"
      ]
     },
     "execution_count": 17,
     "metadata": {},
     "output_type": "execute_result"
    }
   ],
   "source": [
    "q3"
   ]
  },
  {
   "cell_type": "code",
   "execution_count": 18,
   "id": "613ebd1c",
   "metadata": {
    "execution": {
     "iopub.execute_input": "2023-07-06T21:33:42.367686Z",
     "iopub.status.busy": "2023-07-06T21:33:42.367239Z",
     "iopub.status.idle": "2023-07-06T21:33:42.372425Z",
     "shell.execute_reply": "2023-07-06T21:33:42.371033Z"
    },
    "papermill": {
     "duration": 0.02483,
     "end_time": "2023-07-06T21:33:42.374575",
     "exception": false,
     "start_time": "2023-07-06T21:33:42.349745",
     "status": "completed"
    },
    "tags": []
   },
   "outputs": [],
   "source": [
    "# Calculation of iqr value\n",
    "\n",
    "iqr = q3 - q1 "
   ]
  },
  {
   "cell_type": "code",
   "execution_count": 19,
   "id": "a8d81e28",
   "metadata": {
    "execution": {
     "iopub.execute_input": "2023-07-06T21:33:42.407324Z",
     "iopub.status.busy": "2023-07-06T21:33:42.406978Z",
     "iopub.status.idle": "2023-07-06T21:33:42.413345Z",
     "shell.execute_reply": "2023-07-06T21:33:42.412412Z"
    },
    "papermill": {
     "duration": 0.024937,
     "end_time": "2023-07-06T21:33:42.415278",
     "exception": false,
     "start_time": "2023-07-06T21:33:42.390341",
     "status": "completed"
    },
    "tags": []
   },
   "outputs": [
    {
     "data": {
      "text/plain": [
       "17.875"
      ]
     },
     "execution_count": 19,
     "metadata": {},
     "output_type": "execute_result"
    }
   ],
   "source": [
    "iqr"
   ]
  },
  {
   "cell_type": "code",
   "execution_count": 20,
   "id": "979f8ceb",
   "metadata": {
    "execution": {
     "iopub.execute_input": "2023-07-06T21:33:42.449218Z",
     "iopub.status.busy": "2023-07-06T21:33:42.448859Z",
     "iopub.status.idle": "2023-07-06T21:33:42.453759Z",
     "shell.execute_reply": "2023-07-06T21:33:42.452749Z"
    },
    "papermill": {
     "duration": 0.024231,
     "end_time": "2023-07-06T21:33:42.456009",
     "exception": false,
     "start_time": "2023-07-06T21:33:42.431778",
     "status": "completed"
    },
    "tags": []
   },
   "outputs": [],
   "source": [
    "# Calculation of upper limit\n",
    "\n",
    "up = q3 + 1.5 * iqr"
   ]
  },
  {
   "cell_type": "code",
   "execution_count": 21,
   "id": "bfaf0689",
   "metadata": {
    "execution": {
     "iopub.execute_input": "2023-07-06T21:33:42.488418Z",
     "iopub.status.busy": "2023-07-06T21:33:42.488099Z",
     "iopub.status.idle": "2023-07-06T21:33:42.493334Z",
     "shell.execute_reply": "2023-07-06T21:33:42.492585Z"
    },
    "papermill": {
     "duration": 0.023146,
     "end_time": "2023-07-06T21:33:42.494851",
     "exception": false,
     "start_time": "2023-07-06T21:33:42.471705",
     "status": "completed"
    },
    "tags": []
   },
   "outputs": [
    {
     "data": {
      "text/plain": [
       "64.8125"
      ]
     },
     "execution_count": 21,
     "metadata": {},
     "output_type": "execute_result"
    }
   ],
   "source": [
    "up"
   ]
  },
  {
   "cell_type": "code",
   "execution_count": 22,
   "id": "78b28e3a",
   "metadata": {
    "execution": {
     "iopub.execute_input": "2023-07-06T21:33:42.527711Z",
     "iopub.status.busy": "2023-07-06T21:33:42.527013Z",
     "iopub.status.idle": "2023-07-06T21:33:42.531002Z",
     "shell.execute_reply": "2023-07-06T21:33:42.530345Z"
    },
    "papermill": {
     "duration": 0.022222,
     "end_time": "2023-07-06T21:33:42.532631",
     "exception": false,
     "start_time": "2023-07-06T21:33:42.510409",
     "status": "completed"
    },
    "tags": []
   },
   "outputs": [],
   "source": [
    "# Calculation of lower limit\n",
    "\n",
    "low = q1 - 1.5 * iqr"
   ]
  },
  {
   "cell_type": "code",
   "execution_count": 23,
   "id": "de474941",
   "metadata": {
    "execution": {
     "iopub.execute_input": "2023-07-06T21:33:42.566160Z",
     "iopub.status.busy": "2023-07-06T21:33:42.565599Z",
     "iopub.status.idle": "2023-07-06T21:33:42.572459Z",
     "shell.execute_reply": "2023-07-06T21:33:42.571172Z"
    },
    "papermill": {
     "duration": 0.026152,
     "end_time": "2023-07-06T21:33:42.574613",
     "exception": false,
     "start_time": "2023-07-06T21:33:42.548461",
     "status": "completed"
    },
    "tags": []
   },
   "outputs": [
    {
     "data": {
      "text/plain": [
       "-6.6875"
      ]
     },
     "execution_count": 23,
     "metadata": {},
     "output_type": "execute_result"
    }
   ],
   "source": [
    "low"
   ]
  },
  {
   "cell_type": "code",
   "execution_count": 24,
   "id": "0689b024",
   "metadata": {
    "execution": {
     "iopub.execute_input": "2023-07-06T21:33:42.608615Z",
     "iopub.status.busy": "2023-07-06T21:33:42.607750Z",
     "iopub.status.idle": "2023-07-06T21:33:42.631500Z",
     "shell.execute_reply": "2023-07-06T21:33:42.630660Z"
    },
    "papermill": {
     "duration": 0.042743,
     "end_time": "2023-07-06T21:33:42.633288",
     "exception": false,
     "start_time": "2023-07-06T21:33:42.590545",
     "status": "completed"
    },
    "tags": []
   },
   "outputs": [
    {
     "data": {
      "text/html": [
       "<div>\n",
       "<style scoped>\n",
       "    .dataframe tbody tr th:only-of-type {\n",
       "        vertical-align: middle;\n",
       "    }\n",
       "\n",
       "    .dataframe tbody tr th {\n",
       "        vertical-align: top;\n",
       "    }\n",
       "\n",
       "    .dataframe thead th {\n",
       "        text-align: right;\n",
       "    }\n",
       "</style>\n",
       "<table border=\"1\" class=\"dataframe\">\n",
       "  <thead>\n",
       "    <tr style=\"text-align: right;\">\n",
       "      <th></th>\n",
       "      <th>PassengerId</th>\n",
       "      <th>Survived</th>\n",
       "      <th>Pclass</th>\n",
       "      <th>Name</th>\n",
       "      <th>Sex</th>\n",
       "      <th>Age</th>\n",
       "      <th>SibSp</th>\n",
       "      <th>Parch</th>\n",
       "      <th>Ticket</th>\n",
       "      <th>Fare</th>\n",
       "      <th>Cabin</th>\n",
       "      <th>Embarked</th>\n",
       "    </tr>\n",
       "  </thead>\n",
       "  <tbody>\n",
       "    <tr>\n",
       "      <th>33</th>\n",
       "      <td>34</td>\n",
       "      <td>0</td>\n",
       "      <td>2</td>\n",
       "      <td>Wheadon, Mr. Edward H</td>\n",
       "      <td>male</td>\n",
       "      <td>66.000</td>\n",
       "      <td>0</td>\n",
       "      <td>0</td>\n",
       "      <td>C.A. 24579</td>\n",
       "      <td>10.500</td>\n",
       "      <td>NaN</td>\n",
       "      <td>S</td>\n",
       "    </tr>\n",
       "    <tr>\n",
       "      <th>54</th>\n",
       "      <td>55</td>\n",
       "      <td>0</td>\n",
       "      <td>1</td>\n",
       "      <td>Ostby, Mr. Engelhart Cornelius</td>\n",
       "      <td>male</td>\n",
       "      <td>65.000</td>\n",
       "      <td>0</td>\n",
       "      <td>1</td>\n",
       "      <td>113509</td>\n",
       "      <td>61.979</td>\n",
       "      <td>B30</td>\n",
       "      <td>C</td>\n",
       "    </tr>\n",
       "    <tr>\n",
       "      <th>96</th>\n",
       "      <td>97</td>\n",
       "      <td>0</td>\n",
       "      <td>1</td>\n",
       "      <td>Goldschmidt, Mr. George B</td>\n",
       "      <td>male</td>\n",
       "      <td>71.000</td>\n",
       "      <td>0</td>\n",
       "      <td>0</td>\n",
       "      <td>PC 17754</td>\n",
       "      <td>34.654</td>\n",
       "      <td>A5</td>\n",
       "      <td>C</td>\n",
       "    </tr>\n",
       "    <tr>\n",
       "      <th>116</th>\n",
       "      <td>117</td>\n",
       "      <td>0</td>\n",
       "      <td>3</td>\n",
       "      <td>Connors, Mr. Patrick</td>\n",
       "      <td>male</td>\n",
       "      <td>70.500</td>\n",
       "      <td>0</td>\n",
       "      <td>0</td>\n",
       "      <td>370369</td>\n",
       "      <td>7.750</td>\n",
       "      <td>NaN</td>\n",
       "      <td>Q</td>\n",
       "    </tr>\n",
       "    <tr>\n",
       "      <th>280</th>\n",
       "      <td>281</td>\n",
       "      <td>0</td>\n",
       "      <td>3</td>\n",
       "      <td>Duane, Mr. Frank</td>\n",
       "      <td>male</td>\n",
       "      <td>65.000</td>\n",
       "      <td>0</td>\n",
       "      <td>0</td>\n",
       "      <td>336439</td>\n",
       "      <td>7.750</td>\n",
       "      <td>NaN</td>\n",
       "      <td>Q</td>\n",
       "    </tr>\n",
       "    <tr>\n",
       "      <th>456</th>\n",
       "      <td>457</td>\n",
       "      <td>0</td>\n",
       "      <td>1</td>\n",
       "      <td>Millet, Mr. Francis Davis</td>\n",
       "      <td>male</td>\n",
       "      <td>65.000</td>\n",
       "      <td>0</td>\n",
       "      <td>0</td>\n",
       "      <td>13509</td>\n",
       "      <td>26.550</td>\n",
       "      <td>E38</td>\n",
       "      <td>S</td>\n",
       "    </tr>\n",
       "    <tr>\n",
       "      <th>493</th>\n",
       "      <td>494</td>\n",
       "      <td>0</td>\n",
       "      <td>1</td>\n",
       "      <td>Artagaveytia, Mr. Ramon</td>\n",
       "      <td>male</td>\n",
       "      <td>71.000</td>\n",
       "      <td>0</td>\n",
       "      <td>0</td>\n",
       "      <td>PC 17609</td>\n",
       "      <td>49.504</td>\n",
       "      <td>NaN</td>\n",
       "      <td>C</td>\n",
       "    </tr>\n",
       "    <tr>\n",
       "      <th>630</th>\n",
       "      <td>631</td>\n",
       "      <td>1</td>\n",
       "      <td>1</td>\n",
       "      <td>Barkworth, Mr. Algernon Henry Wilson</td>\n",
       "      <td>male</td>\n",
       "      <td>80.000</td>\n",
       "      <td>0</td>\n",
       "      <td>0</td>\n",
       "      <td>27042</td>\n",
       "      <td>30.000</td>\n",
       "      <td>A23</td>\n",
       "      <td>S</td>\n",
       "    </tr>\n",
       "    <tr>\n",
       "      <th>672</th>\n",
       "      <td>673</td>\n",
       "      <td>0</td>\n",
       "      <td>2</td>\n",
       "      <td>Mitchell, Mr. Henry Michael</td>\n",
       "      <td>male</td>\n",
       "      <td>70.000</td>\n",
       "      <td>0</td>\n",
       "      <td>0</td>\n",
       "      <td>C.A. 24580</td>\n",
       "      <td>10.500</td>\n",
       "      <td>NaN</td>\n",
       "      <td>S</td>\n",
       "    </tr>\n",
       "    <tr>\n",
       "      <th>745</th>\n",
       "      <td>746</td>\n",
       "      <td>0</td>\n",
       "      <td>1</td>\n",
       "      <td>Crosby, Capt. Edward Gifford</td>\n",
       "      <td>male</td>\n",
       "      <td>70.000</td>\n",
       "      <td>1</td>\n",
       "      <td>1</td>\n",
       "      <td>WE/P 5735</td>\n",
       "      <td>71.000</td>\n",
       "      <td>B22</td>\n",
       "      <td>S</td>\n",
       "    </tr>\n",
       "    <tr>\n",
       "      <th>851</th>\n",
       "      <td>852</td>\n",
       "      <td>0</td>\n",
       "      <td>3</td>\n",
       "      <td>Svensson, Mr. Johan</td>\n",
       "      <td>male</td>\n",
       "      <td>74.000</td>\n",
       "      <td>0</td>\n",
       "      <td>0</td>\n",
       "      <td>347060</td>\n",
       "      <td>7.775</td>\n",
       "      <td>NaN</td>\n",
       "      <td>S</td>\n",
       "    </tr>\n",
       "  </tbody>\n",
       "</table>\n",
       "</div>"
      ],
      "text/plain": [
       "     PassengerId  Survived  Pclass                                  Name   Sex    Age  SibSp  Parch      Ticket   Fare Cabin Embarked\n",
       "33            34         0       2                 Wheadon, Mr. Edward H  male 66.000      0      0  C.A. 24579 10.500   NaN        S\n",
       "54            55         0       1        Ostby, Mr. Engelhart Cornelius  male 65.000      0      1      113509 61.979   B30        C\n",
       "96            97         0       1             Goldschmidt, Mr. George B  male 71.000      0      0    PC 17754 34.654    A5        C\n",
       "116          117         0       3                  Connors, Mr. Patrick  male 70.500      0      0      370369  7.750   NaN        Q\n",
       "280          281         0       3                      Duane, Mr. Frank  male 65.000      0      0      336439  7.750   NaN        Q\n",
       "456          457         0       1             Millet, Mr. Francis Davis  male 65.000      0      0       13509 26.550   E38        S\n",
       "493          494         0       1               Artagaveytia, Mr. Ramon  male 71.000      0      0    PC 17609 49.504   NaN        C\n",
       "630          631         1       1  Barkworth, Mr. Algernon Henry Wilson  male 80.000      0      0       27042 30.000   A23        S\n",
       "672          673         0       2           Mitchell, Mr. Henry Michael  male 70.000      0      0  C.A. 24580 10.500   NaN        S\n",
       "745          746         0       1          Crosby, Capt. Edward Gifford  male 70.000      1      1   WE/P 5735 71.000   B22        S\n",
       "851          852         0       3                   Svensson, Mr. Johan  male 74.000      0      0      347060  7.775   NaN        S"
      ]
     },
     "execution_count": 24,
     "metadata": {},
     "output_type": "execute_result"
    }
   ],
   "source": [
    "# Selection of values less than the lower limit or greater than the upper limit in the age variable from the df_titanic.\n",
    "\n",
    "df_titanic[(df_titanic[\"Age\"] < low) | (df_titanic[\"Age\"] > up)]"
   ]
  },
  {
   "cell_type": "code",
   "execution_count": 25,
   "id": "445bd064",
   "metadata": {
    "execution": {
     "iopub.execute_input": "2023-07-06T21:33:42.668927Z",
     "iopub.status.busy": "2023-07-06T21:33:42.667686Z",
     "iopub.status.idle": "2023-07-06T21:33:42.675802Z",
     "shell.execute_reply": "2023-07-06T21:33:42.675099Z"
    },
    "papermill": {
     "duration": 0.027562,
     "end_time": "2023-07-06T21:33:42.677379",
     "exception": false,
     "start_time": "2023-07-06T21:33:42.649817",
     "status": "completed"
    },
    "tags": []
   },
   "outputs": [
    {
     "data": {
      "text/plain": [
       "Int64Index([33, 54, 96, 116, 280, 456, 493, 630, 672, 745, 851], dtype='int64')"
      ]
     },
     "execution_count": 25,
     "metadata": {},
     "output_type": "execute_result"
    }
   ],
   "source": [
    "# Access to the index information of the outliers we detected.\n",
    "\n",
    "df_titanic[(df_titanic[\"Age\"] < low) | (df_titanic[\"Age\"] > up)].index"
   ]
  },
  {
   "cell_type": "markdown",
   "id": "2f307ea3",
   "metadata": {
    "papermill": {
     "duration": 0.01587,
     "end_time": "2023-07-06T21:33:42.709429",
     "exception": false,
     "start_time": "2023-07-06T21:33:42.693559",
     "status": "completed"
    },
    "tags": []
   },
   "source": [
    "# Is There an Outlier or Not? Outlier Checking"
   ]
  },
  {
   "cell_type": "code",
   "execution_count": 26,
   "id": "834284d8",
   "metadata": {
    "execution": {
     "iopub.execute_input": "2023-07-06T21:33:42.743912Z",
     "iopub.status.busy": "2023-07-06T21:33:42.743281Z",
     "iopub.status.idle": "2023-07-06T21:33:42.751061Z",
     "shell.execute_reply": "2023-07-06T21:33:42.750149Z"
    },
    "papermill": {
     "duration": 0.027273,
     "end_time": "2023-07-06T21:33:42.752926",
     "exception": false,
     "start_time": "2023-07-06T21:33:42.725653",
     "status": "completed"
    },
    "tags": []
   },
   "outputs": [
    {
     "data": {
      "text/plain": [
       "True"
      ]
     },
     "execution_count": 26,
     "metadata": {},
     "output_type": "execute_result"
    }
   ],
   "source": [
    "# Are there any outliers in the data set?\n",
    "\n",
    "df_titanic[(df_titanic[\"Age\"] < low) | (df_titanic[\"Age\"] > up)].any(axis=None)"
   ]
  },
  {
   "cell_type": "code",
   "execution_count": 27,
   "id": "a3da044a",
   "metadata": {
    "execution": {
     "iopub.execute_input": "2023-07-06T21:33:42.787309Z",
     "iopub.status.busy": "2023-07-06T21:33:42.786986Z",
     "iopub.status.idle": "2023-07-06T21:33:42.802843Z",
     "shell.execute_reply": "2023-07-06T21:33:42.801971Z"
    },
    "papermill": {
     "duration": 0.035859,
     "end_time": "2023-07-06T21:33:42.805064",
     "exception": false,
     "start_time": "2023-07-06T21:33:42.769205",
     "status": "completed"
    },
    "tags": []
   },
   "outputs": [
    {
     "data": {
      "text/html": [
       "<div>\n",
       "<style scoped>\n",
       "    .dataframe tbody tr th:only-of-type {\n",
       "        vertical-align: middle;\n",
       "    }\n",
       "\n",
       "    .dataframe tbody tr th {\n",
       "        vertical-align: top;\n",
       "    }\n",
       "\n",
       "    .dataframe thead th {\n",
       "        text-align: right;\n",
       "    }\n",
       "</style>\n",
       "<table border=\"1\" class=\"dataframe\">\n",
       "  <thead>\n",
       "    <tr style=\"text-align: right;\">\n",
       "      <th></th>\n",
       "      <th>PassengerId</th>\n",
       "      <th>Survived</th>\n",
       "      <th>Pclass</th>\n",
       "      <th>Name</th>\n",
       "      <th>Sex</th>\n",
       "      <th>Age</th>\n",
       "      <th>SibSp</th>\n",
       "      <th>Parch</th>\n",
       "      <th>Ticket</th>\n",
       "      <th>Fare</th>\n",
       "      <th>Cabin</th>\n",
       "      <th>Embarked</th>\n",
       "    </tr>\n",
       "  </thead>\n",
       "  <tbody>\n",
       "    <tr>\n",
       "      <th>0</th>\n",
       "      <td>1</td>\n",
       "      <td>0</td>\n",
       "      <td>3</td>\n",
       "      <td>Braund, Mr. Owen Harris</td>\n",
       "      <td>male</td>\n",
       "      <td>22.000</td>\n",
       "      <td>1</td>\n",
       "      <td>0</td>\n",
       "      <td>A/5 21171</td>\n",
       "      <td>7.250</td>\n",
       "      <td>NaN</td>\n",
       "      <td>S</td>\n",
       "    </tr>\n",
       "    <tr>\n",
       "      <th>1</th>\n",
       "      <td>2</td>\n",
       "      <td>1</td>\n",
       "      <td>1</td>\n",
       "      <td>Cumings, Mrs. John Bradley (Florence Briggs Th...</td>\n",
       "      <td>female</td>\n",
       "      <td>38.000</td>\n",
       "      <td>1</td>\n",
       "      <td>0</td>\n",
       "      <td>PC 17599</td>\n",
       "      <td>71.283</td>\n",
       "      <td>C85</td>\n",
       "      <td>C</td>\n",
       "    </tr>\n",
       "    <tr>\n",
       "      <th>2</th>\n",
       "      <td>3</td>\n",
       "      <td>1</td>\n",
       "      <td>3</td>\n",
       "      <td>Heikkinen, Miss. Laina</td>\n",
       "      <td>female</td>\n",
       "      <td>26.000</td>\n",
       "      <td>0</td>\n",
       "      <td>0</td>\n",
       "      <td>STON/O2. 3101282</td>\n",
       "      <td>7.925</td>\n",
       "      <td>NaN</td>\n",
       "      <td>S</td>\n",
       "    </tr>\n",
       "    <tr>\n",
       "      <th>3</th>\n",
       "      <td>4</td>\n",
       "      <td>1</td>\n",
       "      <td>1</td>\n",
       "      <td>Futrelle, Mrs. Jacques Heath (Lily May Peel)</td>\n",
       "      <td>female</td>\n",
       "      <td>35.000</td>\n",
       "      <td>1</td>\n",
       "      <td>0</td>\n",
       "      <td>113803</td>\n",
       "      <td>53.100</td>\n",
       "      <td>C123</td>\n",
       "      <td>S</td>\n",
       "    </tr>\n",
       "    <tr>\n",
       "      <th>4</th>\n",
       "      <td>5</td>\n",
       "      <td>0</td>\n",
       "      <td>3</td>\n",
       "      <td>Allen, Mr. William Henry</td>\n",
       "      <td>male</td>\n",
       "      <td>35.000</td>\n",
       "      <td>0</td>\n",
       "      <td>0</td>\n",
       "      <td>373450</td>\n",
       "      <td>8.050</td>\n",
       "      <td>NaN</td>\n",
       "      <td>S</td>\n",
       "    </tr>\n",
       "    <tr>\n",
       "      <th>5</th>\n",
       "      <td>6</td>\n",
       "      <td>0</td>\n",
       "      <td>3</td>\n",
       "      <td>Moran, Mr. James</td>\n",
       "      <td>male</td>\n",
       "      <td>NaN</td>\n",
       "      <td>0</td>\n",
       "      <td>0</td>\n",
       "      <td>330877</td>\n",
       "      <td>8.458</td>\n",
       "      <td>NaN</td>\n",
       "      <td>Q</td>\n",
       "    </tr>\n",
       "    <tr>\n",
       "      <th>6</th>\n",
       "      <td>7</td>\n",
       "      <td>0</td>\n",
       "      <td>1</td>\n",
       "      <td>McCarthy, Mr. Timothy J</td>\n",
       "      <td>male</td>\n",
       "      <td>54.000</td>\n",
       "      <td>0</td>\n",
       "      <td>0</td>\n",
       "      <td>17463</td>\n",
       "      <td>51.862</td>\n",
       "      <td>E46</td>\n",
       "      <td>S</td>\n",
       "    </tr>\n",
       "    <tr>\n",
       "      <th>7</th>\n",
       "      <td>8</td>\n",
       "      <td>0</td>\n",
       "      <td>3</td>\n",
       "      <td>Palsson, Master. Gosta Leonard</td>\n",
       "      <td>male</td>\n",
       "      <td>2.000</td>\n",
       "      <td>3</td>\n",
       "      <td>1</td>\n",
       "      <td>349909</td>\n",
       "      <td>21.075</td>\n",
       "      <td>NaN</td>\n",
       "      <td>S</td>\n",
       "    </tr>\n",
       "    <tr>\n",
       "      <th>8</th>\n",
       "      <td>9</td>\n",
       "      <td>1</td>\n",
       "      <td>3</td>\n",
       "      <td>Johnson, Mrs. Oscar W (Elisabeth Vilhelmina Berg)</td>\n",
       "      <td>female</td>\n",
       "      <td>27.000</td>\n",
       "      <td>0</td>\n",
       "      <td>2</td>\n",
       "      <td>347742</td>\n",
       "      <td>11.133</td>\n",
       "      <td>NaN</td>\n",
       "      <td>S</td>\n",
       "    </tr>\n",
       "    <tr>\n",
       "      <th>9</th>\n",
       "      <td>10</td>\n",
       "      <td>1</td>\n",
       "      <td>2</td>\n",
       "      <td>Nasser, Mrs. Nicholas (Adele Achem)</td>\n",
       "      <td>female</td>\n",
       "      <td>14.000</td>\n",
       "      <td>1</td>\n",
       "      <td>0</td>\n",
       "      <td>237736</td>\n",
       "      <td>30.071</td>\n",
       "      <td>NaN</td>\n",
       "      <td>C</td>\n",
       "    </tr>\n",
       "    <tr>\n",
       "      <th>10</th>\n",
       "      <td>11</td>\n",
       "      <td>1</td>\n",
       "      <td>3</td>\n",
       "      <td>Sandstrom, Miss. Marguerite Rut</td>\n",
       "      <td>female</td>\n",
       "      <td>4.000</td>\n",
       "      <td>1</td>\n",
       "      <td>1</td>\n",
       "      <td>PP 9549</td>\n",
       "      <td>16.700</td>\n",
       "      <td>G6</td>\n",
       "      <td>S</td>\n",
       "    </tr>\n",
       "    <tr>\n",
       "      <th>11</th>\n",
       "      <td>12</td>\n",
       "      <td>1</td>\n",
       "      <td>1</td>\n",
       "      <td>Bonnell, Miss. Elizabeth</td>\n",
       "      <td>female</td>\n",
       "      <td>58.000</td>\n",
       "      <td>0</td>\n",
       "      <td>0</td>\n",
       "      <td>113783</td>\n",
       "      <td>26.550</td>\n",
       "      <td>C103</td>\n",
       "      <td>S</td>\n",
       "    </tr>\n",
       "    <tr>\n",
       "      <th>12</th>\n",
       "      <td>13</td>\n",
       "      <td>0</td>\n",
       "      <td>3</td>\n",
       "      <td>Saundercock, Mr. William Henry</td>\n",
       "      <td>male</td>\n",
       "      <td>20.000</td>\n",
       "      <td>0</td>\n",
       "      <td>0</td>\n",
       "      <td>A/5. 2151</td>\n",
       "      <td>8.050</td>\n",
       "      <td>NaN</td>\n",
       "      <td>S</td>\n",
       "    </tr>\n",
       "    <tr>\n",
       "      <th>13</th>\n",
       "      <td>14</td>\n",
       "      <td>0</td>\n",
       "      <td>3</td>\n",
       "      <td>Andersson, Mr. Anders Johan</td>\n",
       "      <td>male</td>\n",
       "      <td>39.000</td>\n",
       "      <td>1</td>\n",
       "      <td>5</td>\n",
       "      <td>347082</td>\n",
       "      <td>31.275</td>\n",
       "      <td>NaN</td>\n",
       "      <td>S</td>\n",
       "    </tr>\n",
       "    <tr>\n",
       "      <th>14</th>\n",
       "      <td>15</td>\n",
       "      <td>0</td>\n",
       "      <td>3</td>\n",
       "      <td>Vestrom, Miss. Hulda Amanda Adolfina</td>\n",
       "      <td>female</td>\n",
       "      <td>14.000</td>\n",
       "      <td>0</td>\n",
       "      <td>0</td>\n",
       "      <td>350406</td>\n",
       "      <td>7.854</td>\n",
       "      <td>NaN</td>\n",
       "      <td>S</td>\n",
       "    </tr>\n",
       "    <tr>\n",
       "      <th>15</th>\n",
       "      <td>16</td>\n",
       "      <td>1</td>\n",
       "      <td>2</td>\n",
       "      <td>Hewlett, Mrs. (Mary D Kingcome)</td>\n",
       "      <td>female</td>\n",
       "      <td>55.000</td>\n",
       "      <td>0</td>\n",
       "      <td>0</td>\n",
       "      <td>248706</td>\n",
       "      <td>16.000</td>\n",
       "      <td>NaN</td>\n",
       "      <td>S</td>\n",
       "    </tr>\n",
       "    <tr>\n",
       "      <th>16</th>\n",
       "      <td>17</td>\n",
       "      <td>0</td>\n",
       "      <td>3</td>\n",
       "      <td>Rice, Master. Eugene</td>\n",
       "      <td>male</td>\n",
       "      <td>2.000</td>\n",
       "      <td>4</td>\n",
       "      <td>1</td>\n",
       "      <td>382652</td>\n",
       "      <td>29.125</td>\n",
       "      <td>NaN</td>\n",
       "      <td>Q</td>\n",
       "    </tr>\n",
       "    <tr>\n",
       "      <th>17</th>\n",
       "      <td>18</td>\n",
       "      <td>1</td>\n",
       "      <td>2</td>\n",
       "      <td>Williams, Mr. Charles Eugene</td>\n",
       "      <td>male</td>\n",
       "      <td>NaN</td>\n",
       "      <td>0</td>\n",
       "      <td>0</td>\n",
       "      <td>244373</td>\n",
       "      <td>13.000</td>\n",
       "      <td>NaN</td>\n",
       "      <td>S</td>\n",
       "    </tr>\n",
       "    <tr>\n",
       "      <th>18</th>\n",
       "      <td>19</td>\n",
       "      <td>0</td>\n",
       "      <td>3</td>\n",
       "      <td>Vander Planke, Mrs. Julius (Emelia Maria Vande...</td>\n",
       "      <td>female</td>\n",
       "      <td>31.000</td>\n",
       "      <td>1</td>\n",
       "      <td>0</td>\n",
       "      <td>345763</td>\n",
       "      <td>18.000</td>\n",
       "      <td>NaN</td>\n",
       "      <td>S</td>\n",
       "    </tr>\n",
       "    <tr>\n",
       "      <th>19</th>\n",
       "      <td>20</td>\n",
       "      <td>1</td>\n",
       "      <td>3</td>\n",
       "      <td>Masselmani, Mrs. Fatima</td>\n",
       "      <td>female</td>\n",
       "      <td>NaN</td>\n",
       "      <td>0</td>\n",
       "      <td>0</td>\n",
       "      <td>2649</td>\n",
       "      <td>7.225</td>\n",
       "      <td>NaN</td>\n",
       "      <td>C</td>\n",
       "    </tr>\n",
       "  </tbody>\n",
       "</table>\n",
       "</div>"
      ],
      "text/plain": [
       "    PassengerId  Survived  Pclass                                               Name     Sex    Age  SibSp  Parch            Ticket   Fare Cabin Embarked\n",
       "0             1         0       3                            Braund, Mr. Owen Harris    male 22.000      1      0         A/5 21171  7.250   NaN        S\n",
       "1             2         1       1  Cumings, Mrs. John Bradley (Florence Briggs Th...  female 38.000      1      0          PC 17599 71.283   C85        C\n",
       "2             3         1       3                             Heikkinen, Miss. Laina  female 26.000      0      0  STON/O2. 3101282  7.925   NaN        S\n",
       "3             4         1       1       Futrelle, Mrs. Jacques Heath (Lily May Peel)  female 35.000      1      0            113803 53.100  C123        S\n",
       "4             5         0       3                           Allen, Mr. William Henry    male 35.000      0      0            373450  8.050   NaN        S\n",
       "5             6         0       3                                   Moran, Mr. James    male    NaN      0      0            330877  8.458   NaN        Q\n",
       "6             7         0       1                            McCarthy, Mr. Timothy J    male 54.000      0      0             17463 51.862   E46        S\n",
       "7             8         0       3                     Palsson, Master. Gosta Leonard    male  2.000      3      1            349909 21.075   NaN        S\n",
       "8             9         1       3  Johnson, Mrs. Oscar W (Elisabeth Vilhelmina Berg)  female 27.000      0      2            347742 11.133   NaN        S\n",
       "9            10         1       2                Nasser, Mrs. Nicholas (Adele Achem)  female 14.000      1      0            237736 30.071   NaN        C\n",
       "10           11         1       3                    Sandstrom, Miss. Marguerite Rut  female  4.000      1      1           PP 9549 16.700    G6        S\n",
       "11           12         1       1                           Bonnell, Miss. Elizabeth  female 58.000      0      0            113783 26.550  C103        S\n",
       "12           13         0       3                     Saundercock, Mr. William Henry    male 20.000      0      0         A/5. 2151  8.050   NaN        S\n",
       "13           14         0       3                        Andersson, Mr. Anders Johan    male 39.000      1      5            347082 31.275   NaN        S\n",
       "14           15         0       3               Vestrom, Miss. Hulda Amanda Adolfina  female 14.000      0      0            350406  7.854   NaN        S\n",
       "15           16         1       2                   Hewlett, Mrs. (Mary D Kingcome)   female 55.000      0      0            248706 16.000   NaN        S\n",
       "16           17         0       3                               Rice, Master. Eugene    male  2.000      4      1            382652 29.125   NaN        Q\n",
       "17           18         1       2                       Williams, Mr. Charles Eugene    male    NaN      0      0            244373 13.000   NaN        S\n",
       "18           19         0       3  Vander Planke, Mrs. Julius (Emelia Maria Vande...  female 31.000      1      0            345763 18.000   NaN        S\n",
       "19           20         1       3                            Masselmani, Mrs. Fatima  female    NaN      0      0              2649  7.225   NaN        C"
      ]
     },
     "execution_count": 27,
     "metadata": {},
     "output_type": "execute_result"
    }
   ],
   "source": [
    "# We selected the first 20 observations from the non-outliers.\n",
    "\n",
    "df_titanic[~(df_titanic[\"Age\"] < low) | (df_titanic[\"Age\"] > up)].head(20)"
   ]
  },
  {
   "cell_type": "code",
   "execution_count": 28,
   "id": "49a844b0",
   "metadata": {
    "execution": {
     "iopub.execute_input": "2023-07-06T21:33:42.841230Z",
     "iopub.status.busy": "2023-07-06T21:33:42.840606Z",
     "iopub.status.idle": "2023-07-06T21:33:42.849968Z",
     "shell.execute_reply": "2023-07-06T21:33:42.849172Z"
    },
    "papermill": {
     "duration": 0.029271,
     "end_time": "2023-07-06T21:33:42.851676",
     "exception": false,
     "start_time": "2023-07-06T21:33:42.822405",
     "status": "completed"
    },
    "tags": []
   },
   "outputs": [
    {
     "data": {
      "text/html": [
       "<div>\n",
       "<style scoped>\n",
       "    .dataframe tbody tr th:only-of-type {\n",
       "        vertical-align: middle;\n",
       "    }\n",
       "\n",
       "    .dataframe tbody tr th {\n",
       "        vertical-align: top;\n",
       "    }\n",
       "\n",
       "    .dataframe thead th {\n",
       "        text-align: right;\n",
       "    }\n",
       "</style>\n",
       "<table border=\"1\" class=\"dataframe\">\n",
       "  <thead>\n",
       "    <tr style=\"text-align: right;\">\n",
       "      <th></th>\n",
       "      <th>PassengerId</th>\n",
       "      <th>Survived</th>\n",
       "      <th>Pclass</th>\n",
       "      <th>Name</th>\n",
       "      <th>Sex</th>\n",
       "      <th>Age</th>\n",
       "      <th>SibSp</th>\n",
       "      <th>Parch</th>\n",
       "      <th>Ticket</th>\n",
       "      <th>Fare</th>\n",
       "      <th>Cabin</th>\n",
       "      <th>Embarked</th>\n",
       "    </tr>\n",
       "  </thead>\n",
       "  <tbody>\n",
       "  </tbody>\n",
       "</table>\n",
       "</div>"
      ],
      "text/plain": [
       "Empty DataFrame\n",
       "Columns: [PassengerId, Survived, Pclass, Name, Sex, Age, SibSp, Parch, Ticket, Fare, Cabin, Embarked]\n",
       "Index: []"
      ]
     },
     "execution_count": 28,
     "metadata": {},
     "output_type": "execute_result"
    }
   ],
   "source": [
    "# We selected outliers that were below the lower limit.\n",
    "\n",
    "df_titanic[(df_titanic[\"Age\"] < low)]"
   ]
  },
  {
   "cell_type": "code",
   "execution_count": 29,
   "id": "2bf269bb",
   "metadata": {
    "execution": {
     "iopub.execute_input": "2023-07-06T21:33:42.887797Z",
     "iopub.status.busy": "2023-07-06T21:33:42.887221Z",
     "iopub.status.idle": "2023-07-06T21:33:42.894744Z",
     "shell.execute_reply": "2023-07-06T21:33:42.893953Z"
    },
    "papermill": {
     "duration": 0.028637,
     "end_time": "2023-07-06T21:33:42.896848",
     "exception": false,
     "start_time": "2023-07-06T21:33:42.868211",
     "status": "completed"
    },
    "tags": []
   },
   "outputs": [
    {
     "data": {
      "text/plain": [
       "False"
      ]
     },
     "execution_count": 29,
     "metadata": {},
     "output_type": "execute_result"
    }
   ],
   "source": [
    "# We checked whether there is an outlier below the lower limit as True False.\n",
    "\n",
    "df_titanic[(df_titanic[\"Age\"] < low)].any(axis=None)"
   ]
  },
  {
   "cell_type": "markdown",
   "id": "9f7f4a08",
   "metadata": {
    "papermill": {
     "duration": 0.016997,
     "end_time": "2023-07-06T21:33:42.931637",
     "exception": false,
     "start_time": "2023-07-06T21:33:42.914640",
     "status": "completed"
    },
    "tags": []
   },
   "source": [
    "**The steps we have done so far:**\n",
    "\n",
    "1. We set a threshold value.\n",
    "2. We accessed outliers.\n",
    "3. We quickly checked for outliers."
   ]
  },
  {
   "cell_type": "markdown",
   "id": "c775ac80",
   "metadata": {
    "papermill": {
     "duration": 0.016872,
     "end_time": "2023-07-06T21:33:42.965824",
     "exception": false,
     "start_time": "2023-07-06T21:33:42.948952",
     "status": "completed"
    },
    "tags": []
   },
   "source": [
    "# Making These Steps We Have Done Above Into A Function."
   ]
  },
  {
   "cell_type": "code",
   "execution_count": 30,
   "id": "97ed2cc4",
   "metadata": {
    "execution": {
     "iopub.execute_input": "2023-07-06T21:33:43.001688Z",
     "iopub.status.busy": "2023-07-06T21:33:43.001349Z",
     "iopub.status.idle": "2023-07-06T21:33:43.010308Z",
     "shell.execute_reply": "2023-07-06T21:33:43.009360Z"
    },
    "papermill": {
     "duration": 0.029061,
     "end_time": "2023-07-06T21:33:43.012078",
     "exception": false,
     "start_time": "2023-07-06T21:33:42.983017",
     "status": "completed"
    },
    "tags": []
   },
   "outputs": [],
   "source": [
    "# Loading the Data Set\n",
    "\n",
    "df_titanic = pd.read_csv('/kaggle/input/data-science-day1-titanic/DSB_Day1_Titanic_train.csv')"
   ]
  },
  {
   "cell_type": "code",
   "execution_count": 31,
   "id": "ad736368",
   "metadata": {
    "execution": {
     "iopub.execute_input": "2023-07-06T21:33:43.047412Z",
     "iopub.status.busy": "2023-07-06T21:33:43.047073Z",
     "iopub.status.idle": "2023-07-06T21:33:43.052357Z",
     "shell.execute_reply": "2023-07-06T21:33:43.051378Z"
    },
    "papermill": {
     "duration": 0.025341,
     "end_time": "2023-07-06T21:33:43.054507",
     "exception": false,
     "start_time": "2023-07-06T21:33:43.029166",
     "status": "completed"
    },
    "tags": []
   },
   "outputs": [],
   "source": [
    "# Threshold determination function for outliers\n",
    "\n",
    "def outlier_thresholds(dataframe, col_name, q1=0.25, q3=0.75): \n",
    "    quartile1 = dataframe[col_name].quantile(q1) \n",
    "    quartile3 = dataframe[col_name].quantile(q3)\n",
    "    interquantile_range = quartile3 - quartile1\n",
    "    up_limit = quartile3 + 1.5 * interquantile_range\n",
    "    low_limit = quartile1 - 1.5 * interquantile_range\n",
    "    return low_limit, up_limit"
   ]
  },
  {
   "cell_type": "code",
   "execution_count": 32,
   "id": "eefe64ef",
   "metadata": {
    "execution": {
     "iopub.execute_input": "2023-07-06T21:33:43.090840Z",
     "iopub.status.busy": "2023-07-06T21:33:43.089473Z",
     "iopub.status.idle": "2023-07-06T21:33:43.098120Z",
     "shell.execute_reply": "2023-07-06T21:33:43.097206Z"
    },
    "papermill": {
     "duration": 0.027687,
     "end_time": "2023-07-06T21:33:43.099774",
     "exception": false,
     "start_time": "2023-07-06T21:33:43.072087",
     "status": "completed"
    },
    "tags": []
   },
   "outputs": [
    {
     "data": {
      "text/plain": [
       "(-6.6875, 64.8125)"
      ]
     },
     "execution_count": 32,
     "metadata": {},
     "output_type": "execute_result"
    }
   ],
   "source": [
    "# Determination of threshold value for Age variable\n",
    "\n",
    "outlier_thresholds(df_titanic, \"Age\")"
   ]
  },
  {
   "cell_type": "code",
   "execution_count": 33,
   "id": "1cc84699",
   "metadata": {
    "execution": {
     "iopub.execute_input": "2023-07-06T21:33:43.136424Z",
     "iopub.status.busy": "2023-07-06T21:33:43.136102Z",
     "iopub.status.idle": "2023-07-06T21:33:43.144747Z",
     "shell.execute_reply": "2023-07-06T21:33:43.143836Z"
    },
    "papermill": {
     "duration": 0.029017,
     "end_time": "2023-07-06T21:33:43.146413",
     "exception": false,
     "start_time": "2023-07-06T21:33:43.117396",
     "status": "completed"
    },
    "tags": []
   },
   "outputs": [
    {
     "data": {
      "text/plain": [
       "(-26.724, 65.6344)"
      ]
     },
     "execution_count": 33,
     "metadata": {},
     "output_type": "execute_result"
    }
   ],
   "source": [
    "# Determination of threshold value for Fare variable\n",
    "\n",
    "outlier_thresholds(df_titanic, \"Fare\")"
   ]
  },
  {
   "cell_type": "code",
   "execution_count": 34,
   "id": "0398ac21",
   "metadata": {
    "execution": {
     "iopub.execute_input": "2023-07-06T21:33:43.183646Z",
     "iopub.status.busy": "2023-07-06T21:33:43.182349Z",
     "iopub.status.idle": "2023-07-06T21:33:43.187807Z",
     "shell.execute_reply": "2023-07-06T21:33:43.186371Z"
    },
    "papermill": {
     "duration": 0.026419,
     "end_time": "2023-07-06T21:33:43.190367",
     "exception": false,
     "start_time": "2023-07-06T21:33:43.163948",
     "status": "completed"
    },
    "tags": []
   },
   "outputs": [],
   "source": [
    "# values from the outlier_thresholds function Assignment as lower and upper limit values.\n",
    "\n",
    "# low, up = outlier_thresholds(df_titanic, \"Age\")"
   ]
  },
  {
   "cell_type": "code",
   "execution_count": 35,
   "id": "08355481",
   "metadata": {
    "execution": {
     "iopub.execute_input": "2023-07-06T21:33:43.227629Z",
     "iopub.status.busy": "2023-07-06T21:33:43.227274Z",
     "iopub.status.idle": "2023-07-06T21:33:43.234669Z",
     "shell.execute_reply": "2023-07-06T21:33:43.233721Z"
    },
    "papermill": {
     "duration": 0.028126,
     "end_time": "2023-07-06T21:33:43.236344",
     "exception": false,
     "start_time": "2023-07-06T21:33:43.208218",
     "status": "completed"
    },
    "tags": []
   },
   "outputs": [],
   "source": [
    "# values from the outlier_thresholds function Assignment as lower and upper limit values.\n",
    "\n",
    "low, up = outlier_thresholds(df_titanic, \"Fare\")"
   ]
  },
  {
   "cell_type": "code",
   "execution_count": 36,
   "id": "5733acd8",
   "metadata": {
    "execution": {
     "iopub.execute_input": "2023-07-06T21:33:43.273865Z",
     "iopub.status.busy": "2023-07-06T21:33:43.273362Z",
     "iopub.status.idle": "2023-07-06T21:33:43.285639Z",
     "shell.execute_reply": "2023-07-06T21:33:43.285045Z"
    },
    "papermill": {
     "duration": 0.033217,
     "end_time": "2023-07-06T21:33:43.287323",
     "exception": false,
     "start_time": "2023-07-06T21:33:43.254106",
     "status": "completed"
    },
    "tags": []
   },
   "outputs": [
    {
     "data": {
      "text/html": [
       "<div>\n",
       "<style scoped>\n",
       "    .dataframe tbody tr th:only-of-type {\n",
       "        vertical-align: middle;\n",
       "    }\n",
       "\n",
       "    .dataframe tbody tr th {\n",
       "        vertical-align: top;\n",
       "    }\n",
       "\n",
       "    .dataframe thead th {\n",
       "        text-align: right;\n",
       "    }\n",
       "</style>\n",
       "<table border=\"1\" class=\"dataframe\">\n",
       "  <thead>\n",
       "    <tr style=\"text-align: right;\">\n",
       "      <th></th>\n",
       "      <th>PassengerId</th>\n",
       "      <th>Survived</th>\n",
       "      <th>Pclass</th>\n",
       "      <th>Name</th>\n",
       "      <th>Sex</th>\n",
       "      <th>Age</th>\n",
       "      <th>SibSp</th>\n",
       "      <th>Parch</th>\n",
       "      <th>Ticket</th>\n",
       "      <th>Fare</th>\n",
       "      <th>Cabin</th>\n",
       "      <th>Embarked</th>\n",
       "    </tr>\n",
       "  </thead>\n",
       "  <tbody>\n",
       "    <tr>\n",
       "      <th>1</th>\n",
       "      <td>2</td>\n",
       "      <td>1</td>\n",
       "      <td>1</td>\n",
       "      <td>Cumings, Mrs. John Bradley (Florence Briggs Th...</td>\n",
       "      <td>female</td>\n",
       "      <td>38.000</td>\n",
       "      <td>1</td>\n",
       "      <td>0</td>\n",
       "      <td>PC 17599</td>\n",
       "      <td>71.283</td>\n",
       "      <td>C85</td>\n",
       "      <td>C</td>\n",
       "    </tr>\n",
       "    <tr>\n",
       "      <th>27</th>\n",
       "      <td>28</td>\n",
       "      <td>0</td>\n",
       "      <td>1</td>\n",
       "      <td>Fortune, Mr. Charles Alexander</td>\n",
       "      <td>male</td>\n",
       "      <td>19.000</td>\n",
       "      <td>3</td>\n",
       "      <td>2</td>\n",
       "      <td>19950</td>\n",
       "      <td>263.000</td>\n",
       "      <td>C23 C25 C27</td>\n",
       "      <td>S</td>\n",
       "    </tr>\n",
       "    <tr>\n",
       "      <th>31</th>\n",
       "      <td>32</td>\n",
       "      <td>1</td>\n",
       "      <td>1</td>\n",
       "      <td>Spencer, Mrs. William Augustus (Marie Eugenie)</td>\n",
       "      <td>female</td>\n",
       "      <td>NaN</td>\n",
       "      <td>1</td>\n",
       "      <td>0</td>\n",
       "      <td>PC 17569</td>\n",
       "      <td>146.521</td>\n",
       "      <td>B78</td>\n",
       "      <td>C</td>\n",
       "    </tr>\n",
       "    <tr>\n",
       "      <th>34</th>\n",
       "      <td>35</td>\n",
       "      <td>0</td>\n",
       "      <td>1</td>\n",
       "      <td>Meyer, Mr. Edgar Joseph</td>\n",
       "      <td>male</td>\n",
       "      <td>28.000</td>\n",
       "      <td>1</td>\n",
       "      <td>0</td>\n",
       "      <td>PC 17604</td>\n",
       "      <td>82.171</td>\n",
       "      <td>NaN</td>\n",
       "      <td>C</td>\n",
       "    </tr>\n",
       "    <tr>\n",
       "      <th>52</th>\n",
       "      <td>53</td>\n",
       "      <td>1</td>\n",
       "      <td>1</td>\n",
       "      <td>Harper, Mrs. Henry Sleeper (Myna Haxtun)</td>\n",
       "      <td>female</td>\n",
       "      <td>49.000</td>\n",
       "      <td>1</td>\n",
       "      <td>0</td>\n",
       "      <td>PC 17572</td>\n",
       "      <td>76.729</td>\n",
       "      <td>D33</td>\n",
       "      <td>C</td>\n",
       "    </tr>\n",
       "  </tbody>\n",
       "</table>\n",
       "</div>"
      ],
      "text/plain": [
       "    PassengerId  Survived  Pclass                                               Name     Sex    Age  SibSp  Parch    Ticket    Fare        Cabin Embarked\n",
       "1             2         1       1  Cumings, Mrs. John Bradley (Florence Briggs Th...  female 38.000      1      0  PC 17599  71.283          C85        C\n",
       "27           28         0       1                     Fortune, Mr. Charles Alexander    male 19.000      3      2     19950 263.000  C23 C25 C27        S\n",
       "31           32         1       1     Spencer, Mrs. William Augustus (Marie Eugenie)  female    NaN      1      0  PC 17569 146.521          B78        C\n",
       "34           35         0       1                            Meyer, Mr. Edgar Joseph    male 28.000      1      0  PC 17604  82.171          NaN        C\n",
       "52           53         1       1           Harper, Mrs. Henry Sleeper (Myna Haxtun)  female 49.000      1      0  PC 17572  76.729          D33        C"
      ]
     },
     "execution_count": 36,
     "metadata": {},
     "output_type": "execute_result"
    }
   ],
   "source": [
    "# We selected outliers for the mouse variable.\n",
    "\n",
    "df_titanic[(df_titanic[\"Fare\"] < low) | (df_titanic[\"Fare\"] > up)].head()"
   ]
  },
  {
   "cell_type": "code",
   "execution_count": 37,
   "id": "a94ed5ac",
   "metadata": {
    "execution": {
     "iopub.execute_input": "2023-07-06T21:33:43.325269Z",
     "iopub.status.busy": "2023-07-06T21:33:43.324736Z",
     "iopub.status.idle": "2023-07-06T21:33:43.331701Z",
     "shell.execute_reply": "2023-07-06T21:33:43.330333Z"
    },
    "papermill": {
     "duration": 0.028546,
     "end_time": "2023-07-06T21:33:43.333820",
     "exception": false,
     "start_time": "2023-07-06T21:33:43.305274",
     "status": "completed"
    },
    "tags": []
   },
   "outputs": [
    {
     "data": {
      "text/plain": [
       "Int64Index([  1,  27,  31,  34,  52,  61,  62,  72,  88, 102,\n",
       "            ...\n",
       "            792, 802, 820, 829, 835, 846, 849, 856, 863, 879], dtype='int64', length=116)"
      ]
     },
     "execution_count": 37,
     "metadata": {},
     "output_type": "execute_result"
    }
   ],
   "source": [
    "# We accessed the index information of the outliers for the mouse variable.\n",
    "\n",
    "df_titanic[(df_titanic[\"Fare\"] < low) | (df_titanic[\"Fare\"] > up)].index"
   ]
  },
  {
   "cell_type": "code",
   "execution_count": 38,
   "id": "b9495f5d",
   "metadata": {
    "execution": {
     "iopub.execute_input": "2023-07-06T21:33:43.371918Z",
     "iopub.status.busy": "2023-07-06T21:33:43.371325Z",
     "iopub.status.idle": "2023-07-06T21:33:43.376034Z",
     "shell.execute_reply": "2023-07-06T21:33:43.375065Z"
    },
    "papermill": {
     "duration": 0.026308,
     "end_time": "2023-07-06T21:33:43.378137",
     "exception": false,
     "start_time": "2023-07-06T21:33:43.351829",
     "status": "completed"
    },
    "tags": []
   },
   "outputs": [],
   "source": [
    "# Functionalization of the above operations.\n",
    "\n",
    "def check_outlier(dataframe, col_name): \n",
    "    low_limit, up_limit = outlier_thresholds(dataframe, col_name)\n",
    "    if dataframe[(dataframe[col_name] > up_limit) | (dataframe[col_name] < low_limit)].any(axis=None):\n",
    "        return True\n",
    "    else:\n",
    "        return False"
   ]
  },
  {
   "cell_type": "code",
   "execution_count": 39,
   "id": "fe574415",
   "metadata": {
    "execution": {
     "iopub.execute_input": "2023-07-06T21:33:43.415309Z",
     "iopub.status.busy": "2023-07-06T21:33:43.414705Z",
     "iopub.status.idle": "2023-07-06T21:33:43.422785Z",
     "shell.execute_reply": "2023-07-06T21:33:43.422207Z"
    },
    "papermill": {
     "duration": 0.0287,
     "end_time": "2023-07-06T21:33:43.424723",
     "exception": false,
     "start_time": "2023-07-06T21:33:43.396023",
     "status": "completed"
    },
    "tags": []
   },
   "outputs": [
    {
     "data": {
      "text/plain": [
       "True"
      ]
     },
     "execution_count": 39,
     "metadata": {},
     "output_type": "execute_result"
    }
   ],
   "source": [
    "# Check for outliers in the Age variable.\n",
    "\n",
    "check_outlier(df_titanic, \"Age\")"
   ]
  },
  {
   "cell_type": "code",
   "execution_count": 40,
   "id": "1919ac8b",
   "metadata": {
    "execution": {
     "iopub.execute_input": "2023-07-06T21:33:43.461737Z",
     "iopub.status.busy": "2023-07-06T21:33:43.461291Z",
     "iopub.status.idle": "2023-07-06T21:33:43.471718Z",
     "shell.execute_reply": "2023-07-06T21:33:43.470389Z"
    },
    "papermill": {
     "duration": 0.031272,
     "end_time": "2023-07-06T21:33:43.473623",
     "exception": false,
     "start_time": "2023-07-06T21:33:43.442351",
     "status": "completed"
    },
    "tags": []
   },
   "outputs": [
    {
     "data": {
      "text/plain": [
       "True"
      ]
     },
     "execution_count": 40,
     "metadata": {},
     "output_type": "execute_result"
    }
   ],
   "source": [
    "# Check for outliers in the Fare variable.\n",
    "\n",
    "check_outlier(df_titanic, \"Fare\")"
   ]
  },
  {
   "cell_type": "code",
   "execution_count": 41,
   "id": "422dd4ce",
   "metadata": {
    "execution": {
     "iopub.execute_input": "2023-07-06T21:33:43.512011Z",
     "iopub.status.busy": "2023-07-06T21:33:43.511407Z",
     "iopub.status.idle": "2023-07-06T21:33:43.517073Z",
     "shell.execute_reply": "2023-07-06T21:33:43.516354Z"
    },
    "papermill": {
     "duration": 0.02784,
     "end_time": "2023-07-06T21:33:43.519391",
     "exception": false,
     "start_time": "2023-07-06T21:33:43.491551",
     "status": "completed"
    },
    "tags": []
   },
   "outputs": [],
   "source": [
    "# We check whether there is an outlier in the relevant variable in the data set. If there is an outlier, we access the index information of the observations.\n",
    "\n",
    "def grab_outliers(dataframe, col_name, index=False): \n",
    "    low, up = outlier_thresholds(dataframe, col_name)\n",
    "\n",
    "    if dataframe[((dataframe[col_name] < low) | (dataframe[col_name] > up))].shape[0] > 10:\n",
    "        print(dataframe[((dataframe[col_name] < low) | (dataframe[col_name] > up))].head()) \n",
    "    else: \n",
    "        print(dataframe[((dataframe[col_name] < low) | (dataframe[col_name] > up))]) \n",
    "\n",
    "    if index: \n",
    "        outlier_index = dataframe[((dataframe[col_name] < low) | (dataframe[col_name] > up))].index \n",
    "        return outlier_index "
   ]
  },
  {
   "cell_type": "code",
   "execution_count": 42,
   "id": "1af8cc73",
   "metadata": {
    "execution": {
     "iopub.execute_input": "2023-07-06T21:33:43.557263Z",
     "iopub.status.busy": "2023-07-06T21:33:43.556876Z",
     "iopub.status.idle": "2023-07-06T21:33:43.576885Z",
     "shell.execute_reply": "2023-07-06T21:33:43.575493Z"
    },
    "papermill": {
     "duration": 0.04149,
     "end_time": "2023-07-06T21:33:43.579105",
     "exception": false,
     "start_time": "2023-07-06T21:33:43.537615",
     "status": "completed"
    },
    "tags": []
   },
   "outputs": [
    {
     "name": "stdout",
     "output_type": "stream",
     "text": [
      "     PassengerId  Survived  Pclass                            Name   Sex    Age  SibSp  Parch      Ticket   Fare Cabin Embarked\n",
      "33            34         0       2           Wheadon, Mr. Edward H  male 66.000      0      0  C.A. 24579 10.500   NaN        S\n",
      "54            55         0       1  Ostby, Mr. Engelhart Cornelius  male 65.000      0      1      113509 61.979   B30        C\n",
      "96            97         0       1       Goldschmidt, Mr. George B  male 71.000      0      0    PC 17754 34.654    A5        C\n",
      "116          117         0       3            Connors, Mr. Patrick  male 70.500      0      0      370369  7.750   NaN        Q\n",
      "280          281         0       3                Duane, Mr. Frank  male 65.000      0      0      336439  7.750   NaN        Q\n",
      "    PassengerId  Survived  Pclass                                               Name     Sex    Age  SibSp  Parch    Ticket    Fare        Cabin Embarked\n",
      "1             2         1       1  Cumings, Mrs. John Bradley (Florence Briggs Th...  female 38.000      1      0  PC 17599  71.283          C85        C\n",
      "27           28         0       1                     Fortune, Mr. Charles Alexander    male 19.000      3      2     19950 263.000  C23 C25 C27        S\n",
      "31           32         1       1     Spencer, Mrs. William Augustus (Marie Eugenie)  female    NaN      1      0  PC 17569 146.521          B78        C\n",
      "34           35         0       1                            Meyer, Mr. Edgar Joseph    male 28.000      1      0  PC 17604  82.171          NaN        C\n",
      "52           53         1       1           Harper, Mrs. Henry Sleeper (Myna Haxtun)  female 49.000      1      0  PC 17572  76.729          D33        C\n"
     ]
    }
   ],
   "source": [
    "for col in num_cols:\n",
    "    grab_outliers(df_titanic, col, index=True)"
   ]
  },
  {
   "cell_type": "code",
   "execution_count": 43,
   "id": "a9874ccf",
   "metadata": {
    "execution": {
     "iopub.execute_input": "2023-07-06T21:33:43.616643Z",
     "iopub.status.busy": "2023-07-06T21:33:43.616156Z",
     "iopub.status.idle": "2023-07-06T21:33:43.630451Z",
     "shell.execute_reply": "2023-07-06T21:33:43.629261Z"
    },
    "papermill": {
     "duration": 0.035053,
     "end_time": "2023-07-06T21:33:43.632300",
     "exception": false,
     "start_time": "2023-07-06T21:33:43.597247",
     "status": "completed"
    },
    "tags": []
   },
   "outputs": [
    {
     "name": "stdout",
     "output_type": "stream",
     "text": [
      "     PassengerId  Survived  Pclass                            Name   Sex    Age  SibSp  Parch      Ticket   Fare Cabin Embarked\n",
      "33            34         0       2           Wheadon, Mr. Edward H  male 66.000      0      0  C.A. 24579 10.500   NaN        S\n",
      "54            55         0       1  Ostby, Mr. Engelhart Cornelius  male 65.000      0      1      113509 61.979   B30        C\n",
      "96            97         0       1       Goldschmidt, Mr. George B  male 71.000      0      0    PC 17754 34.654    A5        C\n",
      "116          117         0       3            Connors, Mr. Patrick  male 70.500      0      0      370369  7.750   NaN        Q\n",
      "280          281         0       3                Duane, Mr. Frank  male 65.000      0      0      336439  7.750   NaN        Q\n"
     ]
    },
    {
     "data": {
      "text/plain": [
       "Int64Index([33, 54, 96, 116, 280, 456, 493, 630, 672, 745, 851], dtype='int64')"
      ]
     },
     "execution_count": 43,
     "metadata": {},
     "output_type": "execute_result"
    }
   ],
   "source": [
    "grab_outliers(df_titanic, \"Age\", index=True)"
   ]
  },
  {
   "cell_type": "code",
   "execution_count": 44,
   "id": "b980f2a0",
   "metadata": {
    "execution": {
     "iopub.execute_input": "2023-07-06T21:33:43.670038Z",
     "iopub.status.busy": "2023-07-06T21:33:43.669675Z",
     "iopub.status.idle": "2023-07-06T21:33:43.685649Z",
     "shell.execute_reply": "2023-07-06T21:33:43.684658Z"
    },
    "papermill": {
     "duration": 0.037499,
     "end_time": "2023-07-06T21:33:43.687513",
     "exception": false,
     "start_time": "2023-07-06T21:33:43.650014",
     "status": "completed"
    },
    "tags": []
   },
   "outputs": [
    {
     "name": "stdout",
     "output_type": "stream",
     "text": [
      "    PassengerId  Survived  Pclass                                               Name     Sex    Age  SibSp  Parch    Ticket    Fare        Cabin Embarked\n",
      "1             2         1       1  Cumings, Mrs. John Bradley (Florence Briggs Th...  female 38.000      1      0  PC 17599  71.283          C85        C\n",
      "27           28         0       1                     Fortune, Mr. Charles Alexander    male 19.000      3      2     19950 263.000  C23 C25 C27        S\n",
      "31           32         1       1     Spencer, Mrs. William Augustus (Marie Eugenie)  female    NaN      1      0  PC 17569 146.521          B78        C\n",
      "34           35         0       1                            Meyer, Mr. Edgar Joseph    male 28.000      1      0  PC 17604  82.171          NaN        C\n",
      "52           53         1       1           Harper, Mrs. Henry Sleeper (Myna Haxtun)  female 49.000      1      0  PC 17572  76.729          D33        C\n"
     ]
    },
    {
     "data": {
      "text/plain": [
       "Int64Index([  1,  27,  31,  34,  52,  61,  62,  72,  88, 102,\n",
       "            ...\n",
       "            792, 802, 820, 829, 835, 846, 849, 856, 863, 879], dtype='int64', length=116)"
      ]
     },
     "execution_count": 44,
     "metadata": {},
     "output_type": "execute_result"
    }
   ],
   "source": [
    "grab_outliers(df_titanic, \"Fare\", index=True)"
   ]
  },
  {
   "cell_type": "code",
   "execution_count": 45,
   "id": "8f27fca4",
   "metadata": {
    "execution": {
     "iopub.execute_input": "2023-07-06T21:33:43.725608Z",
     "iopub.status.busy": "2023-07-06T21:33:43.725290Z",
     "iopub.status.idle": "2023-07-06T21:33:43.730608Z",
     "shell.execute_reply": "2023-07-06T21:33:43.729501Z"
    },
    "papermill": {
     "duration": 0.026706,
     "end_time": "2023-07-06T21:33:43.732427",
     "exception": false,
     "start_time": "2023-07-06T21:33:43.705721",
     "status": "completed"
    },
    "tags": []
   },
   "outputs": [],
   "source": [
    "def boxplot_outliers(dataframe, col_name):\n",
    "    plt.figure(figsize=(5, 5))\n",
    "    sns.boxplot(x=dataframe[col_name])\n",
    "    plt.show(block=True)"
   ]
  },
  {
   "cell_type": "code",
   "execution_count": 46,
   "id": "445695d5",
   "metadata": {
    "execution": {
     "iopub.execute_input": "2023-07-06T21:33:43.770184Z",
     "iopub.status.busy": "2023-07-06T21:33:43.769789Z",
     "iopub.status.idle": "2023-07-06T21:33:43.904027Z",
     "shell.execute_reply": "2023-07-06T21:33:43.903279Z"
    },
    "papermill": {
     "duration": 0.155161,
     "end_time": "2023-07-06T21:33:43.905620",
     "exception": false,
     "start_time": "2023-07-06T21:33:43.750459",
     "status": "completed"
    },
    "tags": []
   },
   "outputs": [
    {
     "data": {
      "image/png": "[encoded data removed]",
      "text/plain": [
       "<Figure size 500x500 with 1 Axes>"
      ]
     },
     "metadata": {},
     "output_type": "display_data"
    }
   ],
   "source": [
    "boxplot_outliers(df_titanic, \"Age\")"
   ]
  },
  {
   "cell_type": "code",
   "execution_count": 47,
   "id": "1becb307",
   "metadata": {
    "execution": {
     "iopub.execute_input": "2023-07-06T21:33:43.948607Z",
     "iopub.status.busy": "2023-07-06T21:33:43.947640Z",
     "iopub.status.idle": "2023-07-06T21:33:44.064177Z",
     "shell.execute_reply": "2023-07-06T21:33:44.063074Z"
    },
    "papermill": {
     "duration": 0.139636,
     "end_time": "2023-07-06T21:33:44.066912",
     "exception": false,
     "start_time": "2023-07-06T21:33:43.927276",
     "status": "completed"
    },
    "tags": []
   },
   "outputs": [
    {
     "data": {
      "image/png": "[encoded data removed]",
      "text/plain": [
       "<Figure size 500x500 with 1 Axes>"
      ]
     },
     "metadata": {},
     "output_type": "display_data"
    }
   ],
   "source": [
    "boxplot_outliers(df_titanic, \"Fare\")"
   ]
  },
  {
   "cell_type": "markdown",
   "id": "260c991e",
   "metadata": {
    "papermill": {
     "duration": 0.019448,
     "end_time": "2023-07-06T21:33:44.110194",
     "exception": false,
     "start_time": "2023-07-06T21:33:44.090746",
     "status": "completed"
    },
    "tags": []
   },
   "source": [
    "- **In the above operations, we determined the threshold values for outlier detection and checked whether there are outliers for each of the numeric variables according to these thresholds.**"
   ]
  },
  {
   "cell_type": "markdown",
   "id": "915fbf1b",
   "metadata": {
    "papermill": {
     "duration": 0.01847,
     "end_time": "2023-07-06T21:33:44.147022",
     "exception": false,
     "start_time": "2023-07-06T21:33:44.128552",
     "status": "completed"
    },
    "tags": []
   },
   "source": [
    "- **So what kind of actions will we take for these outliers we have detected?**"
   ]
  },
  {
   "cell_type": "code",
   "execution_count": 48,
   "id": "9478c1ed",
   "metadata": {
    "execution": {
     "iopub.execute_input": "2023-07-06T21:33:44.186183Z",
     "iopub.status.busy": "2023-07-06T21:33:44.185231Z",
     "iopub.status.idle": "2023-07-06T21:33:44.190177Z",
     "shell.execute_reply": "2023-07-06T21:33:44.189500Z"
    },
    "papermill": {
     "duration": 0.026777,
     "end_time": "2023-07-06T21:33:44.192369",
     "exception": false,
     "start_time": "2023-07-06T21:33:44.165592",
     "status": "completed"
    },
    "tags": []
   },
   "outputs": [],
   "source": [
    "# Removing outliers from the data set.\n",
    "\n",
    "def remove_outlier(dataframe, col_name):\n",
    "    low_limit, up_limit = outlier_thresholds(dataframe, col_name)\n",
    "    df_without_outliers = dataframe[~((dataframe[col_name] < low_limit) | (dataframe[col_name] > up_limit))]\n",
    "    return df_without_outliers"
   ]
  },
  {
   "cell_type": "code",
   "execution_count": 49,
   "id": "ef09b3dc",
   "metadata": {
    "execution": {
     "iopub.execute_input": "2023-07-06T21:33:44.232778Z",
     "iopub.status.busy": "2023-07-06T21:33:44.232235Z",
     "iopub.status.idle": "2023-07-06T21:33:44.237178Z",
     "shell.execute_reply": "2023-07-06T21:33:44.236487Z"
    },
    "papermill": {
     "duration": 0.027345,
     "end_time": "2023-07-06T21:33:44.238954",
     "exception": false,
     "start_time": "2023-07-06T21:33:44.211609",
     "status": "completed"
    },
    "tags": []
   },
   "outputs": [],
   "source": [
    "def check_outlier(dataframe, col_name):\n",
    "    low_limit, up_limit = outlier_thresholds(dataframe, col_name)\n",
    "    if dataframe[(dataframe[col_name] > up_limit) | (dataframe[col_name] < low_limit)].any(axis=None):\n",
    "        return True\n",
    "    else:\n",
    "        return False\n"
   ]
  },
  {
   "cell_type": "code",
   "execution_count": 50,
   "id": "080079e0",
   "metadata": {
    "execution": {
     "iopub.execute_input": "2023-07-06T21:33:44.277602Z",
     "iopub.status.busy": "2023-07-06T21:33:44.277042Z",
     "iopub.status.idle": "2023-07-06T21:33:44.286375Z",
     "shell.execute_reply": "2023-07-06T21:33:44.285577Z"
    },
    "papermill": {
     "duration": 0.030461,
     "end_time": "2023-07-06T21:33:44.288083",
     "exception": false,
     "start_time": "2023-07-06T21:33:44.257622",
     "status": "completed"
    },
    "tags": []
   },
   "outputs": [],
   "source": [
    "for col in num_cols:\n",
    "    df_titanic = remove_outlier(df_titanic, col)"
   ]
  },
  {
   "cell_type": "code",
   "execution_count": 51,
   "id": "910bd719",
   "metadata": {
    "execution": {
     "iopub.execute_input": "2023-07-06T21:33:44.325955Z",
     "iopub.status.busy": "2023-07-06T21:33:44.325607Z",
     "iopub.status.idle": "2023-07-06T21:33:44.338343Z",
     "shell.execute_reply": "2023-07-06T21:33:44.336996Z"
    },
    "papermill": {
     "duration": 0.034666,
     "end_time": "2023-07-06T21:33:44.340753",
     "exception": false,
     "start_time": "2023-07-06T21:33:44.306087",
     "status": "completed"
    },
    "tags": []
   },
   "outputs": [
    {
     "name": "stdout",
     "output_type": "stream",
     "text": [
      "True\n",
      "True\n"
     ]
    }
   ],
   "source": [
    "for col in num_cols:\n",
    "    is_outlier = check_outlier(df_titanic, col)\n",
    "    print(is_outlier)"
   ]
  },
  {
   "cell_type": "code",
   "execution_count": 52,
   "id": "2598a0c4",
   "metadata": {
    "execution": {
     "iopub.execute_input": "2023-07-06T21:33:44.380362Z",
     "iopub.status.busy": "2023-07-06T21:33:44.379319Z",
     "iopub.status.idle": "2023-07-06T21:33:44.384083Z",
     "shell.execute_reply": "2023-07-06T21:33:44.383437Z"
    },
    "papermill": {
     "duration": 0.026285,
     "end_time": "2023-07-06T21:33:44.386160",
     "exception": false,
     "start_time": "2023-07-06T21:33:44.359875",
     "status": "completed"
    },
    "tags": []
   },
   "outputs": [],
   "source": [
    "# Re-assignment with thresholds\n",
    "\n",
    "def replace_with_thresholds(dataframe, variable): \n",
    "    low_limit, up_limit = outlier_thresholds(dataframe, variable)\n",
    "    dataframe.loc[(dataframe[variable] < low_limit), variable] = low_limit\n",
    "    dataframe.loc[(dataframe[variable] > up_limit), variable] = up_limit"
   ]
  },
  {
   "cell_type": "code",
   "execution_count": 53,
   "id": "d721ffc7",
   "metadata": {
    "execution": {
     "iopub.execute_input": "2023-07-06T21:33:44.425207Z",
     "iopub.status.busy": "2023-07-06T21:33:44.424394Z",
     "iopub.status.idle": "2023-07-06T21:33:44.428955Z",
     "shell.execute_reply": "2023-07-06T21:33:44.428339Z"
    },
    "papermill": {
     "duration": 0.025463,
     "end_time": "2023-07-06T21:33:44.430440",
     "exception": false,
     "start_time": "2023-07-06T21:33:44.404977",
     "status": "completed"
    },
    "tags": []
   },
   "outputs": [],
   "source": [
    "def check_outlier(dataframe, col_name):\n",
    "    low_limit, up_limit = outlier_thresholds(dataframe, col_name)\n",
    "    if dataframe[(dataframe[col_name] > up_limit) | (dataframe[col_name] < low_limit)].any(axis=None):\n",
    "        return True\n",
    "    else:\n",
    "        return False"
   ]
  },
  {
   "cell_type": "code",
   "execution_count": 54,
   "id": "ce8be108",
   "metadata": {
    "execution": {
     "iopub.execute_input": "2023-07-06T21:33:44.472882Z",
     "iopub.status.busy": "2023-07-06T21:33:44.471831Z",
     "iopub.status.idle": "2023-07-06T21:33:44.481371Z",
     "shell.execute_reply": "2023-07-06T21:33:44.480637Z"
    },
    "papermill": {
     "duration": 0.034894,
     "end_time": "2023-07-06T21:33:44.484028",
     "exception": false,
     "start_time": "2023-07-06T21:33:44.449134",
     "status": "completed"
    },
    "tags": []
   },
   "outputs": [],
   "source": [
    "for col in num_cols: \n",
    "    replace_with_thresholds(df_titanic, col)"
   ]
  },
  {
   "cell_type": "code",
   "execution_count": 55,
   "id": "833bd065",
   "metadata": {
    "execution": {
     "iopub.execute_input": "2023-07-06T21:33:44.532379Z",
     "iopub.status.busy": "2023-07-06T21:33:44.532032Z",
     "iopub.status.idle": "2023-07-06T21:33:44.544460Z",
     "shell.execute_reply": "2023-07-06T21:33:44.542772Z"
    },
    "papermill": {
     "duration": 0.035941,
     "end_time": "2023-07-06T21:33:44.546789",
     "exception": false,
     "start_time": "2023-07-06T21:33:44.510848",
     "status": "completed"
    },
    "tags": []
   },
   "outputs": [
    {
     "name": "stdout",
     "output_type": "stream",
     "text": [
      "There are no outliers in column Age.\n",
      "There are no outliers in column Fare.\n"
     ]
    }
   ],
   "source": [
    "for col in num_cols:\n",
    "    is_outlier = check_outlier(df_titanic, col)\n",
    "    print(f\"There are {'outliers' if is_outlier else 'no outliers'} in column {col}.\")"
   ]
  },
  {
   "cell_type": "markdown",
   "id": "a0fd324b",
   "metadata": {
    "papermill": {
     "duration": 0.018265,
     "end_time": "2023-07-06T21:33:44.583845",
     "exception": false,
     "start_time": "2023-07-06T21:33:44.565580",
     "status": "completed"
    },
    "tags": []
   },
   "source": [
    "# Application_Train Dataset"
   ]
  },
  {
   "cell_type": "code",
   "execution_count": 56,
   "id": "9f334c46",
   "metadata": {
    "execution": {
     "iopub.execute_input": "2023-07-06T21:33:44.624075Z",
     "iopub.status.busy": "2023-07-06T21:33:44.623688Z",
     "iopub.status.idle": "2023-07-06T21:33:48.849006Z",
     "shell.execute_reply": "2023-07-06T21:33:48.847762Z"
    },
    "papermill": {
     "duration": 4.24868,
     "end_time": "2023-07-06T21:33:48.851407",
     "exception": false,
     "start_time": "2023-07-06T21:33:44.602727",
     "status": "completed"
    },
    "tags": []
   },
   "outputs": [],
   "source": [
    "# Loading the Data Set\n",
    "\n",
    "df_application_train = pd.read_csv('/kaggle/input/application-train/application_train.csv')"
   ]
  },
  {
   "cell_type": "code",
   "execution_count": 57,
   "id": "5f180d73",
   "metadata": {
    "execution": {
     "iopub.execute_input": "2023-07-06T21:33:48.890910Z",
     "iopub.status.busy": "2023-07-06T21:33:48.890607Z",
     "iopub.status.idle": "2023-07-06T21:33:50.908523Z",
     "shell.execute_reply": "2023-07-06T21:33:50.907344Z"
    },
    "papermill": {
     "duration": 2.039799,
     "end_time": "2023-07-06T21:33:50.910340",
     "exception": false,
     "start_time": "2023-07-06T21:33:48.870541",
     "status": "completed"
    },
    "tags": []
   },
   "outputs": [
    {
     "name": "stdout",
     "output_type": "stream",
     "text": [
      "##################### Shape #####################\n",
      "(307511, 122)\n",
      "##################### Types #####################\n",
      "SK_ID_CURR                        int64\n",
      "TARGET                            int64\n",
      "NAME_CONTRACT_TYPE               object\n",
      "CODE_GENDER                      object\n",
      "FLAG_OWN_CAR                     object\n",
      "FLAG_OWN_REALTY                  object\n",
      "CNT_CHILDREN                      int64\n",
      "AMT_INCOME_TOTAL                float64\n",
      "AMT_CREDIT                      float64\n",
      "AMT_ANNUITY                     float64\n",
      "AMT_GOODS_PRICE                 float64\n",
      "NAME_TYPE_SUITE                  object\n",
      "NAME_INCOME_TYPE                 object\n",
      "NAME_EDUCATION_TYPE              object\n",
      "NAME_FAMILY_STATUS               object\n",
      "NAME_HOUSING_TYPE                object\n",
      "REGION_POPULATION_RELATIVE      float64\n",
      "DAYS_BIRTH                        int64\n",
      "DAYS_EMPLOYED                     int64\n",
      "DAYS_REGISTRATION               float64\n",
      "DAYS_ID_PUBLISH                   int64\n",
      "OWN_CAR_AGE                     float64\n",
      "FLAG_MOBIL                        int64\n",
      "FLAG_EMP_PHONE                    int64\n",
      "FLAG_WORK_PHONE                   int64\n",
      "FLAG_CONT_MOBILE                  int64\n",
      "FLAG_PHONE                        int64\n",
      "FLAG_EMAIL                        int64\n",
      "OCCUPATION_TYPE                  object\n",
      "CNT_FAM_MEMBERS                 float64\n",
      "REGION_RATING_CLIENT              int64\n",
      "REGION_RATING_CLIENT_W_CITY       int64\n",
      "WEEKDAY_APPR_PROCESS_START       object\n",
      "HOUR_APPR_PROCESS_START           int64\n",
      "REG_REGION_NOT_LIVE_REGION        int64\n",
      "REG_REGION_NOT_WORK_REGION        int64\n",
      "LIVE_REGION_NOT_WORK_REGION       int64\n",
      "REG_CITY_NOT_LIVE_CITY            int64\n",
      "REG_CITY_NOT_WORK_CITY            int64\n",
      "LIVE_CITY_NOT_WORK_CITY           int64\n",
      "ORGANIZATION_TYPE                object\n",
      "EXT_SOURCE_1                    float64\n",
      "EXT_SOURCE_2                    float64\n",
      "EXT_SOURCE_3                    float64\n",
      "APARTMENTS_AVG                  float64\n",
      "BASEMENTAREA_AVG                float64\n",
      "YEARS_BEGINEXPLUATATION_AVG     float64\n",
      "YEARS_BUILD_AVG                 float64\n",
      "COMMONAREA_AVG                  float64\n",
      "ELEVATORS_AVG                   float64\n",
      "ENTRANCES_AVG                   float64\n",
      "FLOORSMAX_AVG                   float64\n",
      "FLOORSMIN_AVG                   float64\n",
      "LANDAREA_AVG                    float64\n",
      "LIVINGAPARTMENTS_AVG            float64\n",
      "LIVINGAREA_AVG                  float64\n",
      "NONLIVINGAPARTMENTS_AVG         float64\n",
      "NONLIVINGAREA_AVG               float64\n",
      "APARTMENTS_MODE                 float64\n",
      "BASEMENTAREA_MODE               float64\n",
      "YEARS_BEGINEXPLUATATION_MODE    float64\n",
      "YEARS_BUILD_MODE                float64\n",
      "COMMONAREA_MODE                 float64\n",
      "ELEVATORS_MODE                  float64\n",
      "ENTRANCES_MODE                  float64\n",
      "FLOORSMAX_MODE                  float64\n",
      "FLOORSMIN_MODE                  float64\n",
      "LANDAREA_MODE                   float64\n",
      "LIVINGAPARTMENTS_MODE           float64\n",
      "LIVINGAREA_MODE                 float64\n",
      "NONLIVINGAPARTMENTS_MODE        float64\n",
      "NONLIVINGAREA_MODE              float64\n",
      "APARTMENTS_MEDI                 float64\n",
      "BASEMENTAREA_MEDI               float64\n",
      "YEARS_BEGINEXPLUATATION_MEDI    float64\n",
      "YEARS_BUILD_MEDI                float64\n",
      "COMMONAREA_MEDI                 float64\n",
      "ELEVATORS_MEDI                  float64\n",
      "ENTRANCES_MEDI                  float64\n",
      "FLOORSMAX_MEDI                  float64\n",
      "FLOORSMIN_MEDI                  float64\n",
      "LANDAREA_MEDI                   float64\n",
      "LIVINGAPARTMENTS_MEDI           float64\n",
      "LIVINGAREA_MEDI                 float64\n",
      "NONLIVINGAPARTMENTS_MEDI        float64\n",
      "NONLIVINGAREA_MEDI              float64\n",
      "FONDKAPREMONT_MODE               object\n",
      "HOUSETYPE_MODE                   object\n",
      "TOTALAREA_MODE                  float64\n",
      "WALLSMATERIAL_MODE               object\n",
      "EMERGENCYSTATE_MODE              object\n",
      "OBS_30_CNT_SOCIAL_CIRCLE        float64\n",
      "DEF_30_CNT_SOCIAL_CIRCLE        float64\n",
      "OBS_60_CNT_SOCIAL_CIRCLE        float64\n",
      "DEF_60_CNT_SOCIAL_CIRCLE        float64\n",
      "DAYS_LAST_PHONE_CHANGE          float64\n",
      "FLAG_DOCUMENT_2                   int64\n",
      "FLAG_DOCUMENT_3                   int64\n",
      "FLAG_DOCUMENT_4                   int64\n",
      "FLAG_DOCUMENT_5                   int64\n",
      "FLAG_DOCUMENT_6                   int64\n",
      "FLAG_DOCUMENT_7                   int64\n",
      "FLAG_DOCUMENT_8                   int64\n",
      "FLAG_DOCUMENT_9                   int64\n",
      "FLAG_DOCUMENT_10                  int64\n",
      "FLAG_DOCUMENT_11                  int64\n",
      "FLAG_DOCUMENT_12                  int64\n",
      "FLAG_DOCUMENT_13                  int64\n",
      "FLAG_DOCUMENT_14                  int64\n",
      "FLAG_DOCUMENT_15                  int64\n",
      "FLAG_DOCUMENT_16                  int64\n",
      "FLAG_DOCUMENT_17                  int64\n",
      "FLAG_DOCUMENT_18                  int64\n",
      "FLAG_DOCUMENT_19                  int64\n",
      "FLAG_DOCUMENT_20                  int64\n",
      "FLAG_DOCUMENT_21                  int64\n",
      "AMT_REQ_CREDIT_BUREAU_HOUR      float64\n",
      "AMT_REQ_CREDIT_BUREAU_DAY       float64\n",
      "AMT_REQ_CREDIT_BUREAU_WEEK      float64\n",
      "AMT_REQ_CREDIT_BUREAU_MON       float64\n",
      "AMT_REQ_CREDIT_BUREAU_QRT       float64\n",
      "AMT_REQ_CREDIT_BUREAU_YEAR      float64\n",
      "dtype: object\n",
      "##################### Head #####################\n",
      "   SK_ID_CURR  TARGET NAME_CONTRACT_TYPE CODE_GENDER FLAG_OWN_CAR FLAG_OWN_REALTY  CNT_CHILDREN  AMT_INCOME_TOTAL  AMT_CREDIT  AMT_ANNUITY  AMT_GOODS_PRICE NAME_TYPE_SUITE NAME_INCOME_TYPE            NAME_EDUCATION_TYPE    NAME_FAMILY_STATUS  NAME_HOUSING_TYPE  REGION_POPULATION_RELATIVE  DAYS_BIRTH  DAYS_EMPLOYED  DAYS_REGISTRATION  DAYS_ID_PUBLISH  OWN_CAR_AGE  FLAG_MOBIL  FLAG_EMP_PHONE  FLAG_WORK_PHONE  FLAG_CONT_MOBILE  FLAG_PHONE  FLAG_EMAIL OCCUPATION_TYPE  CNT_FAM_MEMBERS  \\\n",
      "0      100002       1         Cash loans           M            N               Y             0        202500.000  406597.500    24700.500       351000.000   Unaccompanied          Working  Secondary / secondary special  Single / not married  House / apartment                       0.019       -9461           -637          -3648.000            -2120          NaN           1               1                0                 1           1           0        Laborers            1.000   \n",
      "1      100003       0         Cash loans           F            N               N             0        270000.000 1293502.500    35698.500      1129500.000          Family    State servant               Higher education               Married  House / apartment                       0.004      -16765          -1188          -1186.000             -291          NaN           1               1                0                 1           1           0      Core staff            2.000   \n",
      "2      100004       0    Revolving loans           M            Y               Y             0         67500.000  135000.000     6750.000       135000.000   Unaccompanied          Working  Secondary / secondary special  Single / not married  House / apartment                       0.010      -19046           -225          -4260.000            -2531       26.000           1               1                1                 1           1           0        Laborers            1.000   \n",
      "3      100006       0         Cash loans           F            N               Y             0        135000.000  312682.500    29686.500       297000.000   Unaccompanied          Working  Secondary / secondary special        Civil marriage  House / apartment                       0.008      -19005          -3039          -9833.000            -2437          NaN           1               1                0                 1           0           0        Laborers            2.000   \n",
      "4      100007       0         Cash loans           M            N               Y             0        121500.000  513000.000    21865.500       513000.000   Unaccompanied          Working  Secondary / secondary special  Single / not married  House / apartment                       0.029      -19932          -3038          -4311.000            -3458          NaN           1               1                0                 1           0           0      Core staff            1.000   \n",
      "\n",
      "   REGION_RATING_CLIENT  REGION_RATING_CLIENT_W_CITY WEEKDAY_APPR_PROCESS_START  HOUR_APPR_PROCESS_START  REG_REGION_NOT_LIVE_REGION  REG_REGION_NOT_WORK_REGION  LIVE_REGION_NOT_WORK_REGION  REG_CITY_NOT_LIVE_CITY  REG_CITY_NOT_WORK_CITY  LIVE_CITY_NOT_WORK_CITY       ORGANIZATION_TYPE  EXT_SOURCE_1  EXT_SOURCE_2  EXT_SOURCE_3  APARTMENTS_AVG  BASEMENTAREA_AVG  YEARS_BEGINEXPLUATATION_AVG  YEARS_BUILD_AVG  COMMONAREA_AVG  ELEVATORS_AVG  ENTRANCES_AVG  FLOORSMAX_AVG  FLOORSMIN_AVG  \\\n",
      "0                     2                            2                  WEDNESDAY                       10                           0                           0                            0                       0                       0                        0  Business Entity Type 3         0.083         0.263         0.139           0.025             0.037                        0.972            0.619           0.014          0.000          0.069          0.083          0.125   \n",
      "1                     1                            1                     MONDAY                       11                           0                           0                            0                       0                       0                        0                  School         0.311         0.622           NaN           0.096             0.053                        0.985            0.796           0.060          0.080          0.035          0.292          0.333   \n",
      "2                     2                            2                     MONDAY                        9                           0                           0                            0                       0                       0                        0              Government           NaN         0.556         0.730             NaN               NaN                          NaN              NaN             NaN            NaN            NaN            NaN            NaN   \n",
      "3                     2                            2                  WEDNESDAY                       17                           0                           0                            0                       0                       0                        0  Business Entity Type 3           NaN         0.650           NaN             NaN               NaN                          NaN              NaN             NaN            NaN            NaN            NaN            NaN   \n",
      "4                     2                            2                   THURSDAY                       11                           0                           0                            0                       0                       1                        1                Religion           NaN         0.323           NaN             NaN               NaN                          NaN              NaN             NaN            NaN            NaN            NaN            NaN   \n",
      "\n",
      "   LANDAREA_AVG  LIVINGAPARTMENTS_AVG  LIVINGAREA_AVG  NONLIVINGAPARTMENTS_AVG  NONLIVINGAREA_AVG  APARTMENTS_MODE  BASEMENTAREA_MODE  YEARS_BEGINEXPLUATATION_MODE  YEARS_BUILD_MODE  COMMONAREA_MODE  ELEVATORS_MODE  ENTRANCES_MODE  FLOORSMAX_MODE  FLOORSMIN_MODE  LANDAREA_MODE  LIVINGAPARTMENTS_MODE  LIVINGAREA_MODE  NONLIVINGAPARTMENTS_MODE  NONLIVINGAREA_MODE  APARTMENTS_MEDI  BASEMENTAREA_MEDI  YEARS_BEGINEXPLUATATION_MEDI  YEARS_BUILD_MEDI  COMMONAREA_MEDI  ELEVATORS_MEDI  ENTRANCES_MEDI  \\\n",
      "0         0.037                 0.020           0.019                    0.000              0.000            0.025              0.038                         0.972             0.634            0.014           0.000           0.069           0.083           0.125          0.038                  0.022            0.020                     0.000               0.000            0.025              0.037                         0.972             0.624            0.014           0.000           0.069   \n",
      "1         0.013                 0.077           0.055                    0.004              0.010            0.092              0.054                         0.985             0.804            0.050           0.081           0.035           0.292           0.333          0.013                  0.079            0.055                     0.000               0.000            0.097              0.053                         0.985             0.799            0.061           0.080           0.035   \n",
      "2           NaN                   NaN             NaN                      NaN                NaN              NaN                NaN                           NaN               NaN              NaN             NaN             NaN             NaN             NaN            NaN                    NaN              NaN                       NaN                 NaN              NaN                NaN                           NaN               NaN              NaN             NaN             NaN   \n",
      "3           NaN                   NaN             NaN                      NaN                NaN              NaN                NaN                           NaN               NaN              NaN             NaN             NaN             NaN             NaN            NaN                    NaN              NaN                       NaN                 NaN              NaN                NaN                           NaN               NaN              NaN             NaN             NaN   \n",
      "4           NaN                   NaN             NaN                      NaN                NaN              NaN                NaN                           NaN               NaN              NaN             NaN             NaN             NaN             NaN            NaN                    NaN              NaN                       NaN                 NaN              NaN                NaN                           NaN               NaN              NaN             NaN             NaN   \n",
      "\n",
      "   FLOORSMAX_MEDI  FLOORSMIN_MEDI  LANDAREA_MEDI  LIVINGAPARTMENTS_MEDI  LIVINGAREA_MEDI  NONLIVINGAPARTMENTS_MEDI  NONLIVINGAREA_MEDI FONDKAPREMONT_MODE  HOUSETYPE_MODE  TOTALAREA_MODE WALLSMATERIAL_MODE EMERGENCYSTATE_MODE  OBS_30_CNT_SOCIAL_CIRCLE  DEF_30_CNT_SOCIAL_CIRCLE  OBS_60_CNT_SOCIAL_CIRCLE  DEF_60_CNT_SOCIAL_CIRCLE  DAYS_LAST_PHONE_CHANGE  FLAG_DOCUMENT_2  FLAG_DOCUMENT_3  FLAG_DOCUMENT_4  FLAG_DOCUMENT_5  FLAG_DOCUMENT_6  FLAG_DOCUMENT_7  FLAG_DOCUMENT_8  FLAG_DOCUMENT_9  \\\n",
      "0           0.083           0.125          0.037                  0.021            0.019                     0.000               0.000   reg oper account  block of flats           0.015       Stone, brick                  No                     2.000                     2.000                     2.000                     2.000               -1134.000                0                1                0                0                0                0                0                0   \n",
      "1           0.292           0.333          0.013                  0.079            0.056                     0.004               0.010   reg oper account  block of flats           0.071              Block                  No                     1.000                     0.000                     1.000                     0.000                -828.000                0                1                0                0                0                0                0                0   \n",
      "2             NaN             NaN            NaN                    NaN              NaN                       NaN                 NaN                NaN             NaN             NaN                NaN                 NaN                     0.000                     0.000                     0.000                     0.000                -815.000                0                0                0                0                0                0                0                0   \n",
      "3             NaN             NaN            NaN                    NaN              NaN                       NaN                 NaN                NaN             NaN             NaN                NaN                 NaN                     2.000                     0.000                     2.000                     0.000                -617.000                0                1                0                0                0                0                0                0   \n",
      "4             NaN             NaN            NaN                    NaN              NaN                       NaN                 NaN                NaN             NaN             NaN                NaN                 NaN                     0.000                     0.000                     0.000                     0.000               -1106.000                0                0                0                0                0                0                1                0   \n",
      "\n",
      "   FLAG_DOCUMENT_10  FLAG_DOCUMENT_11  FLAG_DOCUMENT_12  FLAG_DOCUMENT_13  FLAG_DOCUMENT_14  FLAG_DOCUMENT_15  FLAG_DOCUMENT_16  FLAG_DOCUMENT_17  FLAG_DOCUMENT_18  FLAG_DOCUMENT_19  FLAG_DOCUMENT_20  FLAG_DOCUMENT_21  AMT_REQ_CREDIT_BUREAU_HOUR  AMT_REQ_CREDIT_BUREAU_DAY  AMT_REQ_CREDIT_BUREAU_WEEK  AMT_REQ_CREDIT_BUREAU_MON  AMT_REQ_CREDIT_BUREAU_QRT  AMT_REQ_CREDIT_BUREAU_YEAR  \n",
      "0                 0                 0                 0                 0                 0                 0                 0                 0                 0                 0                 0                 0                       0.000                      0.000                       0.000                      0.000                      0.000                       1.000  \n",
      "1                 0                 0                 0                 0                 0                 0                 0                 0                 0                 0                 0                 0                       0.000                      0.000                       0.000                      0.000                      0.000                       0.000  \n",
      "2                 0                 0                 0                 0                 0                 0                 0                 0                 0                 0                 0                 0                       0.000                      0.000                       0.000                      0.000                      0.000                       0.000  \n",
      "3                 0                 0                 0                 0                 0                 0                 0                 0                 0                 0                 0                 0                         NaN                        NaN                         NaN                        NaN                        NaN                         NaN  \n",
      "4                 0                 0                 0                 0                 0                 0                 0                 0                 0                 0                 0                 0                       0.000                      0.000                       0.000                      0.000                      0.000                       0.000  \n",
      "##################### Tail #####################\n",
      "        SK_ID_CURR  TARGET NAME_CONTRACT_TYPE CODE_GENDER FLAG_OWN_CAR FLAG_OWN_REALTY  CNT_CHILDREN  AMT_INCOME_TOTAL  AMT_CREDIT  AMT_ANNUITY  AMT_GOODS_PRICE NAME_TYPE_SUITE      NAME_INCOME_TYPE            NAME_EDUCATION_TYPE NAME_FAMILY_STATUS  NAME_HOUSING_TYPE  REGION_POPULATION_RELATIVE  DAYS_BIRTH  DAYS_EMPLOYED  DAYS_REGISTRATION  DAYS_ID_PUBLISH  OWN_CAR_AGE  FLAG_MOBIL  FLAG_EMP_PHONE  FLAG_WORK_PHONE  FLAG_CONT_MOBILE  FLAG_PHONE  FLAG_EMAIL OCCUPATION_TYPE  CNT_FAM_MEMBERS  \\\n",
      "307506      456251       0         Cash loans           M            N               N             0        157500.000  254700.000    27558.000       225000.000   Unaccompanied               Working  Secondary / secondary special          Separated       With parents                       0.033       -9327           -236          -8456.000            -1982          NaN           1               1                0                 1           0           0     Sales staff            1.000   \n",
      "307507      456252       0         Cash loans           F            N               Y             0         72000.000  269550.000    12001.500       225000.000   Unaccompanied             Pensioner  Secondary / secondary special              Widow  House / apartment                       0.025      -20775         365243          -4388.000            -4090          NaN           1               0                0                 1           1           0             NaN            1.000   \n",
      "307508      456253       0         Cash loans           F            N               Y             0        153000.000  677664.000    29979.000       585000.000   Unaccompanied               Working               Higher education          Separated  House / apartment                       0.005      -14966          -7921          -6737.000            -5150          NaN           1               1                0                 1           0           1        Managers            1.000   \n",
      "307509      456254       1         Cash loans           F            N               Y             0        171000.000  370107.000    20205.000       319500.000   Unaccompanied  Commercial associate  Secondary / secondary special            Married  House / apartment                       0.005      -11961          -4786          -2562.000             -931          NaN           1               1                0                 1           0           0        Laborers            2.000   \n",
      "307510      456255       0         Cash loans           F            N               N             0        157500.000  675000.000    49117.500       675000.000   Unaccompanied  Commercial associate               Higher education            Married  House / apartment                       0.046      -16856          -1262          -5128.000             -410          NaN           1               1                1                 1           1           0        Laborers            2.000   \n",
      "\n",
      "        REGION_RATING_CLIENT  REGION_RATING_CLIENT_W_CITY WEEKDAY_APPR_PROCESS_START  HOUR_APPR_PROCESS_START  REG_REGION_NOT_LIVE_REGION  REG_REGION_NOT_WORK_REGION  LIVE_REGION_NOT_WORK_REGION  REG_CITY_NOT_LIVE_CITY  REG_CITY_NOT_WORK_CITY  LIVE_CITY_NOT_WORK_CITY       ORGANIZATION_TYPE  EXT_SOURCE_1  EXT_SOURCE_2  EXT_SOURCE_3  APARTMENTS_AVG  BASEMENTAREA_AVG  YEARS_BEGINEXPLUATATION_AVG  YEARS_BUILD_AVG  COMMONAREA_AVG  ELEVATORS_AVG  ENTRANCES_AVG  FLOORSMAX_AVG  FLOORSMIN_AVG  \\\n",
      "307506                     1                            1                   THURSDAY                       15                           0                           0                            0                       0                       0                        0                Services         0.146         0.682           NaN           0.202             0.089                        0.988            0.830           0.020          0.220          0.103          0.604          0.271   \n",
      "307507                     2                            2                     MONDAY                        8                           0                           0                            0                       0                       0                        0                     XNA           NaN         0.116           NaN           0.025             0.043                        0.973            0.626           0.002          0.000          0.103          0.083          0.125   \n",
      "307508                     3                            3                   THURSDAY                        9                           0                           0                            0                       0                       1                        1                  School         0.744         0.536         0.219           0.103             0.086                        0.982            0.748           0.012          0.000          0.207          0.167          0.208   \n",
      "307509                     2                            2                  WEDNESDAY                        9                           0                           0                            0                       1                       1                        0  Business Entity Type 1           NaN         0.514         0.661           0.012               NaN                        0.977              NaN             NaN            NaN          0.069          0.042            NaN   \n",
      "307510                     1                            1                   THURSDAY                       20                           0                           0                            0                       0                       1                        1  Business Entity Type 3         0.734         0.709         0.114           0.074             0.053                        0.988              NaN           0.018          0.080          0.069          0.375            NaN   \n",
      "\n",
      "        LANDAREA_AVG  LIVINGAPARTMENTS_AVG  LIVINGAREA_AVG  NONLIVINGAPARTMENTS_AVG  NONLIVINGAREA_AVG  APARTMENTS_MODE  BASEMENTAREA_MODE  YEARS_BEGINEXPLUATATION_MODE  YEARS_BUILD_MODE  COMMONAREA_MODE  ELEVATORS_MODE  ENTRANCES_MODE  FLOORSMAX_MODE  FLOORSMIN_MODE  LANDAREA_MODE  LIVINGAPARTMENTS_MODE  LIVINGAREA_MODE  NONLIVINGAPARTMENTS_MODE  NONLIVINGAREA_MODE  APARTMENTS_MEDI  BASEMENTAREA_MEDI  YEARS_BEGINEXPLUATATION_MEDI  YEARS_BUILD_MEDI  COMMONAREA_MEDI  ELEVATORS_MEDI  \\\n",
      "307506         0.059                 0.148           0.197                    0.075              0.110            0.101              0.017                         0.978             0.713            0.017           0.081           0.035           0.458           0.042          0.009                  0.088            0.085                     0.000               0.013            0.204              0.089                         0.988             0.832            0.020           0.220   \n",
      "307507         0.058                 0.020           0.026                    0.000              0.000            0.025              0.045                         0.973             0.641            0.002           0.000           0.103           0.083           0.125          0.059                  0.022            0.027                     0.000               0.000            0.025              0.043                         0.973             0.631            0.002           0.000   \n",
      "307508           NaN                 0.084           0.928                    0.000              0.000            0.105              0.089                         0.982             0.758            0.012           0.000           0.207           0.167           0.208            NaN                  0.092            0.967                     0.000               0.000            0.104              0.086                         0.982             0.752            0.012           0.000   \n",
      "307509           NaN                   NaN           0.006                      NaN                NaN            0.013                NaN                         0.977               NaN              NaN             NaN           0.069           0.042             NaN            NaN                    NaN            0.006                       NaN                 NaN            0.013                NaN                         0.977               NaN              NaN             NaN   \n",
      "307510           NaN                   NaN           0.079                      NaN              0.000            0.076              0.055                         0.988               NaN            0.018           0.081           0.069           0.375             NaN            NaN                    NaN            0.082                       NaN               0.000            0.075              0.053                         0.988               NaN            0.018           0.080   \n",
      "\n",
      "        ENTRANCES_MEDI  FLOORSMAX_MEDI  FLOORSMIN_MEDI  LANDAREA_MEDI  LIVINGAPARTMENTS_MEDI  LIVINGAREA_MEDI  NONLIVINGAPARTMENTS_MEDI  NONLIVINGAREA_MEDI FONDKAPREMONT_MODE  HOUSETYPE_MODE  TOTALAREA_MODE WALLSMATERIAL_MODE EMERGENCYSTATE_MODE  OBS_30_CNT_SOCIAL_CIRCLE  DEF_30_CNT_SOCIAL_CIRCLE  OBS_60_CNT_SOCIAL_CIRCLE  DEF_60_CNT_SOCIAL_CIRCLE  DAYS_LAST_PHONE_CHANGE  FLAG_DOCUMENT_2  FLAG_DOCUMENT_3  FLAG_DOCUMENT_4  FLAG_DOCUMENT_5  FLAG_DOCUMENT_6  FLAG_DOCUMENT_7  FLAG_DOCUMENT_8  \\\n",
      "307506           0.103           0.604           0.271          0.060                  0.151            0.200                     0.076               0.112   reg oper account  block of flats           0.290       Stone, brick                  No                     0.000                     0.000                     0.000                     0.000                -273.000                0                0                0                0                0                0                1   \n",
      "307507           0.103           0.083           0.125          0.059                  0.021            0.026                     0.000               0.000   reg oper account  block of flats           0.021       Stone, brick                  No                     0.000                     0.000                     0.000                     0.000                   0.000                0                1                0                0                0                0                0   \n",
      "307508           0.207           0.167           0.208            NaN                  0.086            0.945                     0.000               0.000   reg oper account  block of flats           0.797              Panel                  No                     6.000                     0.000                     6.000                     0.000               -1909.000                0                1                0                0                0                0                0   \n",
      "307509           0.069           0.042             NaN            NaN                    NaN            0.006                       NaN                 NaN                NaN  block of flats           0.009       Stone, brick                  No                     0.000                     0.000                     0.000                     0.000                -322.000                0                1                0                0                0                0                0   \n",
      "307510           0.069           0.375             NaN            NaN                    NaN            0.081                       NaN               0.000                NaN  block of flats           0.072              Panel                  No                     0.000                     0.000                     0.000                     0.000                -787.000                0                1                0                0                0                0                0   \n",
      "\n",
      "        FLAG_DOCUMENT_9  FLAG_DOCUMENT_10  FLAG_DOCUMENT_11  FLAG_DOCUMENT_12  FLAG_DOCUMENT_13  FLAG_DOCUMENT_14  FLAG_DOCUMENT_15  FLAG_DOCUMENT_16  FLAG_DOCUMENT_17  FLAG_DOCUMENT_18  FLAG_DOCUMENT_19  FLAG_DOCUMENT_20  FLAG_DOCUMENT_21  AMT_REQ_CREDIT_BUREAU_HOUR  AMT_REQ_CREDIT_BUREAU_DAY  AMT_REQ_CREDIT_BUREAU_WEEK  AMT_REQ_CREDIT_BUREAU_MON  AMT_REQ_CREDIT_BUREAU_QRT  AMT_REQ_CREDIT_BUREAU_YEAR  \n",
      "307506                0                 0                 0                 0                 0                 0                 0                 0                 0                 0                 0                 0                 0                         NaN                        NaN                         NaN                        NaN                        NaN                         NaN  \n",
      "307507                0                 0                 0                 0                 0                 0                 0                 0                 0                 0                 0                 0                 0                         NaN                        NaN                         NaN                        NaN                        NaN                         NaN  \n",
      "307508                0                 0                 0                 0                 0                 0                 0                 0                 0                 0                 0                 0                 0                       1.000                      0.000                       0.000                      1.000                      0.000                       1.000  \n",
      "307509                0                 0                 0                 0                 0                 0                 0                 0                 0                 0                 0                 0                 0                       0.000                      0.000                       0.000                      0.000                      0.000                       0.000  \n",
      "307510                0                 0                 0                 0                 0                 0                 0                 0                 0                 0                 0                 0                 0                       0.000                      0.000                       0.000                      2.000                      0.000                       1.000  \n",
      "##################### NA #####################\n",
      "SK_ID_CURR                           0\n",
      "TARGET                               0\n",
      "NAME_CONTRACT_TYPE                   0\n",
      "CODE_GENDER                          0\n",
      "FLAG_OWN_CAR                         0\n",
      "FLAG_OWN_REALTY                      0\n",
      "CNT_CHILDREN                         0\n",
      "AMT_INCOME_TOTAL                     0\n",
      "AMT_CREDIT                           0\n",
      "AMT_ANNUITY                         12\n",
      "AMT_GOODS_PRICE                    278\n",
      "NAME_TYPE_SUITE                   1292\n",
      "NAME_INCOME_TYPE                     0\n",
      "NAME_EDUCATION_TYPE                  0\n",
      "NAME_FAMILY_STATUS                   0\n",
      "NAME_HOUSING_TYPE                    0\n",
      "REGION_POPULATION_RELATIVE           0\n",
      "DAYS_BIRTH                           0\n",
      "DAYS_EMPLOYED                        0\n",
      "DAYS_REGISTRATION                    0\n",
      "DAYS_ID_PUBLISH                      0\n",
      "OWN_CAR_AGE                     202929\n",
      "FLAG_MOBIL                           0\n",
      "FLAG_EMP_PHONE                       0\n",
      "FLAG_WORK_PHONE                      0\n",
      "FLAG_CONT_MOBILE                     0\n",
      "FLAG_PHONE                           0\n",
      "FLAG_EMAIL                           0\n",
      "OCCUPATION_TYPE                  96391\n",
      "CNT_FAM_MEMBERS                      2\n",
      "REGION_RATING_CLIENT                 0\n",
      "REGION_RATING_CLIENT_W_CITY          0\n",
      "WEEKDAY_APPR_PROCESS_START           0\n",
      "HOUR_APPR_PROCESS_START              0\n",
      "REG_REGION_NOT_LIVE_REGION           0\n",
      "REG_REGION_NOT_WORK_REGION           0\n",
      "LIVE_REGION_NOT_WORK_REGION          0\n",
      "REG_CITY_NOT_LIVE_CITY               0\n",
      "REG_CITY_NOT_WORK_CITY               0\n",
      "LIVE_CITY_NOT_WORK_CITY              0\n",
      "ORGANIZATION_TYPE                    0\n",
      "EXT_SOURCE_1                    173378\n",
      "EXT_SOURCE_2                       660\n",
      "EXT_SOURCE_3                     60965\n",
      "APARTMENTS_AVG                  156061\n",
      "BASEMENTAREA_AVG                179943\n",
      "YEARS_BEGINEXPLUATATION_AVG     150007\n",
      "YEARS_BUILD_AVG                 204488\n",
      "COMMONAREA_AVG                  214865\n",
      "ELEVATORS_AVG                   163891\n",
      "ENTRANCES_AVG                   154828\n",
      "FLOORSMAX_AVG                   153020\n",
      "FLOORSMIN_AVG                   208642\n",
      "LANDAREA_AVG                    182590\n",
      "LIVINGAPARTMENTS_AVG            210199\n",
      "LIVINGAREA_AVG                  154350\n",
      "NONLIVINGAPARTMENTS_AVG         213514\n",
      "NONLIVINGAREA_AVG               169682\n",
      "APARTMENTS_MODE                 156061\n",
      "BASEMENTAREA_MODE               179943\n",
      "YEARS_BEGINEXPLUATATION_MODE    150007\n",
      "YEARS_BUILD_MODE                204488\n",
      "COMMONAREA_MODE                 214865\n",
      "ELEVATORS_MODE                  163891\n",
      "ENTRANCES_MODE                  154828\n",
      "FLOORSMAX_MODE                  153020\n",
      "FLOORSMIN_MODE                  208642\n",
      "LANDAREA_MODE                   182590\n",
      "LIVINGAPARTMENTS_MODE           210199\n",
      "LIVINGAREA_MODE                 154350\n",
      "NONLIVINGAPARTMENTS_MODE        213514\n",
      "NONLIVINGAREA_MODE              169682\n",
      "APARTMENTS_MEDI                 156061\n",
      "BASEMENTAREA_MEDI               179943\n",
      "YEARS_BEGINEXPLUATATION_MEDI    150007\n",
      "YEARS_BUILD_MEDI                204488\n",
      "COMMONAREA_MEDI                 214865\n",
      "ELEVATORS_MEDI                  163891\n",
      "ENTRANCES_MEDI                  154828\n",
      "FLOORSMAX_MEDI                  153020\n",
      "FLOORSMIN_MEDI                  208642\n",
      "LANDAREA_MEDI                   182590\n",
      "LIVINGAPARTMENTS_MEDI           210199\n",
      "LIVINGAREA_MEDI                 154350\n",
      "NONLIVINGAPARTMENTS_MEDI        213514\n",
      "NONLIVINGAREA_MEDI              169682\n",
      "FONDKAPREMONT_MODE              210295\n",
      "HOUSETYPE_MODE                  154297\n",
      "TOTALAREA_MODE                  148431\n",
      "WALLSMATERIAL_MODE              156341\n",
      "EMERGENCYSTATE_MODE             145755\n",
      "OBS_30_CNT_SOCIAL_CIRCLE          1021\n",
      "DEF_30_CNT_SOCIAL_CIRCLE          1021\n",
      "OBS_60_CNT_SOCIAL_CIRCLE          1021\n",
      "DEF_60_CNT_SOCIAL_CIRCLE          1021\n",
      "DAYS_LAST_PHONE_CHANGE               1\n",
      "FLAG_DOCUMENT_2                      0\n",
      "FLAG_DOCUMENT_3                      0\n",
      "FLAG_DOCUMENT_4                      0\n",
      "FLAG_DOCUMENT_5                      0\n",
      "FLAG_DOCUMENT_6                      0\n",
      "FLAG_DOCUMENT_7                      0\n",
      "FLAG_DOCUMENT_8                      0\n",
      "FLAG_DOCUMENT_9                      0\n",
      "FLAG_DOCUMENT_10                     0\n",
      "FLAG_DOCUMENT_11                     0\n",
      "FLAG_DOCUMENT_12                     0\n",
      "FLAG_DOCUMENT_13                     0\n",
      "FLAG_DOCUMENT_14                     0\n",
      "FLAG_DOCUMENT_15                     0\n",
      "FLAG_DOCUMENT_16                     0\n",
      "FLAG_DOCUMENT_17                     0\n",
      "FLAG_DOCUMENT_18                     0\n",
      "FLAG_DOCUMENT_19                     0\n",
      "FLAG_DOCUMENT_20                     0\n",
      "FLAG_DOCUMENT_21                     0\n",
      "AMT_REQ_CREDIT_BUREAU_HOUR       41519\n",
      "AMT_REQ_CREDIT_BUREAU_DAY        41519\n",
      "AMT_REQ_CREDIT_BUREAU_WEEK       41519\n",
      "AMT_REQ_CREDIT_BUREAU_MON        41519\n",
      "AMT_REQ_CREDIT_BUREAU_QRT        41519\n",
      "AMT_REQ_CREDIT_BUREAU_YEAR       41519\n",
      "dtype: int64\n",
      "##################### Quantiles #####################\n",
      "                                  count       mean        std        min         0%         5%        50%         95%         99%          100%           max\n",
      "SK_ID_CURR                   307511.000 278180.519 102790.175 100002.000 100002.000 117945.500 278202.000  438427.500  452712.900    456255.000    456255.000\n",
      "TARGET                       307511.000      0.081      0.272      0.000      0.000      0.000      0.000       1.000       1.000         1.000         1.000\n",
      "CNT_CHILDREN                 307511.000      0.417      0.722      0.000      0.000      0.000      0.000       2.000       3.000        19.000        19.000\n",
      "AMT_INCOME_TOTAL             307511.000 168797.919 237123.146  25650.000  25650.000  67500.000 147150.000  337500.000  472500.000 117000000.000 117000000.000\n",
      "AMT_CREDIT                   307511.000 599026.000 402490.777  45000.000  45000.000 135000.000 513531.000 1350000.000 1854000.000   4050000.000   4050000.000\n",
      "AMT_ANNUITY                  307499.000  27108.574  14493.737   1615.500   1615.500   9000.000  24903.000   53325.000   70006.500    258025.500    258025.500\n",
      "AMT_GOODS_PRICE              307233.000 538396.207 369446.461  40500.000  40500.000 135000.000 450000.000 1305000.000 1800000.000   4050000.000   4050000.000\n",
      "REGION_POPULATION_RELATIVE   307511.000      0.021      0.014      0.000      0.000      0.005      0.019       0.046       0.073         0.073         0.073\n",
      "DAYS_BIRTH                   307511.000 -16036.995   4363.989 -25229.000 -25229.000 -23204.000 -15750.000   -9407.000   -8263.000     -7489.000     -7489.000\n",
      "DAYS_EMPLOYED                307511.000  63815.046 141275.767 -17912.000 -17912.000  -6742.500  -1213.000  365243.000  365243.000    365243.000    365243.000\n",
      "DAYS_REGISTRATION            307511.000  -4986.120   3522.886 -24672.000 -24672.000 -11416.000  -4504.000    -330.000     -50.000         0.000         0.000\n",
      "DAYS_ID_PUBLISH              307511.000  -2994.202   1509.450  -7197.000  -7197.000  -4944.000  -3254.000    -375.000     -61.000         0.000         0.000\n",
      "OWN_CAR_AGE                  104582.000     12.061     11.945      0.000      0.000      1.000      9.000      30.000      64.000        91.000        91.000\n",
      "FLAG_MOBIL                   307511.000      1.000      0.002      0.000      0.000      1.000      1.000       1.000       1.000         1.000         1.000\n",
      "FLAG_EMP_PHONE               307511.000      0.820      0.384      0.000      0.000      0.000      1.000       1.000       1.000         1.000         1.000\n",
      "FLAG_WORK_PHONE              307511.000      0.199      0.400      0.000      0.000      0.000      0.000       1.000       1.000         1.000         1.000\n",
      "FLAG_CONT_MOBILE             307511.000      0.998      0.043      0.000      0.000      1.000      1.000       1.000       1.000         1.000         1.000\n",
      "FLAG_PHONE                   307511.000      0.281      0.450      0.000      0.000      0.000      0.000       1.000       1.000         1.000         1.000\n",
      "FLAG_EMAIL                   307511.000      0.057      0.231      0.000      0.000      0.000      0.000       1.000       1.000         1.000         1.000\n",
      "CNT_FAM_MEMBERS              307509.000      2.153      0.911      1.000      1.000      1.000      2.000       4.000       5.000        20.000        20.000\n",
      "REGION_RATING_CLIENT         307511.000      2.052      0.509      1.000      1.000      1.000      2.000       3.000       3.000         3.000         3.000\n",
      "REGION_RATING_CLIENT_W_CITY  307511.000      2.032      0.503      1.000      1.000      1.000      2.000       3.000       3.000         3.000         3.000\n",
      "HOUR_APPR_PROCESS_START      307511.000     12.063      3.266      0.000      0.000      7.000     12.000      17.000      19.000        23.000        23.000\n",
      "REG_REGION_NOT_LIVE_REGION   307511.000      0.015      0.122      0.000      0.000      0.000      0.000       0.000       1.000         1.000         1.000\n",
      "REG_REGION_NOT_WORK_REGION   307511.000      0.051      0.220      0.000      0.000      0.000      0.000       1.000       1.000         1.000         1.000\n",
      "LIVE_REGION_NOT_WORK_REGION  307511.000      0.041      0.197      0.000      0.000      0.000      0.000       0.000       1.000         1.000         1.000\n",
      "REG_CITY_NOT_LIVE_CITY       307511.000      0.078      0.268      0.000      0.000      0.000      0.000       1.000       1.000         1.000         1.000\n",
      "REG_CITY_NOT_WORK_CITY       307511.000      0.230      0.421      0.000      0.000      0.000      0.000       1.000       1.000         1.000         1.000\n",
      "LIVE_CITY_NOT_WORK_CITY      307511.000      0.180      0.384      0.000      0.000      0.000      0.000       1.000       1.000         1.000         1.000\n",
      "EXT_SOURCE_1                 134133.000      0.502      0.211      0.015      0.015      0.158      0.506       0.832       0.889         0.963         0.963\n",
      "EXT_SOURCE_2                 306851.000      0.514      0.191      0.000      0.000      0.133      0.566       0.748       0.783         0.855         0.855\n",
      "EXT_SOURCE_3                 246546.000      0.511      0.195      0.001      0.001      0.155      0.535       0.786       0.833         0.896         0.896\n",
      "APARTMENTS_AVG               151450.000      0.117      0.108      0.000      0.000      0.008      0.088       0.327       0.545         1.000         1.000\n",
      "BASEMENTAREA_AVG             127568.000      0.088      0.082      0.000      0.000      0.000      0.076       0.224       0.386         1.000         1.000\n",
      "YEARS_BEGINEXPLUATATION_AVG  157504.000      0.978      0.059      0.000      0.000      0.969      0.982       0.996       0.999         1.000         1.000\n",
      "YEARS_BUILD_AVG              103023.000      0.752      0.113      0.000      0.000      0.592      0.755       0.952       0.986         1.000         1.000\n",
      "COMMONAREA_AVG                92646.000      0.045      0.076      0.000      0.000      0.000      0.021       0.160       0.377         1.000         1.000\n",
      "ELEVATORS_AVG                143620.000      0.079      0.135      0.000      0.000      0.000      0.000       0.360       0.600         1.000         1.000\n",
      "ENTRANCES_AVG                152683.000      0.150      0.100      0.000      0.000      0.035      0.138       0.310       0.517         1.000         1.000\n",
      "FLOORSMAX_AVG                154491.000      0.226      0.145      0.000      0.000      0.042      0.167       0.479       0.667         1.000         1.000\n",
      "FLOORSMIN_AVG                 98869.000      0.232      0.161      0.000      0.000      0.042      0.208       0.500       0.708         1.000         1.000\n",
      "LANDAREA_AVG                 124921.000      0.066      0.081      0.000      0.000      0.000      0.048       0.195       0.375         1.000         1.000\n",
      "LIVINGAPARTMENTS_AVG          97312.000      0.101      0.093      0.000      0.000      0.010      0.076       0.272       0.454         1.000         1.000\n",
      "LIVINGAREA_AVG               153161.000      0.107      0.111      0.000      0.000      0.008      0.074       0.321       0.551         1.000         1.000\n",
      "NONLIVINGAPARTMENTS_AVG       93997.000      0.009      0.048      0.000      0.000      0.000      0.000       0.031       0.108         1.000         1.000\n",
      "NONLIVINGAREA_AVG            137829.000      0.028      0.070      0.000      0.000      0.000      0.004       0.128       0.317         1.000         1.000\n",
      "APARTMENTS_MODE              151450.000      0.114      0.108      0.000      0.000      0.008      0.084       0.319       0.541         1.000         1.000\n",
      "BASEMENTAREA_MODE            127568.000      0.088      0.084      0.000      0.000      0.000      0.075       0.228       0.396         1.000         1.000\n",
      "YEARS_BEGINEXPLUATATION_MODE 157504.000      0.977      0.065      0.000      0.000      0.968      0.982       0.996       0.999         1.000         1.000\n",
      "YEARS_BUILD_MODE             103023.000      0.760      0.110      0.000      0.000      0.608      0.765       0.954       0.987         1.000         1.000\n",
      "COMMONAREA_MODE               92646.000      0.043      0.074      0.000      0.000      0.000      0.019       0.153       0.366         1.000         1.000\n",
      "ELEVATORS_MODE               143620.000      0.074      0.132      0.000      0.000      0.000      0.000       0.322       0.604         1.000         1.000\n",
      "ENTRANCES_MODE               152683.000      0.145      0.101      0.000      0.000      0.035      0.138       0.310       0.517         1.000         1.000\n",
      "FLOORSMAX_MODE               154491.000      0.222      0.144      0.000      0.000      0.042      0.167       0.458       0.667         1.000         1.000\n",
      "FLOORSMIN_MODE                98869.000      0.228      0.161      0.000      0.000      0.042      0.208       0.500       0.708         1.000         1.000\n",
      "LANDAREA_MODE                124921.000      0.065      0.082      0.000      0.000      0.000      0.046       0.196       0.379         1.000         1.000\n",
      "LIVINGAPARTMENTS_MODE         97312.000      0.106      0.098      0.000      0.000      0.011      0.077       0.295       0.488         1.000         1.000\n",
      "LIVINGAREA_MODE              153161.000      0.106      0.112      0.000      0.000      0.008      0.073       0.323       0.562         1.000         1.000\n",
      "NONLIVINGAPARTMENTS_MODE      93997.000      0.008      0.046      0.000      0.000      0.000      0.000       0.027       0.097         1.000         1.000\n",
      "NONLIVINGAREA_MODE           137829.000      0.027      0.070      0.000      0.000      0.000      0.001       0.129       0.322         1.000         1.000\n",
      "APARTMENTS_MEDI              151450.000      0.118      0.109      0.000      0.000      0.008      0.086       0.330       0.550         1.000         1.000\n",
      "BASEMENTAREA_MEDI            127568.000      0.088      0.082      0.000      0.000      0.000      0.076       0.223       0.385         1.000         1.000\n",
      "YEARS_BEGINEXPLUATATION_MEDI 157504.000      0.978      0.060      0.000      0.000      0.969      0.982       0.996       0.999         1.000         1.000\n",
      "YEARS_BUILD_MEDI             103023.000      0.756      0.112      0.000      0.000      0.598      0.758       0.953       0.987         1.000         1.000\n",
      "COMMONAREA_MEDI               92646.000      0.045      0.076      0.000      0.000      0.000      0.021       0.161       0.379         1.000         1.000\n",
      "ELEVATORS_MEDI               143620.000      0.078      0.134      0.000      0.000      0.000      0.000       0.360       0.600         1.000         1.000\n",
      "ENTRANCES_MEDI               152683.000      0.149      0.100      0.000      0.000      0.035      0.138       0.310       0.517         1.000         1.000\n",
      "FLOORSMAX_MEDI               154491.000      0.226      0.145      0.000      0.000      0.042      0.167       0.479       0.667         1.000         1.000\n",
      "FLOORSMIN_MEDI                98869.000      0.232      0.162      0.000      0.000      0.042      0.208       0.500       0.708         1.000         1.000\n",
      "LANDAREA_MEDI                124921.000      0.067      0.082      0.000      0.000      0.000      0.049       0.198       0.381         1.000         1.000\n",
      "LIVINGAPARTMENTS_MEDI         97312.000      0.102      0.094      0.000      0.000      0.010      0.076       0.277       0.462         1.000         1.000\n",
      "LIVINGAREA_MEDI              153161.000      0.109      0.112      0.000      0.000      0.008      0.075       0.326       0.558         1.000         1.000\n",
      "NONLIVINGAPARTMENTS_MEDI      93997.000      0.009      0.047      0.000      0.000      0.000      0.000       0.031       0.105         1.000         1.000\n",
      "NONLIVINGAREA_MEDI           137829.000      0.028      0.070      0.000      0.000      0.000      0.003       0.130       0.321         1.000         1.000\n",
      "TOTALAREA_MODE               159080.000      0.103      0.107      0.000      0.000      0.007      0.069       0.309       0.526         1.000         1.000\n",
      "OBS_30_CNT_SOCIAL_CIRCLE     306490.000      1.422      2.401      0.000      0.000      0.000      0.000       6.000      10.000       348.000       348.000\n",
      "DEF_30_CNT_SOCIAL_CIRCLE     306490.000      0.143      0.447      0.000      0.000      0.000      0.000       1.000       2.000        34.000        34.000\n",
      "OBS_60_CNT_SOCIAL_CIRCLE     306490.000      1.405      2.380      0.000      0.000      0.000      0.000       6.000      10.000       344.000       344.000\n",
      "DEF_60_CNT_SOCIAL_CIRCLE     306490.000      0.100      0.362      0.000      0.000      0.000      0.000       1.000       2.000        24.000        24.000\n",
      "DAYS_LAST_PHONE_CHANGE       307510.000   -962.859    826.808  -4292.000  -4292.000  -2522.000   -757.000       0.000       0.000         0.000         0.000\n",
      "FLAG_DOCUMENT_2              307511.000      0.000      0.007      0.000      0.000      0.000      0.000       0.000       0.000         1.000         1.000\n",
      "FLAG_DOCUMENT_3              307511.000      0.710      0.454      0.000      0.000      0.000      1.000       1.000       1.000         1.000         1.000\n",
      "FLAG_DOCUMENT_4              307511.000      0.000      0.009      0.000      0.000      0.000      0.000       0.000       0.000         1.000         1.000\n",
      "FLAG_DOCUMENT_5              307511.000      0.015      0.122      0.000      0.000      0.000      0.000       0.000       1.000         1.000         1.000\n",
      "FLAG_DOCUMENT_6              307511.000      0.088      0.283      0.000      0.000      0.000      0.000       1.000       1.000         1.000         1.000\n",
      "FLAG_DOCUMENT_7              307511.000      0.000      0.014      0.000      0.000      0.000      0.000       0.000       0.000         1.000         1.000\n",
      "FLAG_DOCUMENT_8              307511.000      0.081      0.273      0.000      0.000      0.000      0.000       1.000       1.000         1.000         1.000\n",
      "FLAG_DOCUMENT_9              307511.000      0.004      0.062      0.000      0.000      0.000      0.000       0.000       0.000         1.000         1.000\n",
      "FLAG_DOCUMENT_10             307511.000      0.000      0.005      0.000      0.000      0.000      0.000       0.000       0.000         1.000         1.000\n",
      "FLAG_DOCUMENT_11             307511.000      0.004      0.062      0.000      0.000      0.000      0.000       0.000       0.000         1.000         1.000\n",
      "FLAG_DOCUMENT_12             307511.000      0.000      0.003      0.000      0.000      0.000      0.000       0.000       0.000         1.000         1.000\n",
      "FLAG_DOCUMENT_13             307511.000      0.004      0.059      0.000      0.000      0.000      0.000       0.000       0.000         1.000         1.000\n",
      "FLAG_DOCUMENT_14             307511.000      0.003      0.054      0.000      0.000      0.000      0.000       0.000       0.000         1.000         1.000\n",
      "FLAG_DOCUMENT_15             307511.000      0.001      0.035      0.000      0.000      0.000      0.000       0.000       0.000         1.000         1.000\n",
      "FLAG_DOCUMENT_16             307511.000      0.010      0.099      0.000      0.000      0.000      0.000       0.000       0.000         1.000         1.000\n",
      "FLAG_DOCUMENT_17             307511.000      0.000      0.016      0.000      0.000      0.000      0.000       0.000       0.000         1.000         1.000\n",
      "FLAG_DOCUMENT_18             307511.000      0.008      0.090      0.000      0.000      0.000      0.000       0.000       0.000         1.000         1.000\n",
      "FLAG_DOCUMENT_19             307511.000      0.001      0.024      0.000      0.000      0.000      0.000       0.000       0.000         1.000         1.000\n",
      "FLAG_DOCUMENT_20             307511.000      0.001      0.023      0.000      0.000      0.000      0.000       0.000       0.000         1.000         1.000\n",
      "FLAG_DOCUMENT_21             307511.000      0.000      0.018      0.000      0.000      0.000      0.000       0.000       0.000         1.000         1.000\n",
      "AMT_REQ_CREDIT_BUREAU_HOUR   265992.000      0.006      0.084      0.000      0.000      0.000      0.000       0.000       0.000         4.000         4.000\n",
      "AMT_REQ_CREDIT_BUREAU_DAY    265992.000      0.007      0.111      0.000      0.000      0.000      0.000       0.000       0.000         9.000         9.000\n",
      "AMT_REQ_CREDIT_BUREAU_WEEK   265992.000      0.034      0.205      0.000      0.000      0.000      0.000       0.000       1.000         8.000         8.000\n",
      "AMT_REQ_CREDIT_BUREAU_MON    265992.000      0.267      0.916      0.000      0.000      0.000      0.000       1.000       4.000        27.000        27.000\n",
      "AMT_REQ_CREDIT_BUREAU_QRT    265992.000      0.265      0.794      0.000      0.000      0.000      0.000       2.000       2.000       261.000       261.000\n",
      "AMT_REQ_CREDIT_BUREAU_YEAR   265992.000      1.900      1.869      0.000      0.000      0.000      1.000       6.000       8.000        25.000        25.000\n"
     ]
    }
   ],
   "source": [
    "# Preliminary examination of the data set\n",
    "\n",
    "def check_df(dataframe, head=5):\n",
    "    print('##################### Shape #####################')\n",
    "    print(dataframe.shape)\n",
    "    print('##################### Types #####################')\n",
    "    print(dataframe.dtypes)\n",
    "    print('##################### Head #####################')\n",
    "    print(dataframe.head(head))\n",
    "    print('##################### Tail #####################')\n",
    "    print(dataframe.tail(head))\n",
    "    print('##################### NA #####################')\n",
    "    print(dataframe.isnull().sum())\n",
    "    print('##################### Quantiles #####################')\n",
    "    print(dataframe.describe([0, 0.05, 0.50, 0.95, 0.99, 1]).T)\n",
    "\n",
    "check_df(df_application_train)"
   ]
  },
  {
   "cell_type": "code",
   "execution_count": 58,
   "id": "840ebae3",
   "metadata": {
    "execution": {
     "iopub.execute_input": "2023-07-06T21:33:50.952289Z",
     "iopub.status.busy": "2023-07-06T21:33:50.951949Z",
     "iopub.status.idle": "2023-07-06T21:33:50.961200Z",
     "shell.execute_reply": "2023-07-06T21:33:50.959969Z"
    },
    "papermill": {
     "duration": 0.032204,
     "end_time": "2023-07-06T21:33:50.963174",
     "exception": false,
     "start_time": "2023-07-06T21:33:50.930970",
     "status": "completed"
    },
    "tags": []
   },
   "outputs": [],
   "source": [
    "# Examination of the types of variables in the data set.\n",
    "\n",
    "def grab_col_names(dataframe, cat_th=10, car_th=20):\n",
    "    \"\"\"\n",
    "\n",
    "    Returns the names of categorical, numeric and categorical but cardinal variables in the data set.\n",
    "    Note Categorical variables include categorical variables with numeric appearance.\n",
    "\n",
    "    Parameters\n",
    "    ------\n",
    "        dataframe: dataframe\n",
    "                Variable names of the dataframe to be taken\n",
    "        cat_th: int, optional\n",
    "                class threshold for numeric but categorical variables\n",
    "        car_th: int, optinal\n",
    "                class threshold for categorical but cardinal variables\n",
    "\n",
    "    Returns\n",
    "    ------\n",
    "        cat_cols: list\n",
    "                Categorical variable list\n",
    "        num_cols: list\n",
    "                Numeric variable list\n",
    "        cat_but_car: list\n",
    "                List of cardinal variables with categorical appearance\n",
    "\n",
    "    Examples\n",
    "    ------\n",
    "        import seaborn as sns\n",
    "        df = sns.load_dataset(\"iris\")\n",
    "        print(grab_col_names(df))\n",
    "\n",
    "\n",
    "    Notes\n",
    "    ------\n",
    "        cat_cols + num_cols + cat_but_car = total number of variables\n",
    "        num_but_cat is inside cat_cols.\n",
    "        The sum of the 3 return lists equals the total number of variables: cat_cols + num_cols + cat_but_car = number of variables\n",
    "\n",
    "    \"\"\"\n",
    "\n",
    "    # cat_cols, cat_but_car\n",
    "    cat_cols = [col for col in dataframe.columns if dataframe[col].dtypes == \"O\"] \n",
    "\n",
    "    num_but_cat = [col for col in dataframe.columns if dataframe[col].nunique() < cat_th and\n",
    "                   dataframe[col].dtypes != \"O\"]\n",
    "\n",
    "    cat_but_car = [col for col in dataframe.columns if dataframe[col].nunique() > car_th and\n",
    "                   dataframe[col].dtypes == \"O\"]\n",
    "\n",
    "    cat_cols = cat_cols + num_but_cat\n",
    "\n",
    "    cat_cols = [col for col in cat_cols if col not in cat_but_car] \n",
    "\n",
    "    num_cols = [col for col in dataframe.columns if dataframe[col].dtypes != \"O\"] \n",
    "\n",
    "    num_cols = [col for col in num_cols if col not in num_but_cat] \n",
    "    \n",
    "    print(f\"Observations: {dataframe.shape[0]}\") # data frame in içerisindeki gözlem sayısına eriştik.\n",
    "    print(f\"Variables: {dataframe.shape[1]}\") # data frame in içerisindeki değişken sayısına eriştik.\n",
    "    print(f'cat_cols: {len(cat_cols)}') # kaçtane kategorik değişken olduğunu tespit ettik.\n",
    "    print(f'num_cols: {len(num_cols)}') # kaç tane nümerik değişken olduğunu tespit ettik.\n",
    "    print(f'cat_but_car: {len(cat_but_car)}') # kaç tane kardinal değişken olduğunu tespit ettik.\n",
    "    print(f'num_but_cat: {len(num_but_cat)}') # kaç tane numerik gibi görünüp kategorik olan değişken olduğunu belirledi\n",
    "\n",
    "\n",
    "    return cat_cols, num_cols, cat_but_car "
   ]
  },
  {
   "cell_type": "code",
   "execution_count": 59,
   "id": "88ffb207",
   "metadata": {
    "execution": {
     "iopub.execute_input": "2023-07-06T21:33:51.004558Z",
     "iopub.status.busy": "2023-07-06T21:33:51.004198Z",
     "iopub.status.idle": "2023-07-06T21:33:52.013705Z",
     "shell.execute_reply": "2023-07-06T21:33:52.013050Z"
    },
    "papermill": {
     "duration": 1.031997,
     "end_time": "2023-07-06T21:33:52.015497",
     "exception": false,
     "start_time": "2023-07-06T21:33:50.983500",
     "status": "completed"
    },
    "tags": []
   },
   "outputs": [
    {
     "name": "stdout",
     "output_type": "stream",
     "text": [
      "Observations: 307511\n",
      "Variables: 122\n",
      "cat_cols: 54\n",
      "num_cols: 67\n",
      "cat_but_car: 1\n",
      "num_but_cat: 39\n"
     ]
    }
   ],
   "source": [
    "# Assigning the lists returned from the grap_col_names function to variables.\n",
    "\n",
    "cat_cols, num_cols, cat_but_car = grab_col_names(df_application_train)"
   ]
  },
  {
   "cell_type": "code",
   "execution_count": 60,
   "id": "d0ed4fd0",
   "metadata": {
    "execution": {
     "iopub.execute_input": "2023-07-06T21:33:52.057491Z",
     "iopub.status.busy": "2023-07-06T21:33:52.056915Z",
     "iopub.status.idle": "2023-07-06T21:33:52.063731Z",
     "shell.execute_reply": "2023-07-06T21:33:52.062796Z"
    },
    "papermill": {
     "duration": 0.030365,
     "end_time": "2023-07-06T21:33:52.065645",
     "exception": false,
     "start_time": "2023-07-06T21:33:52.035280",
     "status": "completed"
    },
    "tags": []
   },
   "outputs": [
    {
     "data": {
      "text/plain": [
       "['NAME_CONTRACT_TYPE',\n",
       " 'CODE_GENDER',\n",
       " 'FLAG_OWN_CAR',\n",
       " 'FLAG_OWN_REALTY',\n",
       " 'NAME_TYPE_SUITE',\n",
       " 'NAME_INCOME_TYPE',\n",
       " 'NAME_EDUCATION_TYPE',\n",
       " 'NAME_FAMILY_STATUS',\n",
       " 'NAME_HOUSING_TYPE',\n",
       " 'OCCUPATION_TYPE',\n",
       " 'WEEKDAY_APPR_PROCESS_START',\n",
       " 'FONDKAPREMONT_MODE',\n",
       " 'HOUSETYPE_MODE',\n",
       " 'WALLSMATERIAL_MODE',\n",
       " 'EMERGENCYSTATE_MODE',\n",
       " 'TARGET',\n",
       " 'FLAG_MOBIL',\n",
       " 'FLAG_EMP_PHONE',\n",
       " 'FLAG_WORK_PHONE',\n",
       " 'FLAG_CONT_MOBILE',\n",
       " 'FLAG_PHONE',\n",
       " 'FLAG_EMAIL',\n",
       " 'REGION_RATING_CLIENT',\n",
       " 'REGION_RATING_CLIENT_W_CITY',\n",
       " 'REG_REGION_NOT_LIVE_REGION',\n",
       " 'REG_REGION_NOT_WORK_REGION',\n",
       " 'LIVE_REGION_NOT_WORK_REGION',\n",
       " 'REG_CITY_NOT_LIVE_CITY',\n",
       " 'REG_CITY_NOT_WORK_CITY',\n",
       " 'LIVE_CITY_NOT_WORK_CITY',\n",
       " 'DEF_60_CNT_SOCIAL_CIRCLE',\n",
       " 'FLAG_DOCUMENT_2',\n",
       " 'FLAG_DOCUMENT_3',\n",
       " 'FLAG_DOCUMENT_4',\n",
       " 'FLAG_DOCUMENT_5',\n",
       " 'FLAG_DOCUMENT_6',\n",
       " 'FLAG_DOCUMENT_7',\n",
       " 'FLAG_DOCUMENT_8',\n",
       " 'FLAG_DOCUMENT_9',\n",
       " 'FLAG_DOCUMENT_10',\n",
       " 'FLAG_DOCUMENT_11',\n",
       " 'FLAG_DOCUMENT_12',\n",
       " 'FLAG_DOCUMENT_13',\n",
       " 'FLAG_DOCUMENT_14',\n",
       " 'FLAG_DOCUMENT_15',\n",
       " 'FLAG_DOCUMENT_16',\n",
       " 'FLAG_DOCUMENT_17',\n",
       " 'FLAG_DOCUMENT_18',\n",
       " 'FLAG_DOCUMENT_19',\n",
       " 'FLAG_DOCUMENT_20',\n",
       " 'FLAG_DOCUMENT_21',\n",
       " 'AMT_REQ_CREDIT_BUREAU_HOUR',\n",
       " 'AMT_REQ_CREDIT_BUREAU_DAY',\n",
       " 'AMT_REQ_CREDIT_BUREAU_WEEK']"
      ]
     },
     "execution_count": 60,
     "metadata": {},
     "output_type": "execute_result"
    }
   ],
   "source": [
    "# List of categorical variables\n",
    "\n",
    "cat_cols"
   ]
  },
  {
   "cell_type": "code",
   "execution_count": 61,
   "id": "04d91a68",
   "metadata": {
    "execution": {
     "iopub.execute_input": "2023-07-06T21:33:52.107236Z",
     "iopub.status.busy": "2023-07-06T21:33:52.106844Z",
     "iopub.status.idle": "2023-07-06T21:33:52.114405Z",
     "shell.execute_reply": "2023-07-06T21:33:52.113129Z"
    },
    "papermill": {
     "duration": 0.031619,
     "end_time": "2023-07-06T21:33:52.117162",
     "exception": false,
     "start_time": "2023-07-06T21:33:52.085543",
     "status": "completed"
    },
    "tags": []
   },
   "outputs": [
    {
     "data": {
      "text/plain": [
       "['SK_ID_CURR',\n",
       " 'CNT_CHILDREN',\n",
       " 'AMT_INCOME_TOTAL',\n",
       " 'AMT_CREDIT',\n",
       " 'AMT_ANNUITY',\n",
       " 'AMT_GOODS_PRICE',\n",
       " 'REGION_POPULATION_RELATIVE',\n",
       " 'DAYS_BIRTH',\n",
       " 'DAYS_EMPLOYED',\n",
       " 'DAYS_REGISTRATION',\n",
       " 'DAYS_ID_PUBLISH',\n",
       " 'OWN_CAR_AGE',\n",
       " 'CNT_FAM_MEMBERS',\n",
       " 'HOUR_APPR_PROCESS_START',\n",
       " 'EXT_SOURCE_1',\n",
       " 'EXT_SOURCE_2',\n",
       " 'EXT_SOURCE_3',\n",
       " 'APARTMENTS_AVG',\n",
       " 'BASEMENTAREA_AVG',\n",
       " 'YEARS_BEGINEXPLUATATION_AVG',\n",
       " 'YEARS_BUILD_AVG',\n",
       " 'COMMONAREA_AVG',\n",
       " 'ELEVATORS_AVG',\n",
       " 'ENTRANCES_AVG',\n",
       " 'FLOORSMAX_AVG',\n",
       " 'FLOORSMIN_AVG',\n",
       " 'LANDAREA_AVG',\n",
       " 'LIVINGAPARTMENTS_AVG',\n",
       " 'LIVINGAREA_AVG',\n",
       " 'NONLIVINGAPARTMENTS_AVG',\n",
       " 'NONLIVINGAREA_AVG',\n",
       " 'APARTMENTS_MODE',\n",
       " 'BASEMENTAREA_MODE',\n",
       " 'YEARS_BEGINEXPLUATATION_MODE',\n",
       " 'YEARS_BUILD_MODE',\n",
       " 'COMMONAREA_MODE',\n",
       " 'ELEVATORS_MODE',\n",
       " 'ENTRANCES_MODE',\n",
       " 'FLOORSMAX_MODE',\n",
       " 'FLOORSMIN_MODE',\n",
       " 'LANDAREA_MODE',\n",
       " 'LIVINGAPARTMENTS_MODE',\n",
       " 'LIVINGAREA_MODE',\n",
       " 'NONLIVINGAPARTMENTS_MODE',\n",
       " 'NONLIVINGAREA_MODE',\n",
       " 'APARTMENTS_MEDI',\n",
       " 'BASEMENTAREA_MEDI',\n",
       " 'YEARS_BEGINEXPLUATATION_MEDI',\n",
       " 'YEARS_BUILD_MEDI',\n",
       " 'COMMONAREA_MEDI',\n",
       " 'ELEVATORS_MEDI',\n",
       " 'ENTRANCES_MEDI',\n",
       " 'FLOORSMAX_MEDI',\n",
       " 'FLOORSMIN_MEDI',\n",
       " 'LANDAREA_MEDI',\n",
       " 'LIVINGAPARTMENTS_MEDI',\n",
       " 'LIVINGAREA_MEDI',\n",
       " 'NONLIVINGAPARTMENTS_MEDI',\n",
       " 'NONLIVINGAREA_MEDI',\n",
       " 'TOTALAREA_MODE',\n",
       " 'OBS_30_CNT_SOCIAL_CIRCLE',\n",
       " 'DEF_30_CNT_SOCIAL_CIRCLE',\n",
       " 'OBS_60_CNT_SOCIAL_CIRCLE',\n",
       " 'DAYS_LAST_PHONE_CHANGE',\n",
       " 'AMT_REQ_CREDIT_BUREAU_MON',\n",
       " 'AMT_REQ_CREDIT_BUREAU_QRT',\n",
       " 'AMT_REQ_CREDIT_BUREAU_YEAR']"
      ]
     },
     "execution_count": 61,
     "metadata": {},
     "output_type": "execute_result"
    }
   ],
   "source": [
    "# List of numerical variables\n",
    "\n",
    "num_cols"
   ]
  },
  {
   "cell_type": "code",
   "execution_count": 62,
   "id": "c409f6d7",
   "metadata": {
    "execution": {
     "iopub.execute_input": "2023-07-06T21:33:52.159912Z",
     "iopub.status.busy": "2023-07-06T21:33:52.159566Z",
     "iopub.status.idle": "2023-07-06T21:33:52.164273Z",
     "shell.execute_reply": "2023-07-06T21:33:52.163021Z"
    },
    "papermill": {
     "duration": 0.027831,
     "end_time": "2023-07-06T21:33:52.166153",
     "exception": false,
     "start_time": "2023-07-06T21:33:52.138322",
     "status": "completed"
    },
    "tags": []
   },
   "outputs": [],
   "source": [
    "# \"SK_ID_CURR\" The variable '\"SK_ID_CURR\" looks like a numerical variable, but it does not make sense to us. It is not a numeric variable.\n",
    "\n",
    "num_cols = [col for col in num_cols if col not in \"SK_ID_CURR\"]"
   ]
  },
  {
   "cell_type": "code",
   "execution_count": 63,
   "id": "1d4b7853",
   "metadata": {
    "execution": {
     "iopub.execute_input": "2023-07-06T21:33:52.207774Z",
     "iopub.status.busy": "2023-07-06T21:33:52.207352Z",
     "iopub.status.idle": "2023-07-06T21:33:52.215534Z",
     "shell.execute_reply": "2023-07-06T21:33:52.214205Z"
    },
    "papermill": {
     "duration": 0.031362,
     "end_time": "2023-07-06T21:33:52.217552",
     "exception": false,
     "start_time": "2023-07-06T21:33:52.186190",
     "status": "completed"
    },
    "tags": []
   },
   "outputs": [
    {
     "data": {
      "text/plain": [
       "['CNT_CHILDREN',\n",
       " 'AMT_INCOME_TOTAL',\n",
       " 'AMT_CREDIT',\n",
       " 'AMT_ANNUITY',\n",
       " 'AMT_GOODS_PRICE',\n",
       " 'REGION_POPULATION_RELATIVE',\n",
       " 'DAYS_BIRTH',\n",
       " 'DAYS_EMPLOYED',\n",
       " 'DAYS_REGISTRATION',\n",
       " 'DAYS_ID_PUBLISH',\n",
       " 'OWN_CAR_AGE',\n",
       " 'CNT_FAM_MEMBERS',\n",
       " 'HOUR_APPR_PROCESS_START',\n",
       " 'EXT_SOURCE_1',\n",
       " 'EXT_SOURCE_2',\n",
       " 'EXT_SOURCE_3',\n",
       " 'APARTMENTS_AVG',\n",
       " 'BASEMENTAREA_AVG',\n",
       " 'YEARS_BEGINEXPLUATATION_AVG',\n",
       " 'YEARS_BUILD_AVG',\n",
       " 'COMMONAREA_AVG',\n",
       " 'ELEVATORS_AVG',\n",
       " 'ENTRANCES_AVG',\n",
       " 'FLOORSMAX_AVG',\n",
       " 'FLOORSMIN_AVG',\n",
       " 'LANDAREA_AVG',\n",
       " 'LIVINGAPARTMENTS_AVG',\n",
       " 'LIVINGAREA_AVG',\n",
       " 'NONLIVINGAPARTMENTS_AVG',\n",
       " 'NONLIVINGAREA_AVG',\n",
       " 'APARTMENTS_MODE',\n",
       " 'BASEMENTAREA_MODE',\n",
       " 'YEARS_BEGINEXPLUATATION_MODE',\n",
       " 'YEARS_BUILD_MODE',\n",
       " 'COMMONAREA_MODE',\n",
       " 'ELEVATORS_MODE',\n",
       " 'ENTRANCES_MODE',\n",
       " 'FLOORSMAX_MODE',\n",
       " 'FLOORSMIN_MODE',\n",
       " 'LANDAREA_MODE',\n",
       " 'LIVINGAPARTMENTS_MODE',\n",
       " 'LIVINGAREA_MODE',\n",
       " 'NONLIVINGAPARTMENTS_MODE',\n",
       " 'NONLIVINGAREA_MODE',\n",
       " 'APARTMENTS_MEDI',\n",
       " 'BASEMENTAREA_MEDI',\n",
       " 'YEARS_BEGINEXPLUATATION_MEDI',\n",
       " 'YEARS_BUILD_MEDI',\n",
       " 'COMMONAREA_MEDI',\n",
       " 'ELEVATORS_MEDI',\n",
       " 'ENTRANCES_MEDI',\n",
       " 'FLOORSMAX_MEDI',\n",
       " 'FLOORSMIN_MEDI',\n",
       " 'LANDAREA_MEDI',\n",
       " 'LIVINGAPARTMENTS_MEDI',\n",
       " 'LIVINGAREA_MEDI',\n",
       " 'NONLIVINGAPARTMENTS_MEDI',\n",
       " 'NONLIVINGAREA_MEDI',\n",
       " 'TOTALAREA_MODE',\n",
       " 'OBS_30_CNT_SOCIAL_CIRCLE',\n",
       " 'DEF_30_CNT_SOCIAL_CIRCLE',\n",
       " 'OBS_60_CNT_SOCIAL_CIRCLE',\n",
       " 'DAYS_LAST_PHONE_CHANGE',\n",
       " 'AMT_REQ_CREDIT_BUREAU_MON',\n",
       " 'AMT_REQ_CREDIT_BUREAU_QRT',\n",
       " 'AMT_REQ_CREDIT_BUREAU_YEAR']"
      ]
     },
     "execution_count": 63,
     "metadata": {},
     "output_type": "execute_result"
    }
   ],
   "source": [
    "num_cols"
   ]
  },
  {
   "cell_type": "code",
   "execution_count": 64,
   "id": "b9d4f2d6",
   "metadata": {
    "execution": {
     "iopub.execute_input": "2023-07-06T21:33:52.260391Z",
     "iopub.status.busy": "2023-07-06T21:33:52.260049Z",
     "iopub.status.idle": "2023-07-06T21:33:52.266652Z",
     "shell.execute_reply": "2023-07-06T21:33:52.265558Z"
    },
    "papermill": {
     "duration": 0.030682,
     "end_time": "2023-07-06T21:33:52.268824",
     "exception": false,
     "start_time": "2023-07-06T21:33:52.238142",
     "status": "completed"
    },
    "tags": []
   },
   "outputs": [
    {
     "data": {
      "text/plain": [
       "['ORGANIZATION_TYPE']"
      ]
     },
     "execution_count": 64,
     "metadata": {},
     "output_type": "execute_result"
    }
   ],
   "source": [
    "# List of variables that appear to be categorical but are cardinal\n",
    "\n",
    "cat_but_car"
   ]
  },
  {
   "cell_type": "code",
   "execution_count": 65,
   "id": "6e7181c4",
   "metadata": {
    "execution": {
     "iopub.execute_input": "2023-07-06T21:33:52.309201Z",
     "iopub.status.busy": "2023-07-06T21:33:52.308853Z",
     "iopub.status.idle": "2023-07-06T21:33:52.313831Z",
     "shell.execute_reply": "2023-07-06T21:33:52.313131Z"
    },
    "papermill": {
     "duration": 0.027213,
     "end_time": "2023-07-06T21:33:52.315624",
     "exception": false,
     "start_time": "2023-07-06T21:33:52.288411",
     "status": "completed"
    },
    "tags": []
   },
   "outputs": [],
   "source": [
    "# Threshold determination function for outliers\n",
    "\n",
    "def outlier_thresholds(dataframe, col_name, q1=0.25, q3=0.75): \n",
    "    quartile1 = dataframe[col_name].quantile(q1) \n",
    "    quartile3 = dataframe[col_name].quantile(q3)\n",
    "    interquantile_range = quartile3 - quartile1\n",
    "    up_limit = quartile3 + 1.5 * interquantile_range\n",
    "    low_limit = quartile1 - 1.5 * interquantile_range\n",
    "    return low_limit, up_limit"
   ]
  },
  {
   "cell_type": "code",
   "execution_count": 66,
   "id": "b5c3e3a3",
   "metadata": {
    "execution": {
     "iopub.execute_input": "2023-07-06T21:33:52.357462Z",
     "iopub.status.busy": "2023-07-06T21:33:52.356942Z",
     "iopub.status.idle": "2023-07-06T21:33:52.361315Z",
     "shell.execute_reply": "2023-07-06T21:33:52.360575Z"
    },
    "papermill": {
     "duration": 0.027226,
     "end_time": "2023-07-06T21:33:52.363006",
     "exception": false,
     "start_time": "2023-07-06T21:33:52.335780",
     "status": "completed"
    },
    "tags": []
   },
   "outputs": [],
   "source": [
    "def boxplot_outliers(dataframe, col_name):\n",
    "    plt.figure(figsize=(5, 5))\n",
    "    sns.boxplot(x=dataframe[col_name])\n",
    "    plt.show(block=True)"
   ]
  },
  {
   "cell_type": "code",
   "execution_count": 67,
   "id": "37d67972",
   "metadata": {
    "execution": {
     "iopub.execute_input": "2023-07-06T21:33:52.403818Z",
     "iopub.status.busy": "2023-07-06T21:33:52.403465Z",
     "iopub.status.idle": "2023-07-06T21:34:01.456478Z",
     "shell.execute_reply": "2023-07-06T21:34:01.455672Z"
    },
    "papermill": {
     "duration": 9.075373,
     "end_time": "2023-07-06T21:34:01.458149",
     "exception": false,
     "start_time": "2023-07-06T21:33:52.382776",
     "status": "completed"
    },
    "tags": []
   },
   "outputs": [
    {
     "data": {
      "image/png": "[encoded data removed]",
      "text/plain": [
       "<Figure size 500x500 with 1 Axes>"
      ]
     },
     "metadata": {},
     "output_type": "display_data"
    },
    {
     "data": {
      "image/png": "[encoded data removed]",
      "text/plain": [
       "<Figure size 500x500 with 1 Axes>"
      ]
     },
     "metadata": {},
     "output_type": "display_data"
    },
    {
     "data": {
      "image/png": "[encoded data removed]",
      "text/plain": [
       "<Figure size 500x500 with 1 Axes>"
      ]
     },
     "metadata": {},
     "output_type": "display_data"
    },
    {
     "data": {
      "image/png": "[encoded data removed]",
      "text/plain": [
       "<Figure size 500x500 with 1 Axes>"
      ]
     },
     "metadata": {},
     "output_type": "display_data"
    },
    {
     "data": {
      "image/png": "[encoded data removed]",
      "text/plain": [
       "<Figure size 500x500 with 1 Axes>"
      ]
     },
     "metadata": {},
     "output_type": "display_data"
    },
    {
     "data": {
      "image/png": "[encoded data removed]",
      "text/plain": [
       "<Figure size 500x500 with 1 Axes>"
      ]
     },
     "metadata": {},
     "output_type": "display_data"
    },
    {
     "data": {
      "image/png": "[encoded data removed]",
      "text/plain": [
       "<Figure size 500x500 with 1 Axes>"
      ]
     },
     "metadata": {},
     "output_type": "display_data"
    },
    {
     "data": {
      "image/png": "[encoded data removed]",
      "text/plain": [
       "<Figure size 500x500 with 1 Axes>"
      ]
     },
     "metadata": {},
     "output_type": "display_data"
    },
    {
     "data": {
      "image/png": "[encoded data removed]",
      "text/plain": [
       "<Figure size 500x500 with 1 Axes>"
      ]
     },
     "metadata": {},
     "output_type": "display_data"
    },
    {
     "data": {
      "image/png": "[encoded data removed]",
      "text/plain": [
       "<Figure size 500x500 with 1 Axes>"
      ]
     },
     "metadata": {},
     "output_type": "display_data"
    },
    {
     "data": {
      "image/png": "[encoded data removed]",
      "text/plain": [
       "<Figure size 500x500 with 1 Axes>"
      ]
     },
     "metadata": {},
     "output_type": "display_data"
    },
    {
     "data": {
      "image/png": "[encoded data removed]",
      "text/plain": [
       "<Figure size 500x500 with 1 Axes>"
      ]
     },
     "metadata": {},
     "output_type": "display_data"
    },
    {
     "data": {
      "image/png": "[encoded data removed]",
      "text/plain": [
       "<Figure size 500x500 with 1 Axes>"
      ]
     },
     "metadata": {},
     "output_type": "display_data"
    },
    {
     "data": {
      "image/png": "[encoded data removed]",
      "text/plain": [
       "<Figure size 500x500 with 1 Axes>"
      ]
     },
     "metadata": {},
     "output_type": "display_data"
    },
    {
     "data": {
      "image/png": "[encoded data removed]",
      "text/plain": [
       "<Figure size 500x500 with 1 Axes>"
      ]
     },
     "metadata": {},
     "output_type": "display_data"
    },
    {
     "data": {
      "image/png": "[encoded data removed]",
      "text/plain": [
       "<Figure size 500x500 with 1 Axes>"
      ]
     },
     "metadata": {},
     "output_type": "display_data"
    },
    {
     "data": {
      "image/png": "[encoded data removed]",
      "text/plain": [
       "<Figure size 500x500 with 1 Axes>"
      ]
     },
     "metadata": {},
     "output_type": "display_data"
    },
    {
     "data": {
      "image/png": "[encoded data removed]",
      "text/plain": [
       "<Figure size 500x500 with 1 Axes>"
      ]
     },
     "metadata": {},
     "output_type": "display_data"
    },
    {
     "data": {
      "image/png": "[encoded data removed]",
      "text/plain": [
       "<Figure size 500x500 with 1 Axes>"
      ]
     },
     "metadata": {},
     "output_type": "display_data"
    },
    {
     "data": {
      "image/png": "[encoded data removed]",
      "text/plain": [
       "<Figure size 500x500 with 1 Axes>"
      ]
     },
     "metadata": {},
     "output_type": "display_data"
    },
    {
     "data": {
      "image/png": "[encoded data removed]",
      "text/plain": [
       "<Figure size 500x500 with 1 Axes>"
      ]
     },
     "metadata": {},
     "output_type": "display_data"
    },
    {
     "data": {
      "image/png": "[encoded data removed]",
      "text/plain": [
       "<Figure size 500x500 with 1 Axes>"
      ]
     },
     "metadata": {},
     "output_type": "display_data"
    },
    {
     "data": {
      "image/png": "[encoded data removed]",
      "text/plain": [
       "<Figure size 500x500 with 1 Axes>"
      ]
     },
     "metadata": {},
     "output_type": "display_data"
    },
    {
     "data": {
      "image/png": "[encoded data removed]",
      "text/plain": [
       "<Figure size 500x500 with 1 Axes>"
      ]
     },
     "metadata": {},
     "output_type": "display_data"
    },
    {
     "data": {
      "image/png": "[encoded data removed]",
      "text/plain": [
       "<Figure size 500x500 with 1 Axes>"
      ]
     },
     "metadata": {},
     "output_type": "display_data"
    },
    {
     "data": {
      "image/png": "[encoded data removed]",
      "text/plain": [
       "<Figure size 500x500 with 1 Axes>"
      ]
     },
     "metadata": {},
     "output_type": "display_data"
    },
    {
     "data": {
      "image/png": "[encoded data removed]",
      "text/plain": [
       "<Figure size 500x500 with 1 Axes>"
      ]
     },
     "metadata": {},
     "output_type": "display_data"
    },
    {
     "data": {
      "image/png": "[encoded data removed]",
      "text/plain": [
       "<Figure size 500x500 with 1 Axes>"
      ]
     },
     "metadata": {},
     "output_type": "display_data"
    },
    {
     "data": {
      "image/png": "[encoded data removed]",
      "text/plain": [
       "<Figure size 500x500 with 1 Axes>"
      ]
     },
     "metadata": {},
     "output_type": "display_data"
    },
    {
     "data": {
      "image/png": "[encoded data removed]",
      "text/plain": [
       "<Figure size 500x500 with 1 Axes>"
      ]
     },
     "metadata": {},
     "output_type": "display_data"
    },
    {
     "data": {
      "image/png": "[encoded data removed]",
      "text/plain": [
       "<Figure size 500x500 with 1 Axes>"
      ]
     },
     "metadata": {},
     "output_type": "display_data"
    },
    {
     "data": {
      "image/png": "[encoded data removed]",
      "text/plain": [
       "<Figure size 500x500 with 1 Axes>"
      ]
     },
     "metadata": {},
     "output_type": "display_data"
    },
    {
     "data": {
      "image/png": "[encoded data removed]",
      "text/plain": [
       "<Figure size 500x500 with 1 Axes>"
      ]
     },
     "metadata": {},
     "output_type": "display_data"
    },
    {
     "data": {
      "image/png": "[encoded data removed]",
      "text/plain": [
       "<Figure size 500x500 with 1 Axes>"
      ]
     },
     "metadata": {},
     "output_type": "display_data"
    },
    {
     "data": {
      "image/png": "[encoded data removed]",
      "text/plain": [
       "<Figure size 500x500 with 1 Axes>"
      ]
     },
     "metadata": {},
     "output_type": "display_data"
    },
    {
     "data": {
      "image/png": "[encoded data removed]",
      "text/plain": [
       "<Figure size 500x500 with 1 Axes>"
      ]
     },
     "metadata": {},
     "output_type": "display_data"
    },
    {
     "data": {
      "image/png": "[encoded data removed]",
      "text/plain": [
       "<Figure size 500x500 with 1 Axes>"
      ]
     },
     "metadata": {},
     "output_type": "display_data"
    },
    {
     "data": {
      "image/png": "[encoded data removed]",
      "text/plain": [
       "<Figure size 500x500 with 1 Axes>"
      ]
     },
     "metadata": {},
     "output_type": "display_data"
    },
    {
     "data": {
      "image/png": "[encoded data removed]",
      "text/plain": [
       "<Figure size 500x500 with 1 Axes>"
      ]
     },
     "metadata": {},
     "output_type": "display_data"
    },
    {
     "data": {
      "image/png": "[encoded data removed]",
      "text/plain": [
       "<Figure size 500x500 with 1 Axes>"
      ]
     },
     "metadata": {},
     "output_type": "display_data"
    },
    {
     "data": {
      "image/png": "[encoded data removed]",
      "text/plain": [
       "<Figure size 500x500 with 1 Axes>"
      ]
     },
     "metadata": {},
     "output_type": "display_data"
    },
    {
     "data": {
      "image/png": "[encoded data removed]",
      "text/plain": [
       "<Figure size 500x500 with 1 Axes>"
      ]
     },
     "metadata": {},
     "output_type": "display_data"
    },
    {
     "data": {
      "image/png": "[encoded data removed]",
      "text/plain": [
       "<Figure size 500x500 with 1 Axes>"
      ]
     },
     "metadata": {},
     "output_type": "display_data"
    },
    {
     "data": {
      "image/png": "[encoded data removed]",
      "text/plain": [
       "<Figure size 500x500 with 1 Axes>"
      ]
     },
     "metadata": {},
     "output_type": "display_data"
    },
    {
     "data": {
      "image/png": "[encoded data removed]",
      "text/plain": [
       "<Figure size 500x500 with 1 Axes>"
      ]
     },
     "metadata": {},
     "output_type": "display_data"
    },
    {
     "data": {
      "image/png": "[encoded data removed]",
      "text/plain": [
       "<Figure size 500x500 with 1 Axes>"
      ]
     },
     "metadata": {},
     "output_type": "display_data"
    },
    {
     "data": {
      "image/png": "[encoded data removed]",
      "text/plain": [
       "<Figure size 500x500 with 1 Axes>"
      ]
     },
     "metadata": {},
     "output_type": "display_data"
    },
    {
     "data": {
      "image/png": "[encoded data removed]",
      "text/plain": [
       "<Figure size 500x500 with 1 Axes>"
      ]
     },
     "metadata": {},
     "output_type": "display_data"
    },
    {
     "data": {
      "image/png": "[encoded data removed]",
      "text/plain": [
       "<Figure size 500x500 with 1 Axes>"
      ]
     },
     "metadata": {},
     "output_type": "display_data"
    },
    {
     "data": {
      "image/png": "[encoded data removed]",
      "text/plain": [
       "<Figure size 500x500 with 1 Axes>"
      ]
     },
     "metadata": {},
     "output_type": "display_data"
    },
    {
     "data": {
      "image/png": "[encoded data removed]",
      "text/plain": [
       "<Figure size 500x500 with 1 Axes>"
      ]
     },
     "metadata": {},
     "output_type": "display_data"
    },
    {
     "data": {
      "image/png": "[encoded data removed]",
      "text/plain": [
       "<Figure size 500x500 with 1 Axes>"
      ]
     },
     "metadata": {},
     "output_type": "display_data"
    },
    {
     "data": {
      "image/png": "[encoded data removed]",
      "text/plain": [
       "<Figure size 500x500 with 1 Axes>"
      ]
     },
     "metadata": {},
     "output_type": "display_data"
    },
    {
     "data": {
      "image/png": "[encoded data removed]",
      "text/plain": [
       "<Figure size 500x500 with 1 Axes>"
      ]
     },
     "metadata": {},
     "output_type": "display_data"
    },
    {
     "data": {
      "image/png": "[encoded data removed]",
      "text/plain": [
       "<Figure size 500x500 with 1 Axes>"
      ]
     },
     "metadata": {},
     "output_type": "display_data"
    },
    {
     "data": {
      "image/png": "[encoded data removed]",
      "text/plain": [
       "<Figure size 500x500 with 1 Axes>"
      ]
     },
     "metadata": {},
     "output_type": "display_data"
    },
    {
     "data": {
      "image/png": "[encoded data removed]",
      "text/plain": [
       "<Figure size 500x500 with 1 Axes>"
      ]
     },
     "metadata": {},
     "output_type": "display_data"
    },
    {
     "data": {
      "image/png": "[encoded data removed]",
      "text/plain": [
       "<Figure size 500x500 with 1 Axes>"
      ]
     },
     "metadata": {},
     "output_type": "display_data"
    },
    {
     "data": {
      "image/png": "[encoded data removed]",
      "text/plain": [
       "<Figure size 500x500 with 1 Axes>"
      ]
     },
     "metadata": {},
     "output_type": "display_data"
    },
    {
     "data": {
      "image/png": "[encoded data removed]",
      "text/plain": [
       "<Figure size 500x500 with 1 Axes>"
      ]
     },
     "metadata": {},
     "output_type": "display_data"
    },
    {
     "data": {
      "image/png": "[encoded data removed]",
      "text/plain": [
       "<Figure size 500x500 with 1 Axes>"
      ]
     },
     "metadata": {},
     "output_type": "display_data"
    },
    {
     "data": {
      "image/png": "[encoded data removed]",
      "text/plain": [
       "<Figure size 500x500 with 1 Axes>"
      ]
     },
     "metadata": {},
     "output_type": "display_data"
    },
    {
     "data": {
      "image/png": "[encoded data removed]",
      "text/plain": [
       "<Figure size 500x500 with 1 Axes>"
      ]
     },
     "metadata": {},
     "output_type": "display_data"
    },
    {
     "data": {
      "image/png": "[encoded data removed]",
      "text/plain": [
       "<Figure size 500x500 with 1 Axes>"
      ]
     },
     "metadata": {},
     "output_type": "display_data"
    },
    {
     "data": {
      "image/png": "[encoded data removed]",
      "text/plain": [
       "<Figure size 500x500 with 1 Axes>"
      ]
     },
     "metadata": {},
     "output_type": "display_data"
    },
    {
     "data": {
      "image/png": "[encoded data removed]",
      "text/plain": [
       "<Figure size 500x500 with 1 Axes>"
      ]
     },
     "metadata": {},
     "output_type": "display_data"
    }
   ],
   "source": [
    "for col in num_cols:\n",
    "    boxplot_outliers(df_application_train, col)"
   ]
  },
  {
   "cell_type": "code",
   "execution_count": 68,
   "id": "bd742aa8",
   "metadata": {
    "execution": {
     "iopub.execute_input": "2023-07-06T21:34:01.532076Z",
     "iopub.status.busy": "2023-07-06T21:34:01.531724Z",
     "iopub.status.idle": "2023-07-06T21:34:01.537690Z",
     "shell.execute_reply": "2023-07-06T21:34:01.536472Z"
    },
    "papermill": {
     "duration": 0.04231,
     "end_time": "2023-07-06T21:34:01.539555",
     "exception": false,
     "start_time": "2023-07-06T21:34:01.497245",
     "status": "completed"
    },
    "tags": []
   },
   "outputs": [],
   "source": [
    "# Checking outliers.\n",
    "\n",
    "def check_outlier(dataframe, col_name): \n",
    "    low_limit, up_limit = outlier_thresholds(dataframe, col_name)\n",
    "    if dataframe[(dataframe[col_name] > up_limit) | (dataframe[col_name] < low_limit)].any(axis=None):\n",
    "        return True\n",
    "    else:\n",
    "        return False"
   ]
  },
  {
   "cell_type": "code",
   "execution_count": 69,
   "id": "507b061e",
   "metadata": {
    "execution": {
     "iopub.execute_input": "2023-07-06T21:34:01.606662Z",
     "iopub.status.busy": "2023-07-06T21:34:01.605501Z",
     "iopub.status.idle": "2023-07-06T21:34:05.397560Z",
     "shell.execute_reply": "2023-07-06T21:34:05.395859Z"
    },
    "papermill": {
     "duration": 3.827656,
     "end_time": "2023-07-06T21:34:05.399632",
     "exception": false,
     "start_time": "2023-07-06T21:34:01.571976",
     "status": "completed"
    },
    "tags": []
   },
   "outputs": [
    {
     "name": "stdout",
     "output_type": "stream",
     "text": [
      "CNT_CHILDREN True\n",
      "AMT_INCOME_TOTAL True\n",
      "AMT_CREDIT True\n",
      "AMT_ANNUITY True\n",
      "AMT_GOODS_PRICE True\n",
      "REGION_POPULATION_RELATIVE True\n",
      "DAYS_BIRTH False\n",
      "DAYS_EMPLOYED True\n",
      "DAYS_REGISTRATION True\n",
      "DAYS_ID_PUBLISH False\n",
      "OWN_CAR_AGE True\n",
      "CNT_FAM_MEMBERS True\n",
      "HOUR_APPR_PROCESS_START True\n",
      "EXT_SOURCE_1 False\n",
      "EXT_SOURCE_2 False\n",
      "EXT_SOURCE_3 False\n",
      "APARTMENTS_AVG True\n",
      "BASEMENTAREA_AVG True\n",
      "YEARS_BEGINEXPLUATATION_AVG True\n",
      "YEARS_BUILD_AVG True\n",
      "COMMONAREA_AVG True\n",
      "ELEVATORS_AVG True\n",
      "ENTRANCES_AVG True\n",
      "FLOORSMAX_AVG True\n",
      "FLOORSMIN_AVG True\n",
      "LANDAREA_AVG True\n",
      "LIVINGAPARTMENTS_AVG True\n",
      "LIVINGAREA_AVG True\n",
      "NONLIVINGAPARTMENTS_AVG True\n",
      "NONLIVINGAREA_AVG True\n",
      "APARTMENTS_MODE True\n",
      "BASEMENTAREA_MODE True\n",
      "YEARS_BEGINEXPLUATATION_MODE True\n",
      "YEARS_BUILD_MODE True\n",
      "COMMONAREA_MODE True\n",
      "ELEVATORS_MODE True\n",
      "ENTRANCES_MODE True\n",
      "FLOORSMAX_MODE True\n",
      "FLOORSMIN_MODE True\n",
      "LANDAREA_MODE True\n",
      "LIVINGAPARTMENTS_MODE True\n",
      "LIVINGAREA_MODE True\n",
      "NONLIVINGAPARTMENTS_MODE True\n",
      "NONLIVINGAREA_MODE True\n",
      "APARTMENTS_MEDI True\n",
      "BASEMENTAREA_MEDI True\n",
      "YEARS_BEGINEXPLUATATION_MEDI True\n",
      "YEARS_BUILD_MEDI True\n",
      "COMMONAREA_MEDI True\n",
      "ELEVATORS_MEDI True\n",
      "ENTRANCES_MEDI True\n",
      "FLOORSMAX_MEDI True\n",
      "FLOORSMIN_MEDI True\n",
      "LANDAREA_MEDI True\n",
      "LIVINGAPARTMENTS_MEDI True\n",
      "LIVINGAREA_MEDI True\n",
      "NONLIVINGAPARTMENTS_MEDI True\n",
      "NONLIVINGAREA_MEDI True\n",
      "TOTALAREA_MODE True\n",
      "OBS_30_CNT_SOCIAL_CIRCLE True\n",
      "DEF_30_CNT_SOCIAL_CIRCLE True\n",
      "OBS_60_CNT_SOCIAL_CIRCLE True\n",
      "DAYS_LAST_PHONE_CHANGE True\n",
      "AMT_REQ_CREDIT_BUREAU_MON True\n",
      "AMT_REQ_CREDIT_BUREAU_QRT True\n",
      "AMT_REQ_CREDIT_BUREAU_YEAR True\n"
     ]
    }
   ],
   "source": [
    "for col in num_cols: \n",
    "    print(col, check_outlier(df_application_train, col))"
   ]
  },
  {
   "cell_type": "code",
   "execution_count": 70,
   "id": "0b0fa6f9",
   "metadata": {
    "execution": {
     "iopub.execute_input": "2023-07-06T21:34:05.469267Z",
     "iopub.status.busy": "2023-07-06T21:34:05.468448Z",
     "iopub.status.idle": "2023-07-06T21:34:06.276490Z",
     "shell.execute_reply": "2023-07-06T21:34:06.275461Z"
    },
    "papermill": {
     "duration": 0.844631,
     "end_time": "2023-07-06T21:34:06.278733",
     "exception": false,
     "start_time": "2023-07-06T21:34:05.434102",
     "status": "completed"
    },
    "tags": []
   },
   "outputs": [],
   "source": [
    "for col in num_cols: \n",
    "    replace_with_thresholds(df_application_train, col)"
   ]
  },
  {
   "cell_type": "code",
   "execution_count": 71,
   "id": "e62cac4c",
   "metadata": {
    "execution": {
     "iopub.execute_input": "2023-07-06T21:34:06.346871Z",
     "iopub.status.busy": "2023-07-06T21:34:06.346528Z",
     "iopub.status.idle": "2023-07-06T21:34:07.216053Z",
     "shell.execute_reply": "2023-07-06T21:34:07.215077Z"
    },
    "papermill": {
     "duration": 0.90654,
     "end_time": "2023-07-06T21:34:07.218207",
     "exception": false,
     "start_time": "2023-07-06T21:34:06.311667",
     "status": "completed"
    },
    "tags": []
   },
   "outputs": [
    {
     "name": "stdout",
     "output_type": "stream",
     "text": [
      "CNT_CHILDREN False\n",
      "AMT_INCOME_TOTAL False\n",
      "AMT_CREDIT False\n",
      "AMT_ANNUITY False\n",
      "AMT_GOODS_PRICE False\n",
      "REGION_POPULATION_RELATIVE False\n",
      "DAYS_BIRTH False\n",
      "DAYS_EMPLOYED False\n",
      "DAYS_REGISTRATION False\n",
      "DAYS_ID_PUBLISH False\n",
      "OWN_CAR_AGE False\n",
      "CNT_FAM_MEMBERS False\n",
      "HOUR_APPR_PROCESS_START False\n",
      "EXT_SOURCE_1 False\n",
      "EXT_SOURCE_2 False\n",
      "EXT_SOURCE_3 False\n",
      "APARTMENTS_AVG False\n",
      "BASEMENTAREA_AVG False\n",
      "YEARS_BEGINEXPLUATATION_AVG False\n",
      "YEARS_BUILD_AVG False\n",
      "COMMONAREA_AVG False\n",
      "ELEVATORS_AVG False\n",
      "ENTRANCES_AVG False\n",
      "FLOORSMAX_AVG False\n",
      "FLOORSMIN_AVG False\n",
      "LANDAREA_AVG False\n",
      "LIVINGAPARTMENTS_AVG False\n",
      "LIVINGAREA_AVG False\n",
      "NONLIVINGAPARTMENTS_AVG False\n",
      "NONLIVINGAREA_AVG False\n",
      "APARTMENTS_MODE False\n",
      "BASEMENTAREA_MODE False\n",
      "YEARS_BEGINEXPLUATATION_MODE False\n",
      "YEARS_BUILD_MODE False\n",
      "COMMONAREA_MODE False\n",
      "ELEVATORS_MODE False\n",
      "ENTRANCES_MODE False\n",
      "FLOORSMAX_MODE False\n",
      "FLOORSMIN_MODE False\n",
      "LANDAREA_MODE False\n",
      "LIVINGAPARTMENTS_MODE False\n",
      "LIVINGAREA_MODE False\n",
      "NONLIVINGAPARTMENTS_MODE False\n",
      "NONLIVINGAREA_MODE False\n",
      "APARTMENTS_MEDI False\n",
      "BASEMENTAREA_MEDI False\n",
      "YEARS_BEGINEXPLUATATION_MEDI False\n",
      "YEARS_BUILD_MEDI False\n",
      "COMMONAREA_MEDI False\n",
      "ELEVATORS_MEDI False\n",
      "ENTRANCES_MEDI False\n",
      "FLOORSMAX_MEDI False\n",
      "FLOORSMIN_MEDI False\n",
      "LANDAREA_MEDI False\n",
      "LIVINGAPARTMENTS_MEDI False\n",
      "LIVINGAREA_MEDI False\n",
      "NONLIVINGAPARTMENTS_MEDI False\n",
      "NONLIVINGAREA_MEDI False\n",
      "TOTALAREA_MODE False\n",
      "OBS_30_CNT_SOCIAL_CIRCLE False\n",
      "DEF_30_CNT_SOCIAL_CIRCLE False\n",
      "OBS_60_CNT_SOCIAL_CIRCLE False\n",
      "DAYS_LAST_PHONE_CHANGE False\n",
      "AMT_REQ_CREDIT_BUREAU_MON False\n",
      "AMT_REQ_CREDIT_BUREAU_QRT False\n",
      "AMT_REQ_CREDIT_BUREAU_YEAR False\n"
     ]
    }
   ],
   "source": [
    "for col in num_cols: \n",
    "    print(col, check_outlier(df_application_train, col))"
   ]
  }
 ],
 "metadata": {
  "kernelspec": {
   "display_name": "Python 3",
   "language": "python",
   "name": "python3"
  },
  "language_info": {
   "codemirror_mode": {
    "name": "ipython",
    "version": 3
   },
   "file_extension": ".py",
   "mimetype": "text/x-python",
   "name": "python",
   "nbconvert_exporter": "python",
   "pygments_lexer": "ipython3",
   "version": "3.10.10"
  },
  "papermill": {
   "default_parameters": {},
   "duration": 37.677265,
   "end_time": "2023-07-06T21:34:08.271857",
   "environment_variables": {},
   "exception": null,
   "input_path": "__notebook__.ipynb",
   "output_path": "__notebook__.ipynb",
   "parameters": {},
   "start_time": "2023-07-06T21:33:30.594592",
   "version": "2.4.0"
  }
 },
 "nbformat": 4,
 "nbformat_minor": 5
}
